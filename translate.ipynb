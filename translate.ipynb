{
  "nbformat": 4,
  "nbformat_minor": 0,
  "metadata": {
    "colab": {
      "provenance": [],
      "authorship_tag": "ABX9TyM8Bq42VF4BjWDGbqqAJrm5",
      "include_colab_link": true
    },
    "kernelspec": {
      "name": "python3",
      "display_name": "Python 3"
    },
    "language_info": {
      "name": "python"
    },
    "accelerator": "GPU",
    "gpuClass": "standard"
  },
  "cells": [
    {
      "cell_type": "markdown",
      "metadata": {
        "id": "view-in-github",
        "colab_type": "text"
      },
      "source": [
        "<a href=\"https://colab.research.google.com/github/IshitaGopal/TelegramProject_23/blob/main/translate.ipynb\" target=\"_parent\"><img src=\"https://colab.research.google.com/assets/colab-badge.svg\" alt=\"Open In Colab\"/></a>"
      ]
    },
    {
      "cell_type": "code",
      "execution_count": null,
      "metadata": {
        "id": "92V5xS_VnXHS"
      },
      "outputs": [],
      "source": [
        "%%capture\n",
        "!pip install transformers\n",
        "!pip install SentencePiece\n",
        "!pip install sacremoses\n",
        "!pip install accelerate>=0.12.0\n",
        "!pip install bitsandbytes>=0.31.5\n"
      ]
    },
    {
      "cell_type": "code",
      "source": [
        "from transformers import MarianMTModel, MarianTokenizer, AutoTokenizer\n",
        "import pandas as pd\n",
        "import torch\n",
        "from tqdm import tqdm\n",
        "from tqdm import tqdm_notebook\n",
        "import re\n",
        "import math"
      ],
      "metadata": {
        "id": "E50QnDyK7iTg"
      },
      "execution_count": null,
      "outputs": []
    },
    {
      "cell_type": "code",
      "source": [
        "from psutil import virtual_memory\n",
        "ram_gb = virtual_memory().total / 1e9\n",
        "print('Your runtime has {:.1f} gigabytes of available RAM\\n'.format(ram_gb))\n",
        "\n",
        "if ram_gb < 20:\n",
        "  print('Not using a high-RAM runtime')\n",
        "else:\n",
        "  print('You are using a high-RAM runtime!')"
      ],
      "metadata": {
        "colab": {
          "base_uri": "https://localhost:8080/"
        },
        "id": "zsdStvrT7OE9",
        "outputId": "1258bcbf-91e2-41c9-85d4-5502bd4149dc"
      },
      "execution_count": null,
      "outputs": [
        {
          "output_type": "stream",
          "name": "stdout",
          "text": [
            "Your runtime has 13.6 gigabytes of available RAM\n",
            "\n",
            "Not using a high-RAM runtime\n"
          ]
        }
      ]
    },
    {
      "cell_type": "code",
      "source": [
        "# If there's a GPU available...\n",
        "if torch.cuda.is_available():    \n",
        "\n",
        "    # Tell PyTorch to use the GPU.    \n",
        "    device = torch.device(\"cuda\")\n",
        "\n",
        "    print('There are %d GPU(s) available.' % torch.cuda.device_count())\n",
        "\n",
        "    print('We will use the GPU:', torch.cuda.get_device_name(0))\n",
        "\n",
        "# If not...\n",
        "else:\n",
        "    print('No GPU available, using the CPU instead.')\n",
        "    device = torch.device(\"cpu\")"
      ],
      "metadata": {
        "colab": {
          "base_uri": "https://localhost:8080/"
        },
        "id": "0JDMt33K7cU3",
        "outputId": "ae53b4a0-a639-4e96-ee37-a02c60dbc1eb"
      },
      "execution_count": null,
      "outputs": [
        {
          "output_type": "stream",
          "name": "stdout",
          "text": [
            "There are 1 GPU(s) available.\n",
            "We will use the GPU: Tesla T4\n"
          ]
        }
      ]
    },
    {
      "cell_type": "code",
      "source": [
        "device\n"
      ],
      "metadata": {
        "colab": {
          "base_uri": "https://localhost:8080/"
        },
        "id": "z5H0FFSi71SW",
        "outputId": "2bf26da5-fc22-49bf-e6f0-3250c055aa74"
      },
      "execution_count": null,
      "outputs": [
        {
          "output_type": "execute_result",
          "data": {
            "text/plain": [
              "device(type='cuda')"
            ]
          },
          "metadata": {},
          "execution_count": 6
        }
      ]
    },
    {
      "cell_type": "code",
      "source": [
        "from google.colab import drive\n",
        "drive.mount('/content/drive')\n",
        "\n"
      ],
      "metadata": {
        "colab": {
          "base_uri": "https://localhost:8080/"
        },
        "id": "Qs2heEfdn5Mr",
        "outputId": "e33b8946-5cb3-45e1-f343-bbd7d2d399d8"
      },
      "execution_count": null,
      "outputs": [
        {
          "output_type": "stream",
          "name": "stdout",
          "text": [
            "Mounted at /content/drive\n"
          ]
        }
      ]
    },
    {
      "cell_type": "code",
      "source": [
        "# Get data (sample 100 messages) from google drive\n",
        "df = pd.read_csv(\"/content/drive/MyDrive/Telegram/analysis_data/telegram_data_sample_2020-08-09_2021-04-01.csv\")\n",
        "\n",
        "# Print out the first message \n",
        "df.message[0]"
      ],
      "metadata": {
        "colab": {
          "base_uri": "https://localhost:8080/",
          "height": 35
        },
        "id": "jY5LUpyV7VcZ",
        "outputId": "ab7b39e1-f410-4683-8def-c4ea4beeb7f9"
      },
      "execution_count": null,
      "outputs": [
        {
          "output_type": "execute_result",
          "data": {
            "text/plain": [
              "'Не смешите, интеграции не будет, беларусы уже не те бесхребетные молчаливый амёбы, если подует ветер народ даст отпор'"
            ],
            "application/vnd.google.colaboratory.intrinsic+json": {
              "type": "string"
            }
          },
          "metadata": {},
          "execution_count": 38
        }
      ]
    },
    {
      "cell_type": "code",
      "source": [
        "# sentence tokenize \n",
        "# Tokenize sentences for each paragraph\n",
        "df['sentences'] = df['message'].apply(lambda x: nltk.sent_tokenize(x))\n"
      ],
      "metadata": {
        "colab": {
          "base_uri": "https://localhost:8080/",
          "height": 204
        },
        "id": "_0DUnf7VGuCm",
        "outputId": "11138491-e5c3-429a-ba75-221fd46f5eae"
      },
      "execution_count": null,
      "outputs": [
        {
          "output_type": "error",
          "ename": "NameError",
          "evalue": "ignored",
          "traceback": [
            "\u001b[0;31m---------------------------------------------------------------------------\u001b[0m",
            "\u001b[0;31mNameError\u001b[0m                                 Traceback (most recent call last)",
            "\u001b[0;32m<ipython-input-1-503da49cc72d>\u001b[0m in \u001b[0;36m<cell line: 3>\u001b[0;34m()\u001b[0m\n\u001b[1;32m      1\u001b[0m \u001b[0;31m# sentence tokenize\u001b[0m\u001b[0;34m\u001b[0m\u001b[0;34m\u001b[0m\u001b[0m\n\u001b[1;32m      2\u001b[0m \u001b[0;31m# Tokenize sentences for each paragraph\u001b[0m\u001b[0;34m\u001b[0m\u001b[0;34m\u001b[0m\u001b[0m\n\u001b[0;32m----> 3\u001b[0;31m \u001b[0mdf\u001b[0m\u001b[0;34m[\u001b[0m\u001b[0;34m'sentences'\u001b[0m\u001b[0;34m]\u001b[0m \u001b[0;34m=\u001b[0m \u001b[0mdf\u001b[0m\u001b[0;34m[\u001b[0m\u001b[0;34m'message'\u001b[0m\u001b[0;34m]\u001b[0m\u001b[0;34m.\u001b[0m\u001b[0mapply\u001b[0m\u001b[0;34m(\u001b[0m\u001b[0;32mlambda\u001b[0m \u001b[0mx\u001b[0m\u001b[0;34m:\u001b[0m \u001b[0mnltk\u001b[0m\u001b[0;34m.\u001b[0m\u001b[0msent_tokenize\u001b[0m\u001b[0;34m(\u001b[0m\u001b[0mx\u001b[0m\u001b[0;34m)\u001b[0m\u001b[0;34m)\u001b[0m\u001b[0;34m\u001b[0m\u001b[0;34m\u001b[0m\u001b[0m\n\u001b[0m",
            "\u001b[0;31mNameError\u001b[0m: name 'df' is not defined"
          ]
        }
      ]
    },
    {
      "cell_type": "code",
      "source": [
        "f_ = \"sentTokenized_sample_Aug_Mar_2023-02-04.csv\"\n",
        "df = pd.read_csv(f_)\n",
        "print(df.shape)\n"
      ],
      "metadata": {
        "id": "ntX2gmJ8_I7q",
        "colab": {
          "base_uri": "https://localhost:8080/"
        },
        "outputId": "4e6b1627-6d41-452d-98ab-021d76f7ce53"
      },
      "execution_count": null,
      "outputs": [
        {
          "output_type": "stream",
          "name": "stdout",
          "text": [
            "(82864, 7)\n"
          ]
        }
      ]
    },
    {
      "cell_type": "code",
      "source": [
        "df.head(2)"
      ],
      "metadata": {
        "colab": {
          "base_uri": "https://localhost:8080/",
          "height": 112
        },
        "id": "4zr0-ong_J6L",
        "outputId": "e03f8737-8c2c-4c9d-872b-4acca74fcd81"
      },
      "execution_count": null,
      "outputs": [
        {
          "output_type": "execute_result",
          "data": {
            "text/plain": [
              "           unique_msg_id                                            message  \\\n",
              "0  majakrainablr_1145117                                              Шлюха   \n",
              "1  Svetlogorskchat_83952  плин. я не ваша таксистка но гугл картами умею...   \n",
              "\n",
              "  sentences  sent_idx clean_sent sent_Emojis  msg_len  \n",
              "0     Шлюха         0      Шлюха         NaN        5  \n",
              "1     плин.         0      плин.         NaN        5  "
            ],
            "text/html": [
              "\n",
              "  <div id=\"df-1ca52184-2b22-49cd-84f5-fff239d5e46f\">\n",
              "    <div class=\"colab-df-container\">\n",
              "      <div>\n",
              "<style scoped>\n",
              "    .dataframe tbody tr th:only-of-type {\n",
              "        vertical-align: middle;\n",
              "    }\n",
              "\n",
              "    .dataframe tbody tr th {\n",
              "        vertical-align: top;\n",
              "    }\n",
              "\n",
              "    .dataframe thead th {\n",
              "        text-align: right;\n",
              "    }\n",
              "</style>\n",
              "<table border=\"1\" class=\"dataframe\">\n",
              "  <thead>\n",
              "    <tr style=\"text-align: right;\">\n",
              "      <th></th>\n",
              "      <th>unique_msg_id</th>\n",
              "      <th>message</th>\n",
              "      <th>sentences</th>\n",
              "      <th>sent_idx</th>\n",
              "      <th>clean_sent</th>\n",
              "      <th>sent_Emojis</th>\n",
              "      <th>msg_len</th>\n",
              "    </tr>\n",
              "  </thead>\n",
              "  <tbody>\n",
              "    <tr>\n",
              "      <th>0</th>\n",
              "      <td>majakrainablr_1145117</td>\n",
              "      <td>Шлюха</td>\n",
              "      <td>Шлюха</td>\n",
              "      <td>0</td>\n",
              "      <td>Шлюха</td>\n",
              "      <td>NaN</td>\n",
              "      <td>5</td>\n",
              "    </tr>\n",
              "    <tr>\n",
              "      <th>1</th>\n",
              "      <td>Svetlogorskchat_83952</td>\n",
              "      <td>плин. я не ваша таксистка но гугл картами умею...</td>\n",
              "      <td>плин.</td>\n",
              "      <td>0</td>\n",
              "      <td>плин.</td>\n",
              "      <td>NaN</td>\n",
              "      <td>5</td>\n",
              "    </tr>\n",
              "  </tbody>\n",
              "</table>\n",
              "</div>\n",
              "      <button class=\"colab-df-convert\" onclick=\"convertToInteractive('df-1ca52184-2b22-49cd-84f5-fff239d5e46f')\"\n",
              "              title=\"Convert this dataframe to an interactive table.\"\n",
              "              style=\"display:none;\">\n",
              "        \n",
              "  <svg xmlns=\"http://www.w3.org/2000/svg\" height=\"24px\"viewBox=\"0 0 24 24\"\n",
              "       width=\"24px\">\n",
              "    <path d=\"M0 0h24v24H0V0z\" fill=\"none\"/>\n",
              "    <path d=\"M18.56 5.44l.94 2.06.94-2.06 2.06-.94-2.06-.94-.94-2.06-.94 2.06-2.06.94zm-11 1L8.5 8.5l.94-2.06 2.06-.94-2.06-.94L8.5 2.5l-.94 2.06-2.06.94zm10 10l.94 2.06.94-2.06 2.06-.94-2.06-.94-.94-2.06-.94 2.06-2.06.94z\"/><path d=\"M17.41 7.96l-1.37-1.37c-.4-.4-.92-.59-1.43-.59-.52 0-1.04.2-1.43.59L10.3 9.45l-7.72 7.72c-.78.78-.78 2.05 0 2.83L4 21.41c.39.39.9.59 1.41.59.51 0 1.02-.2 1.41-.59l7.78-7.78 2.81-2.81c.8-.78.8-2.07 0-2.86zM5.41 20L4 18.59l7.72-7.72 1.47 1.35L5.41 20z\"/>\n",
              "  </svg>\n",
              "      </button>\n",
              "      \n",
              "  <style>\n",
              "    .colab-df-container {\n",
              "      display:flex;\n",
              "      flex-wrap:wrap;\n",
              "      gap: 12px;\n",
              "    }\n",
              "\n",
              "    .colab-df-convert {\n",
              "      background-color: #E8F0FE;\n",
              "      border: none;\n",
              "      border-radius: 50%;\n",
              "      cursor: pointer;\n",
              "      display: none;\n",
              "      fill: #1967D2;\n",
              "      height: 32px;\n",
              "      padding: 0 0 0 0;\n",
              "      width: 32px;\n",
              "    }\n",
              "\n",
              "    .colab-df-convert:hover {\n",
              "      background-color: #E2EBFA;\n",
              "      box-shadow: 0px 1px 2px rgba(60, 64, 67, 0.3), 0px 1px 3px 1px rgba(60, 64, 67, 0.15);\n",
              "      fill: #174EA6;\n",
              "    }\n",
              "\n",
              "    [theme=dark] .colab-df-convert {\n",
              "      background-color: #3B4455;\n",
              "      fill: #D2E3FC;\n",
              "    }\n",
              "\n",
              "    [theme=dark] .colab-df-convert:hover {\n",
              "      background-color: #434B5C;\n",
              "      box-shadow: 0px 1px 3px 1px rgba(0, 0, 0, 0.15);\n",
              "      filter: drop-shadow(0px 1px 2px rgba(0, 0, 0, 0.3));\n",
              "      fill: #FFFFFF;\n",
              "    }\n",
              "  </style>\n",
              "\n",
              "      <script>\n",
              "        const buttonEl =\n",
              "          document.querySelector('#df-1ca52184-2b22-49cd-84f5-fff239d5e46f button.colab-df-convert');\n",
              "        buttonEl.style.display =\n",
              "          google.colab.kernel.accessAllowed ? 'block' : 'none';\n",
              "\n",
              "        async function convertToInteractive(key) {\n",
              "          const element = document.querySelector('#df-1ca52184-2b22-49cd-84f5-fff239d5e46f');\n",
              "          const dataTable =\n",
              "            await google.colab.kernel.invokeFunction('convertToInteractive',\n",
              "                                                     [key], {});\n",
              "          if (!dataTable) return;\n",
              "\n",
              "          const docLinkHtml = 'Like what you see? Visit the ' +\n",
              "            '<a target=\"_blank\" href=https://colab.research.google.com/notebooks/data_table.ipynb>data table notebook</a>'\n",
              "            + ' to learn more about interactive tables.';\n",
              "          element.innerHTML = '';\n",
              "          dataTable['output_type'] = 'display_data';\n",
              "          await google.colab.output.renderOutput(dataTable, element);\n",
              "          const docLink = document.createElement('div');\n",
              "          docLink.innerHTML = docLinkHtml;\n",
              "          element.appendChild(docLink);\n",
              "        }\n",
              "      </script>\n",
              "    </div>\n",
              "  </div>\n",
              "  "
            ]
          },
          "metadata": {},
          "execution_count": 9
        }
      ]
    },
    {
      "cell_type": "code",
      "source": [
        "# convert the text column into a list\n",
        "text_list = list(df[\"clean_sent\"])"
      ],
      "metadata": {
        "id": "EbtGeI00Olex"
      },
      "execution_count": null,
      "outputs": []
    },
    {
      "cell_type": "code",
      "source": [
        "# filt = df.clean_sent_noEmoji.str.contains(\"Друзья, мы подготовили для вас список рабочих VPN\")\n",
        "# df[filt]\n",
        "# df.loc[5914:5920]\n",
        "# df[df.index == 47283]\n",
        "# df[df.unique_msg_id == \"grodno97pro_33622\"][\"clean_sent_noEmoji\"]"
      ],
      "metadata": {
        "id": "pLsxGqjjF0KU"
      },
      "execution_count": null,
      "outputs": []
    },
    {
      "cell_type": "code",
      "source": [
        "# df.clean_sent_noEmoji[45250:45260]"
      ],
      "metadata": {
        "id": "LcWH-YOCKf5O"
      },
      "execution_count": null,
      "outputs": []
    },
    {
      "cell_type": "markdown",
      "source": [],
      "metadata": {
        "id": "n5GLBvFCOoXb"
      }
    },
    {
      "cell_type": "code",
      "source": [
        "# sample_text = text_list[45254]\n",
        "# pd.Series(sample_text).str.len()"
      ],
      "metadata": {
        "id": "u3zHSF1fLvLK"
      },
      "execution_count": null,
      "outputs": []
    },
    {
      "cell_type": "code",
      "source": [
        "# model_name = f'Helsinki-NLP/opus-mt-ru-en'\n",
        "# tokenizer = AutoTokenizer.from_pretrained(model_name)\n",
        "# tokens = tokenizer(sample_text, return_tensors = 'pt')\n",
        "#tokens = tokenizer(sample_text, return_tensors = 'pt', padding = True, max_length=512, truncation=True)\n",
        "\n",
        "# tokens"
      ],
      "metadata": {
        "id": "XzKNy6TQLvZ_"
      },
      "execution_count": null,
      "outputs": []
    },
    {
      "cell_type": "code",
      "source": [
        "#tokens = tokenizer(sample_text, return_tensors = 'pt', padding = True, max_length=512, truncation=True)\n",
        "#tokens"
      ],
      "metadata": {
        "id": "s7-Y3oEmMeHG"
      },
      "execution_count": null,
      "outputs": []
    },
    {
      "cell_type": "code",
      "source": [
        "text_list[0]"
      ],
      "metadata": {
        "colab": {
          "base_uri": "https://localhost:8080/",
          "height": 35
        },
        "id": "TD0ahMYBOv3U",
        "outputId": "fcf92099-8a15-4d3f-f0d4-ec0e87a4a133"
      },
      "execution_count": null,
      "outputs": [
        {
          "output_type": "execute_result",
          "data": {
            "text/plain": [
              "'Шлюха'"
            ],
            "application/vnd.google.colaboratory.intrinsic+json": {
              "type": "string"
            }
          },
          "metadata": {},
          "execution_count": 43
        }
      ]
    },
    {
      "cell_type": "code",
      "source": [
        "df.sentences[:10]"
      ],
      "metadata": {
        "colab": {
          "base_uri": "https://localhost:8080/"
        },
        "id": "yDXPezLUPvcm",
        "outputId": "1428b9aa-c50f-4fc0-fa12-15d9b3746b89"
      },
      "execution_count": null,
      "outputs": [
        {
          "output_type": "execute_result",
          "data": {
            "text/plain": [
              "0        Шлюха\n",
              "1        плин.\n",
              "2        Видел\n",
              "3        Дичь.\n",
              "4        Было.\n",
              "5        Емае.\n",
              "6      ШОС !!!\n",
              "7        Бабки\n",
              "8        Ловлю\n",
              "9    Клоун😂😂😂😂\n",
              "Name: sentences, dtype: object"
            ]
          },
          "metadata": {},
          "execution_count": 12
        }
      ]
    },
    {
      "cell_type": "code",
      "source": [
        "def marian_batch_translator(texts, src, trg, batch_size = 10):\n",
        "  '''\n",
        "  Function takes a list of texts, a source language, target language, and batch size\n",
        "  Downloads the appropriate MarianMT model & tokenizer\n",
        "  tokenizes and translates input texts in batches.\n",
        "  '''\n",
        "  model_name = f'Helsinki-NLP/opus-mt-{src}-{trg}'\n",
        "  tokenizer = AutoTokenizer.from_pretrained(model_name)\n",
        "  #tokenizer = MarianTokenizer.from_pretrained(model_name)\n",
        "  model = MarianMTModel.from_pretrained(model_name)\n",
        "\n",
        "  batches = math.ceil(len(texts) / batch_size) # determine how many batches we need\n",
        "\n",
        "  translations = [None] * 1000 # empty list to store output translations \n",
        "\n",
        "  for i in tqdm(range(0,batches)): # iterate through batches (tqdm creates a progress bar)\n",
        "    start = i*batch_size\n",
        "    end = start+batch_size\n",
        "\n",
        "    batch_texts = texts[start:end]\n",
        "    batch_tokens = tokenizer(batch_texts, return_tensors = 'pt', padding = True, max_length=512, truncation=True)\n",
        "    batch_generated_tokens = model.generate(**batch_tokens)\n",
        "    batch_translated = tokenizer.batch_decode(batch_generated_tokens, skip_special_tokens = True)\n",
        "    #translations.extend(batch_translated)\n",
        "    translations[start: end] = batch_translated\n",
        "\n",
        "  return(translations)"
      ],
      "metadata": {
        "id": "vSKUSvPsrF7y"
      },
      "execution_count": null,
      "outputs": []
    },
    {
      "cell_type": "code",
      "source": [
        "# 25 min 100\n",
        "# 40 min 200 batches\n",
        "# 300 batches in 1 hour \n",
        "# 20000 --> in 3:25:26 hrs\n",
        "# 2nd batch - 2:20:46 hrs\n",
        "translations_4 = marian_batch_translator(texts=text_list[60000:], src=\"ru\", trg=\"en\")"
      ],
      "metadata": {
        "colab": {
          "base_uri": "https://localhost:8080/"
        },
        "id": "sSwOxap4QH19",
        "outputId": "ca22299d-920b-468f-8f53-e05a60975069"
      },
      "execution_count": null,
      "outputs": [
        {
          "output_type": "stream",
          "name": "stderr",
          "text": [
            "  0%|          | 0/2287 [00:00<?, ?it/s]/usr/local/lib/python3.8/dist-packages/transformers/generation/utils.py:1273: UserWarning: Neither `max_length` nor `max_new_tokens` has been set, `max_length` will default to 512 (`generation_config.max_length`). Controlling `max_length` via the config is deprecated and `max_length` will be removed from the config in v5 of Transformers -- we recommend using `max_new_tokens` to control the maximum length of the generation.\n",
            "  warnings.warn(\n",
            "100%|██████████| 2287/2287 [7:01:40<00:00, 11.06s/it]\n"
          ]
        }
      ]
    },
    {
      "cell_type": "code",
      "source": [
        "len(translations_4)"
      ],
      "metadata": {
        "colab": {
          "base_uri": "https://localhost:8080/"
        },
        "id": "YMhQtLXGBYQC",
        "outputId": "df277e05-41a4-4fc3-9784-e7f9d035baef"
      },
      "execution_count": null,
      "outputs": [
        {
          "output_type": "execute_result",
          "data": {
            "text/plain": [
              "22864"
            ]
          },
          "metadata": {},
          "execution_count": 57
        }
      ]
    },
    {
      "cell_type": "code",
      "source": [],
      "metadata": {
        "id": "LRUcdWqqmGjs"
      },
      "execution_count": null,
      "outputs": []
    },
    {
      "cell_type": "code",
      "source": [
        "translations_4[:10]"
      ],
      "metadata": {
        "colab": {
          "base_uri": "https://localhost:8080/"
        },
        "id": "PyBR9abjBbZy",
        "outputId": "415df1bc-a49a-4235-9872-504f869a6370"
      },
      "execution_count": null,
      "outputs": [
        {
          "output_type": "execute_result",
          "data": {
            "text/plain": [
              "['An animation film on events in Belarus since 9 August 2020.',\n",
              " 'All those who are not prepared to tolerate the violence of the security forces and officials.',\n",
              " \"I'd be quiet if I didn't ask in which neighborhood, and I'd know that.\",\n",
              " \"I'd like to go a little bit further towards the civil war scenario.\",\n",
              " \"By the way, he said I remembered that they didn't have enough people.\",\n",
              " \"Hey, neighbors, I thought you weren't alone in our house.\",\n",
              " 'fix the instructions you need to give here, spam bang.',\n",
              " \"I don't mind going, but I'm not interested, at least 4,000.\",\n",
              " 'In a search at Telegram, dial OFF.',\n",
              " \"And where laws are missing, you know, sometimes they don't.\"]"
            ]
          },
          "metadata": {},
          "execution_count": 58
        }
      ]
    },
    {
      "cell_type": "code",
      "source": [
        "df_4 = df.loc[60000:,]"
      ],
      "metadata": {
        "id": "A3Sy4tq3A43F"
      },
      "execution_count": null,
      "outputs": []
    },
    {
      "cell_type": "code",
      "source": [
        "df_4.columns"
      ],
      "metadata": {
        "colab": {
          "base_uri": "https://localhost:8080/"
        },
        "id": "3yBV5WymmQcQ",
        "outputId": "986531ca-8401-435c-ad78-9b442b93b319"
      },
      "execution_count": null,
      "outputs": [
        {
          "output_type": "execute_result",
          "data": {
            "text/plain": [
              "Index(['unique_msg_id', 'message', 'sentences', 'sent_idx', 'clean_sent',\n",
              "       'sent_Emojis', 'msg_len'],\n",
              "      dtype='object')"
            ]
          },
          "metadata": {},
          "execution_count": 60
        }
      ]
    },
    {
      "cell_type": "code",
      "source": [
        "df_4[\"translation\"] = translations_4"
      ],
      "metadata": {
        "colab": {
          "base_uri": "https://localhost:8080/"
        },
        "id": "V4ZIvnk4A5D1",
        "outputId": "fe29a8a5-7ae8-40d6-bcb1-a629485b66ba"
      },
      "execution_count": null,
      "outputs": [
        {
          "output_type": "stream",
          "name": "stderr",
          "text": [
            "<ipython-input-61-9ccd1bb5ca80>:1: SettingWithCopyWarning: \n",
            "A value is trying to be set on a copy of a slice from a DataFrame.\n",
            "Try using .loc[row_indexer,col_indexer] = value instead\n",
            "\n",
            "See the caveats in the documentation: https://pandas.pydata.org/pandas-docs/stable/user_guide/indexing.html#returning-a-view-versus-a-copy\n",
            "  df_4[\"translation\"] = translations_4\n"
          ]
        }
      ]
    },
    {
      "cell_type": "code",
      "source": [
        "df_4"
      ],
      "metadata": {
        "colab": {
          "base_uri": "https://localhost:8080/",
          "height": 1000
        },
        "id": "-SxIxTN7nnET",
        "outputId": "2082b581-b7fe-417e-f745-6a8a180de93d"
      },
      "execution_count": null,
      "outputs": [
        {
          "output_type": "execute_result",
          "data": {
            "text/plain": [
              "                      unique_msg_id  \\\n",
              "60000         soligorsk_gorod_43609   \n",
              "60001            grodno97pro_209930   \n",
              "60002             minsk97pro_570409   \n",
              "60003            Gomel_strana_66923   \n",
              "60004            strana_chat_145401   \n",
              "...                             ...   \n",
              "82859            strana_chat_219756   \n",
              "82860         soligorsk_gorod_53177   \n",
              "82861  molodechnostrana_chat_115949   \n",
              "82862         Svetlogorskchat_50387   \n",
              "82863             grodno97pro_33622   \n",
              "\n",
              "                                                 message  \\\n",
              "60000  Анимационный фильм о событиях в Беларуси после...   \n",
              "60001  ​​С 26 ОКТЯБРЯ ОСТАНОВЯТ РАБОТУ ТЕ, \\nкто хоче...   \n",
              "60002  Ну капец) был бы тихарь ,не спрашивал в каком ...   \n",
              "60003  https://t.me/MikolaDziadok/4611\\n\\nИнтересную ...   \n",
              "60004  ребята, у меня брат служит сейчас он в минске....   \n",
              "...                                                  ...   \n",
              "82859  ‼️ Хотите поддержать протестующих, но не знает...   \n",
              "82860  ‼️ ПОЗОР РАБОЧИМ КОТОРЫЕ НЕ ПОДДЕРЖАЛИ ОБЩЕНАЦ...   \n",
              "82861  а дзе была падтрымка народа для тых,хто заўсёд...   \n",
              "82862  Вы не мой президент!\\nУбийца Трус Предатель Во...   \n",
              "82863  НЕ НАЖИМАЙТЕ РЕПОРТ\\nНЕ НАЖИМАЙТЕ РЕПОРТ\\nНЕ Н...   \n",
              "\n",
              "                                               sentences  sent_idx  \\\n",
              "60000  Анимационный фильм о событиях в Беларуси после...         0   \n",
              "60001  ✔️ Всех, кто не готов мириться с беспределом с...         2   \n",
              "60002  Ну капец) был бы тихарь ,не спрашивал в каком ...         0   \n",
              "60003  Хочется немного развить мысль в сторону сценар...         1   \n",
              "60004  он кстати еще сказал я тут вспомнил— то что у ...        16   \n",
              "...                                                  ...       ...   \n",
              "82859  Вот развёрнутый список инициатив, помогающим в...         1   \n",
              "82860  ‼️ ПОЗОР РАБОЧИМ КОТОРЫЕ НЕ ПОДДЕРЖАЛИ ОБЩЕНАЦ...         0   \n",
              "82861  а дзе была падтрымка народа для тых,хто заўсёд...         0   \n",
              "82862  Насколько я помню культурно ты не умеешь разго...         3   \n",
              "82863  НЕ НАЖИМАЙТЕ РЕПОРТ\\nНЕ НАЖИМАЙТЕ РЕПОРТ\\nНЕ Н...         0   \n",
              "\n",
              "                                              clean_sent sent_Emojis  msg_len  \\\n",
              "60000  Анимационный фильм о событиях в Беларуси после...         NaN       67   \n",
              "60001  ️ Всех, кто не готов мириться с беспределом си...           ✔       67   \n",
              "60002  Ну капец) был бы тихарь ,не спрашивал в каком ...         NaN       67   \n",
              "60003  Хочется немного развить мысль в сторону сценар...         NaN       67   \n",
              "60004  он кстати еще сказал я тут вспомнил— то что у ...         NaN       67   \n",
              "...                                                  ...         ...      ...   \n",
              "82859  Вот развёрнутый список инициатив, помогающим в...         NaN     1123   \n",
              "82860  ️ ПОЗОР РАБОЧИМ КОТОРЫЕ НЕ ПОДДЕРЖАЛИ ОБЩЕНАЦИ...         ‼➡👊     1163   \n",
              "82861  а дзе была падтрымка народа для тых,хто заўсёд...         NaN     1237   \n",
              "82862  Насколько я помню культурно ты не умеешь разго...         NaN     2068   \n",
              "82863  НЕ НАЖИМАЙТЕ РЕПОРТ НЕ НАЖИМАЙТЕ РЕПОРТ НЕ НАЖ...         NaN     3459   \n",
              "\n",
              "                                             translation  \n",
              "60000  An animation film on events in Belarus since 9...  \n",
              "60001  All those who are not prepared to tolerate the...  \n",
              "60002  I'd be quiet if I didn't ask in which neighbor...  \n",
              "60003  I'd like to go a little bit further towards th...  \n",
              "60004  By the way, he said I remembered that they did...  \n",
              "...                                                  ...  \n",
              "82859  Here is a list of initiatives that have been d...  \n",
              "82860  The President-elect turned to the nation. Ther...  \n",
              "82861  And there was a people's father for you. Laty,...  \n",
              "82862  As far as I'm concerned, you don't know how to...  \n",
              "82863  THE REPORT DON'T PLEASE THE REPORT DON'T LEAVE...  \n",
              "\n",
              "[22864 rows x 8 columns]"
            ],
            "text/html": [
              "\n",
              "  <div id=\"df-c198bb2a-c72d-42c8-b485-8bd1955630a8\">\n",
              "    <div class=\"colab-df-container\">\n",
              "      <div>\n",
              "<style scoped>\n",
              "    .dataframe tbody tr th:only-of-type {\n",
              "        vertical-align: middle;\n",
              "    }\n",
              "\n",
              "    .dataframe tbody tr th {\n",
              "        vertical-align: top;\n",
              "    }\n",
              "\n",
              "    .dataframe thead th {\n",
              "        text-align: right;\n",
              "    }\n",
              "</style>\n",
              "<table border=\"1\" class=\"dataframe\">\n",
              "  <thead>\n",
              "    <tr style=\"text-align: right;\">\n",
              "      <th></th>\n",
              "      <th>unique_msg_id</th>\n",
              "      <th>message</th>\n",
              "      <th>sentences</th>\n",
              "      <th>sent_idx</th>\n",
              "      <th>clean_sent</th>\n",
              "      <th>sent_Emojis</th>\n",
              "      <th>msg_len</th>\n",
              "      <th>translation</th>\n",
              "    </tr>\n",
              "  </thead>\n",
              "  <tbody>\n",
              "    <tr>\n",
              "      <th>60000</th>\n",
              "      <td>soligorsk_gorod_43609</td>\n",
              "      <td>Анимационный фильм о событиях в Беларуси после...</td>\n",
              "      <td>Анимационный фильм о событиях в Беларуси после...</td>\n",
              "      <td>0</td>\n",
              "      <td>Анимационный фильм о событиях в Беларуси после...</td>\n",
              "      <td>NaN</td>\n",
              "      <td>67</td>\n",
              "      <td>An animation film on events in Belarus since 9...</td>\n",
              "    </tr>\n",
              "    <tr>\n",
              "      <th>60001</th>\n",
              "      <td>grodno97pro_209930</td>\n",
              "      <td>​​С 26 ОКТЯБРЯ ОСТАНОВЯТ РАБОТУ ТЕ, \\nкто хоче...</td>\n",
              "      <td>✔️ Всех, кто не готов мириться с беспределом с...</td>\n",
              "      <td>2</td>\n",
              "      <td>️ Всех, кто не готов мириться с беспределом си...</td>\n",
              "      <td>✔</td>\n",
              "      <td>67</td>\n",
              "      <td>All those who are not prepared to tolerate the...</td>\n",
              "    </tr>\n",
              "    <tr>\n",
              "      <th>60002</th>\n",
              "      <td>minsk97pro_570409</td>\n",
              "      <td>Ну капец) был бы тихарь ,не спрашивал в каком ...</td>\n",
              "      <td>Ну капец) был бы тихарь ,не спрашивал в каком ...</td>\n",
              "      <td>0</td>\n",
              "      <td>Ну капец) был бы тихарь ,не спрашивал в каком ...</td>\n",
              "      <td>NaN</td>\n",
              "      <td>67</td>\n",
              "      <td>I'd be quiet if I didn't ask in which neighbor...</td>\n",
              "    </tr>\n",
              "    <tr>\n",
              "      <th>60003</th>\n",
              "      <td>Gomel_strana_66923</td>\n",
              "      <td>https://t.me/MikolaDziadok/4611\\n\\nИнтересную ...</td>\n",
              "      <td>Хочется немного развить мысль в сторону сценар...</td>\n",
              "      <td>1</td>\n",
              "      <td>Хочется немного развить мысль в сторону сценар...</td>\n",
              "      <td>NaN</td>\n",
              "      <td>67</td>\n",
              "      <td>I'd like to go a little bit further towards th...</td>\n",
              "    </tr>\n",
              "    <tr>\n",
              "      <th>60004</th>\n",
              "      <td>strana_chat_145401</td>\n",
              "      <td>ребята, у меня брат служит сейчас он в минске....</td>\n",
              "      <td>он кстати еще сказал я тут вспомнил— то что у ...</td>\n",
              "      <td>16</td>\n",
              "      <td>он кстати еще сказал я тут вспомнил— то что у ...</td>\n",
              "      <td>NaN</td>\n",
              "      <td>67</td>\n",
              "      <td>By the way, he said I remembered that they did...</td>\n",
              "    </tr>\n",
              "    <tr>\n",
              "      <th>...</th>\n",
              "      <td>...</td>\n",
              "      <td>...</td>\n",
              "      <td>...</td>\n",
              "      <td>...</td>\n",
              "      <td>...</td>\n",
              "      <td>...</td>\n",
              "      <td>...</td>\n",
              "      <td>...</td>\n",
              "    </tr>\n",
              "    <tr>\n",
              "      <th>82859</th>\n",
              "      <td>strana_chat_219756</td>\n",
              "      <td>‼️ Хотите поддержать протестующих, но не знает...</td>\n",
              "      <td>Вот развёрнутый список инициатив, помогающим в...</td>\n",
              "      <td>1</td>\n",
              "      <td>Вот развёрнутый список инициатив, помогающим в...</td>\n",
              "      <td>NaN</td>\n",
              "      <td>1123</td>\n",
              "      <td>Here is a list of initiatives that have been d...</td>\n",
              "    </tr>\n",
              "    <tr>\n",
              "      <th>82860</th>\n",
              "      <td>soligorsk_gorod_53177</td>\n",
              "      <td>‼️ ПОЗОР РАБОЧИМ КОТОРЫЕ НЕ ПОДДЕРЖАЛИ ОБЩЕНАЦ...</td>\n",
              "      <td>‼️ ПОЗОР РАБОЧИМ КОТОРЫЕ НЕ ПОДДЕРЖАЛИ ОБЩЕНАЦ...</td>\n",
              "      <td>0</td>\n",
              "      <td>️ ПОЗОР РАБОЧИМ КОТОРЫЕ НЕ ПОДДЕРЖАЛИ ОБЩЕНАЦИ...</td>\n",
              "      <td>‼➡👊</td>\n",
              "      <td>1163</td>\n",
              "      <td>The President-elect turned to the nation. Ther...</td>\n",
              "    </tr>\n",
              "    <tr>\n",
              "      <th>82861</th>\n",
              "      <td>molodechnostrana_chat_115949</td>\n",
              "      <td>а дзе была падтрымка народа для тых,хто заўсёд...</td>\n",
              "      <td>а дзе была падтрымка народа для тых,хто заўсёд...</td>\n",
              "      <td>0</td>\n",
              "      <td>а дзе была падтрымка народа для тых,хто заўсёд...</td>\n",
              "      <td>NaN</td>\n",
              "      <td>1237</td>\n",
              "      <td>And there was a people's father for you. Laty,...</td>\n",
              "    </tr>\n",
              "    <tr>\n",
              "      <th>82862</th>\n",
              "      <td>Svetlogorskchat_50387</td>\n",
              "      <td>Вы не мой президент!\\nУбийца Трус Предатель Во...</td>\n",
              "      <td>Насколько я помню культурно ты не умеешь разго...</td>\n",
              "      <td>3</td>\n",
              "      <td>Насколько я помню культурно ты не умеешь разго...</td>\n",
              "      <td>NaN</td>\n",
              "      <td>2068</td>\n",
              "      <td>As far as I'm concerned, you don't know how to...</td>\n",
              "    </tr>\n",
              "    <tr>\n",
              "      <th>82863</th>\n",
              "      <td>grodno97pro_33622</td>\n",
              "      <td>НЕ НАЖИМАЙТЕ РЕПОРТ\\nНЕ НАЖИМАЙТЕ РЕПОРТ\\nНЕ Н...</td>\n",
              "      <td>НЕ НАЖИМАЙТЕ РЕПОРТ\\nНЕ НАЖИМАЙТЕ РЕПОРТ\\nНЕ Н...</td>\n",
              "      <td>0</td>\n",
              "      <td>НЕ НАЖИМАЙТЕ РЕПОРТ НЕ НАЖИМАЙТЕ РЕПОРТ НЕ НАЖ...</td>\n",
              "      <td>NaN</td>\n",
              "      <td>3459</td>\n",
              "      <td>THE REPORT DON'T PLEASE THE REPORT DON'T LEAVE...</td>\n",
              "    </tr>\n",
              "  </tbody>\n",
              "</table>\n",
              "<p>22864 rows × 8 columns</p>\n",
              "</div>\n",
              "      <button class=\"colab-df-convert\" onclick=\"convertToInteractive('df-c198bb2a-c72d-42c8-b485-8bd1955630a8')\"\n",
              "              title=\"Convert this dataframe to an interactive table.\"\n",
              "              style=\"display:none;\">\n",
              "        \n",
              "  <svg xmlns=\"http://www.w3.org/2000/svg\" height=\"24px\"viewBox=\"0 0 24 24\"\n",
              "       width=\"24px\">\n",
              "    <path d=\"M0 0h24v24H0V0z\" fill=\"none\"/>\n",
              "    <path d=\"M18.56 5.44l.94 2.06.94-2.06 2.06-.94-2.06-.94-.94-2.06-.94 2.06-2.06.94zm-11 1L8.5 8.5l.94-2.06 2.06-.94-2.06-.94L8.5 2.5l-.94 2.06-2.06.94zm10 10l.94 2.06.94-2.06 2.06-.94-2.06-.94-.94-2.06-.94 2.06-2.06.94z\"/><path d=\"M17.41 7.96l-1.37-1.37c-.4-.4-.92-.59-1.43-.59-.52 0-1.04.2-1.43.59L10.3 9.45l-7.72 7.72c-.78.78-.78 2.05 0 2.83L4 21.41c.39.39.9.59 1.41.59.51 0 1.02-.2 1.41-.59l7.78-7.78 2.81-2.81c.8-.78.8-2.07 0-2.86zM5.41 20L4 18.59l7.72-7.72 1.47 1.35L5.41 20z\"/>\n",
              "  </svg>\n",
              "      </button>\n",
              "      \n",
              "  <style>\n",
              "    .colab-df-container {\n",
              "      display:flex;\n",
              "      flex-wrap:wrap;\n",
              "      gap: 12px;\n",
              "    }\n",
              "\n",
              "    .colab-df-convert {\n",
              "      background-color: #E8F0FE;\n",
              "      border: none;\n",
              "      border-radius: 50%;\n",
              "      cursor: pointer;\n",
              "      display: none;\n",
              "      fill: #1967D2;\n",
              "      height: 32px;\n",
              "      padding: 0 0 0 0;\n",
              "      width: 32px;\n",
              "    }\n",
              "\n",
              "    .colab-df-convert:hover {\n",
              "      background-color: #E2EBFA;\n",
              "      box-shadow: 0px 1px 2px rgba(60, 64, 67, 0.3), 0px 1px 3px 1px rgba(60, 64, 67, 0.15);\n",
              "      fill: #174EA6;\n",
              "    }\n",
              "\n",
              "    [theme=dark] .colab-df-convert {\n",
              "      background-color: #3B4455;\n",
              "      fill: #D2E3FC;\n",
              "    }\n",
              "\n",
              "    [theme=dark] .colab-df-convert:hover {\n",
              "      background-color: #434B5C;\n",
              "      box-shadow: 0px 1px 3px 1px rgba(0, 0, 0, 0.15);\n",
              "      filter: drop-shadow(0px 1px 2px rgba(0, 0, 0, 0.3));\n",
              "      fill: #FFFFFF;\n",
              "    }\n",
              "  </style>\n",
              "\n",
              "      <script>\n",
              "        const buttonEl =\n",
              "          document.querySelector('#df-c198bb2a-c72d-42c8-b485-8bd1955630a8 button.colab-df-convert');\n",
              "        buttonEl.style.display =\n",
              "          google.colab.kernel.accessAllowed ? 'block' : 'none';\n",
              "\n",
              "        async function convertToInteractive(key) {\n",
              "          const element = document.querySelector('#df-c198bb2a-c72d-42c8-b485-8bd1955630a8');\n",
              "          const dataTable =\n",
              "            await google.colab.kernel.invokeFunction('convertToInteractive',\n",
              "                                                     [key], {});\n",
              "          if (!dataTable) return;\n",
              "\n",
              "          const docLinkHtml = 'Like what you see? Visit the ' +\n",
              "            '<a target=\"_blank\" href=https://colab.research.google.com/notebooks/data_table.ipynb>data table notebook</a>'\n",
              "            + ' to learn more about interactive tables.';\n",
              "          element.innerHTML = '';\n",
              "          dataTable['output_type'] = 'display_data';\n",
              "          await google.colab.output.renderOutput(dataTable, element);\n",
              "          const docLink = document.createElement('div');\n",
              "          docLink.innerHTML = docLinkHtml;\n",
              "          element.appendChild(docLink);\n",
              "        }\n",
              "      </script>\n",
              "    </div>\n",
              "  </div>\n",
              "  "
            ]
          },
          "metadata": {},
          "execution_count": 62
        }
      ]
    },
    {
      "cell_type": "code",
      "source": [
        "# \n",
        "translations = [df_1, df_2, df_3, df_4]"
      ],
      "metadata": {
        "id": "EuI-j8qU2wj0"
      },
      "execution_count": null,
      "outputs": []
    },
    {
      "cell_type": "code",
      "source": [
        "translations_df = pd.concat(translations)"
      ],
      "metadata": {
        "id": "wSqzwMaB2wxv"
      },
      "execution_count": null,
      "outputs": []
    },
    {
      "cell_type": "code",
      "source": [
        "translations_df.shape"
      ],
      "metadata": {
        "colab": {
          "base_uri": "https://localhost:8080/"
        },
        "id": "5Jaw7wj82w0y",
        "outputId": "c26db30c-9945-4e07-d44f-06dda8727064"
      },
      "execution_count": null,
      "outputs": [
        {
          "output_type": "execute_result",
          "data": {
            "text/plain": [
              "(82864, 8)"
            ]
          },
          "metadata": {},
          "execution_count": 66
        }
      ]
    },
    {
      "cell_type": "code",
      "source": [
        "df.shape"
      ],
      "metadata": {
        "colab": {
          "base_uri": "https://localhost:8080/"
        },
        "id": "1hiBwvGz2w3V",
        "outputId": "b03286bf-a6d7-4871-b301-4ff34ae41db3"
      },
      "execution_count": null,
      "outputs": [
        {
          "output_type": "execute_result",
          "data": {
            "text/plain": [
              "(82864, 7)"
            ]
          },
          "metadata": {},
          "execution_count": 67
        }
      ]
    },
    {
      "cell_type": "code",
      "source": [
        "df.to_csv(\"translated_sentTokenized_sample_Aug_Mar_2023-02-04.csv\", index=False)"
      ],
      "metadata": {
        "id": "mNcCF5nt3RtQ"
      },
      "execution_count": null,
      "outputs": []
    },
    {
      "cell_type": "code",
      "source": [
        "# check some translations for reference\n",
        "\n",
        "for i in range(0, 10):\n",
        "  print('-' * 100)\n",
        "  print('Original Russian: ' + text_list[:20][i])\n",
        "  print('Machine translation: ' + translations[i])\n",
        "  #print('Reference translation: ' + ref_translations[i])\n",
        "  print('-' * 100)\n",
        "  print('\\n')\n"
      ],
      "metadata": {
        "colab": {
          "base_uri": "https://localhost:8080/"
        },
        "id": "arzp3orgrGA3",
        "outputId": "895a5b57-7975-4b9f-dde0-5994650711dd"
      },
      "execution_count": null,
      "outputs": [
        {
          "output_type": "stream",
          "name": "stdout",
          "text": [
            "----------------------------------------------------------------------------------------------------\n",
            "Original Russian: Люди нужно собираться в 4 дня,поток большой идёт!!!!!!!!!!!!!!!!!!!!!\n",
            "Machine translation: People need to get together at 4 o'clock, the flow's big!!!!!!!!!!!!!!!!!!!!!!!!!!!!!!!!!!!!!!!!!!!!!!!!!!!!!!!!!!!!!!!!!!!!!!!!!!!!!!!!!!!!!!!!!!!!!!!!!!!!!!!!!!!!!!!!!!!!!!!!!!!!!!!!!!!!!!!!!!!!!!!!!!!!!!!!!!!!!!!!!!!!!!!!!!!!!!!!!!!!!!!!!!!\n",
            "----------------------------------------------------------------------------------------------------\n",
            "\n",
            "\n",
            "----------------------------------------------------------------------------------------------------\n",
            "Original Russian: !дороги перекрыть не смогут \n",
            "Плюсы поддержка со стороны водителей и проще перекрыть движение,вся дорога станет!\n",
            "Machine translation: The roads can't shut down the Plus's support from the drivers, and it's easier to block the traffic, the whole road will become!\n",
            "----------------------------------------------------------------------------------------------------\n",
            "\n",
            "\n",
            "----------------------------------------------------------------------------------------------------\n",
            "Original Russian: !менты гонять не смогут !!!!\n",
            "Machine translation: ! the cops can't drive!!!!!\n",
            "----------------------------------------------------------------------------------------------------\n",
            "\n",
            "\n",
            "----------------------------------------------------------------------------------------------------\n",
            "Original Russian: ПОДДЕРЖИТЕ!\n",
            "Machine translation: Support!\n",
            "----------------------------------------------------------------------------------------------------\n",
            "\n",
            "\n",
            "----------------------------------------------------------------------------------------------------\n",
            "Original Russian: small sent\n",
            "Machine translation: small sent\n",
            "----------------------------------------------------------------------------------------------------\n",
            "\n",
            "\n",
            "----------------------------------------------------------------------------------------------------\n",
            "Original Russian: Твари ходят вокруг 1,3,62 домов.\n",
            "Machine translation: The animals walk around 1.3.62 houses.\n",
            "----------------------------------------------------------------------------------------------------\n",
            "\n",
            "\n",
            "----------------------------------------------------------------------------------------------------\n",
            "Original Russian: У них закрытый городок\n",
            "Machine translation: They have a closed town.\n",
            "----------------------------------------------------------------------------------------------------\n",
            "\n",
            "\n",
            "----------------------------------------------------------------------------------------------------\n",
            "Original Russian: Тогда корректнее - берегись.\n",
            "Machine translation: Then be careful.\n",
            "----------------------------------------------------------------------------------------------------\n",
            "\n",
            "\n",
            "----------------------------------------------------------------------------------------------------\n",
            "Original Russian: Ну или Опасность!\n",
            "Machine translation: Or danger!\n",
            "----------------------------------------------------------------------------------------------------\n",
            "\n",
            "\n",
            "----------------------------------------------------------------------------------------------------\n",
            "Original Russian: После этого бизнес план у него появились ларьки с кассетами видимо и аудио записями.\n",
            "Machine translation: After that, he had a business plan, and he had cassettes with tapes, apparently, and audio recordings.\n",
            "----------------------------------------------------------------------------------------------------\n",
            "\n",
            "\n"
          ]
        }
      ]
    },
    {
      "cell_type": "code",
      "source": [],
      "metadata": {
        "id": "cIx9UOdfKwM_"
      },
      "execution_count": null,
      "outputs": []
    },
    {
      "cell_type": "code",
      "source": [
        "df[\"translations\"] = translations"
      ],
      "metadata": {
        "id": "mbMwJnizrGDD"
      },
      "execution_count": null,
      "outputs": []
    },
    {
      "cell_type": "code",
      "source": [
        "file_name = f\"translated_{f_}\""
      ],
      "metadata": {
        "id": "q-Pv4OeytNeQ"
      },
      "execution_count": null,
      "outputs": []
    },
    {
      "cell_type": "code",
      "source": [
        "df.to_csv(file_name)"
      ],
      "metadata": {
        "id": "angXntOFtIvU"
      },
      "execution_count": null,
      "outputs": []
    },
    {
      "cell_type": "markdown",
      "source": [],
      "metadata": {
        "id": "YtoIRr12XGx4"
      }
    },
    {
      "cell_type": "code",
      "source": [],
      "metadata": {
        "id": "mx6-PHqkFBBy"
      },
      "execution_count": null,
      "outputs": []
    },
    {
      "cell_type": "code",
      "source": [
        "# function for translation \n",
        "def marian_batch_translator(text_list, src, trg, batch_size = 10):\n",
        "  '''\n",
        "  Function takes a list of texts (sentences), a source language, target \n",
        "  language, and batch size Downloads the appropriate MarianMT model & tokenizer.\n",
        "  tokenizes and translates input sentences in batches.\n",
        "  '''\n",
        "  model_name = f'Helsinki-NLP/opus-mt-{src}-{trg}'\n",
        "  tokenizer = MarianTokenizer.from_pretrained(model_name)\n",
        "  model = MarianMTModel.from_pretrained(model_name).to(device)\n",
        "\n",
        "  batches = math.ceil(len(text_list) / batch_size) # determine how many batches we need\n",
        "  print(batches)\n",
        "\n",
        "  translations = [] # empty list to store output translations \n",
        "\n",
        "  for i in tqdm_notebook(range(0,batches)): # iterate through batches (tqdm creates a progress bar)\n",
        "    start = i*batch_size\n",
        "    end = start+batch_size\n",
        "\n",
        "    batch_texts = text_list[start:end]\n",
        "    batch_tokens = tokenizer(batch_texts, return_tensors = 'pt', padding = True).to(device)\n",
        "    batch_generated_tokens = model.generate(**batch_tokens)\n",
        "    batch_translated = tokenizer.batch_decode(batch_generated_tokens, skip_special_tokens = True)\n",
        "    translations.extend(batch_translated)\n",
        "\n",
        "  return translations"
      ],
      "metadata": {
        "id": "8HYXqpJ07NEc"
      },
      "execution_count": null,
      "outputs": []
    },
    {
      "cell_type": "code",
      "source": [
        "# save translated text in a column in src_text df\n",
        "src_text[\"translated_sent\"] = translated"
      ],
      "metadata": {
        "id": "nBMQgFV86_7N"
      },
      "execution_count": null,
      "outputs": []
    },
    {
      "cell_type": "code",
      "source": [
        "# join the emojis to translated text \n",
        "src_text[\"translated_sent_withEmoji\"] =  src_text[\"translated_sent\"]+ (src_text[\"sent_Emojis\"])"
      ],
      "metadata": {
        "id": "7qXGDnanTM1D"
      },
      "execution_count": null,
      "outputs": []
    },
    {
      "cell_type": "code",
      "source": [
        "\n",
        "src_text[\"translated_sent_withEmoji\"]"
      ],
      "metadata": {
        "colab": {
          "base_uri": "https://localhost:8080/"
        },
        "id": "WV9o0HdGyV4c",
        "outputId": "c48b1438-7426-4604-e636-7d4347073856"
      },
      "execution_count": null,
      "outputs": [
        {
          "output_type": "execute_result",
          "data": {
            "text/plain": [
              "0                                                 I agree.\n",
              "1                      I often go to meetings in Minsk!👍👍👍\n",
              "2        No offense said, but that's the atmosphere I'v...\n",
              "3        And after that, how does the force structure f...\n",
              "4                 May you die - civilians of the police!!!\n",
              "                               ...                        \n",
              "80272                                 Homedad's with you.✌\n",
              "80273    Congratulations, but for such \"smart\" people, ...\n",
              "80274                                 Let's go one-on-one.\n",
              "80275                      Each of you is against me, huh?\n",
              "80276                                          only emoji😁\n",
              "Name: translated_sent_withEmoji, Length: 80277, dtype: object"
            ]
          },
          "metadata": {},
          "execution_count": 150
        }
      ]
    },
    {
      "cell_type": "code",
      "source": [
        "src_text[\"translated_sent_withEmoji\"] = src_text[\"translated_sent_withEmoji\"].str.replace(\"only emoji\", \"\")"
      ],
      "metadata": {
        "id": "PtDXpBV-UboS"
      },
      "execution_count": null,
      "outputs": []
    },
    {
      "cell_type": "code",
      "source": [
        "src_text[\"translated_sent_withEmoji\"] = src_text[\"translated_sent_withEmoji\"].str.replace(\"small sent\", \"\")"
      ],
      "metadata": {
        "id": "bsy7IkvPVme0"
      },
      "execution_count": null,
      "outputs": []
    },
    {
      "cell_type": "code",
      "source": [
        "src_text"
      ],
      "metadata": {
        "colab": {
          "base_uri": "https://localhost:8080/",
          "height": 852
        },
        "id": "D80BpniIywGV",
        "outputId": "2f8522d4-7080-4445-9d94-187987ffe06b"
      },
      "execution_count": null,
      "outputs": [
        {
          "output_type": "execute_result",
          "data": {
            "text/plain": [
              "       para_index  sent_index  \\\n",
              "0               0           0   \n",
              "1               1           0   \n",
              "2               1           1   \n",
              "3               2           0   \n",
              "4               2           1   \n",
              "...           ...         ...   \n",
              "80272       50705           0   \n",
              "80273       50706           0   \n",
              "80274       50707           0   \n",
              "80275       50707           1   \n",
              "80276       50707           2   \n",
              "\n",
              "                                               sent_text  \\\n",
              "0                                               Согласен   \n",
              "1               👍👍👍 Я в Минске часто на митинги попадаю!   \n",
              "2      Не в обиду сказано, но такой атмосферы как там...   \n",
              "3      И как после этого относится к силовым структур...   \n",
              "4           Желаю вам сдохнуть - Граждане милиционеры!!!   \n",
              "...                                                  ...   \n",
              "80272                                Домодедово с Вами✌️   \n",
              "80273   Поздравляю но для таких \"умных\" людей есть игнор   \n",
              "80274                              А давай один на один.   \n",
              "80275                      Каждый из вас против меня, а?   \n",
              "80276                                                  😁   \n",
              "\n",
              "                                       sent_text_noEmoji sent_Emojis  \\\n",
              "0                                               Согласен               \n",
              "1                   Я в Минске часто на митинги попадаю!         👍👍👍   \n",
              "2      Не в обиду сказано, но такой атмосферы как там...               \n",
              "3      И как после этого относится к силовым структур...               \n",
              "4           Желаю вам сдохнуть - Граждане милиционеры!!!               \n",
              "...                                                  ...         ...   \n",
              "80272                                 Домодедово с Вами️           ✌   \n",
              "80273   Поздравляю но для таких \"умных\" людей есть игнор               \n",
              "80274                              А давай один на один.               \n",
              "80275                      Каждый из вас против меня, а?               \n",
              "80276                                         only emoji           😁   \n",
              "\n",
              "                                         translated_sent  \\\n",
              "0                                               I agree.   \n",
              "1                       I often go to meetings in Minsk!   \n",
              "2      No offense said, but that's the atmosphere I'v...   \n",
              "3      And after that, how does the force structure f...   \n",
              "4               May you die - civilians of the police!!!   \n",
              "...                                                  ...   \n",
              "80272                                Homedad's with you.   \n",
              "80273  Congratulations, but for such \"smart\" people, ...   \n",
              "80274                               Let's go one-on-one.   \n",
              "80275                    Each of you is against me, huh?   \n",
              "80276                                         only emoji   \n",
              "\n",
              "                               translated_sent_withEmoji  \n",
              "0                                               I agree.  \n",
              "1                    I often go to meetings in Minsk!👍👍👍  \n",
              "2      No offense said, but that's the atmosphere I'v...  \n",
              "3      And after that, how does the force structure f...  \n",
              "4               May you die - civilians of the police!!!  \n",
              "...                                                  ...  \n",
              "80272                               Homedad's with you.✌  \n",
              "80273  Congratulations, but for such \"smart\" people, ...  \n",
              "80274                               Let's go one-on-one.  \n",
              "80275                    Each of you is against me, huh?  \n",
              "80276                                                  😁  \n",
              "\n",
              "[80277 rows x 7 columns]"
            ],
            "text/html": [
              "\n",
              "  <div id=\"df-68482df1-046d-47f7-8b9e-cc78795f48f1\">\n",
              "    <div class=\"colab-df-container\">\n",
              "      <div>\n",
              "<style scoped>\n",
              "    .dataframe tbody tr th:only-of-type {\n",
              "        vertical-align: middle;\n",
              "    }\n",
              "\n",
              "    .dataframe tbody tr th {\n",
              "        vertical-align: top;\n",
              "    }\n",
              "\n",
              "    .dataframe thead th {\n",
              "        text-align: right;\n",
              "    }\n",
              "</style>\n",
              "<table border=\"1\" class=\"dataframe\">\n",
              "  <thead>\n",
              "    <tr style=\"text-align: right;\">\n",
              "      <th></th>\n",
              "      <th>para_index</th>\n",
              "      <th>sent_index</th>\n",
              "      <th>sent_text</th>\n",
              "      <th>sent_text_noEmoji</th>\n",
              "      <th>sent_Emojis</th>\n",
              "      <th>translated_sent</th>\n",
              "      <th>translated_sent_withEmoji</th>\n",
              "    </tr>\n",
              "  </thead>\n",
              "  <tbody>\n",
              "    <tr>\n",
              "      <th>0</th>\n",
              "      <td>0</td>\n",
              "      <td>0</td>\n",
              "      <td>Согласен</td>\n",
              "      <td>Согласен</td>\n",
              "      <td></td>\n",
              "      <td>I agree.</td>\n",
              "      <td>I agree.</td>\n",
              "    </tr>\n",
              "    <tr>\n",
              "      <th>1</th>\n",
              "      <td>1</td>\n",
              "      <td>0</td>\n",
              "      <td>👍👍👍 Я в Минске часто на митинги попадаю!</td>\n",
              "      <td>Я в Минске часто на митинги попадаю!</td>\n",
              "      <td>👍👍👍</td>\n",
              "      <td>I often go to meetings in Minsk!</td>\n",
              "      <td>I often go to meetings in Minsk!👍👍👍</td>\n",
              "    </tr>\n",
              "    <tr>\n",
              "      <th>2</th>\n",
              "      <td>1</td>\n",
              "      <td>1</td>\n",
              "      <td>Не в обиду сказано, но такой атмосферы как там...</td>\n",
              "      <td>Не в обиду сказано, но такой атмосферы как там...</td>\n",
              "      <td></td>\n",
              "      <td>No offense said, but that's the atmosphere I'v...</td>\n",
              "      <td>No offense said, but that's the atmosphere I'v...</td>\n",
              "    </tr>\n",
              "    <tr>\n",
              "      <th>3</th>\n",
              "      <td>2</td>\n",
              "      <td>0</td>\n",
              "      <td>И как после этого относится к силовым структур...</td>\n",
              "      <td>И как после этого относится к силовым структур...</td>\n",
              "      <td></td>\n",
              "      <td>And after that, how does the force structure f...</td>\n",
              "      <td>And after that, how does the force structure f...</td>\n",
              "    </tr>\n",
              "    <tr>\n",
              "      <th>4</th>\n",
              "      <td>2</td>\n",
              "      <td>1</td>\n",
              "      <td>Желаю вам сдохнуть - Граждане милиционеры!!!</td>\n",
              "      <td>Желаю вам сдохнуть - Граждане милиционеры!!!</td>\n",
              "      <td></td>\n",
              "      <td>May you die - civilians of the police!!!</td>\n",
              "      <td>May you die - civilians of the police!!!</td>\n",
              "    </tr>\n",
              "    <tr>\n",
              "      <th>...</th>\n",
              "      <td>...</td>\n",
              "      <td>...</td>\n",
              "      <td>...</td>\n",
              "      <td>...</td>\n",
              "      <td>...</td>\n",
              "      <td>...</td>\n",
              "      <td>...</td>\n",
              "    </tr>\n",
              "    <tr>\n",
              "      <th>80272</th>\n",
              "      <td>50705</td>\n",
              "      <td>0</td>\n",
              "      <td>Домодедово с Вами✌️</td>\n",
              "      <td>Домодедово с Вами️</td>\n",
              "      <td>✌</td>\n",
              "      <td>Homedad's with you.</td>\n",
              "      <td>Homedad's with you.✌</td>\n",
              "    </tr>\n",
              "    <tr>\n",
              "      <th>80273</th>\n",
              "      <td>50706</td>\n",
              "      <td>0</td>\n",
              "      <td>Поздравляю но для таких \"умных\" людей есть игнор</td>\n",
              "      <td>Поздравляю но для таких \"умных\" людей есть игнор</td>\n",
              "      <td></td>\n",
              "      <td>Congratulations, but for such \"smart\" people, ...</td>\n",
              "      <td>Congratulations, but for such \"smart\" people, ...</td>\n",
              "    </tr>\n",
              "    <tr>\n",
              "      <th>80274</th>\n",
              "      <td>50707</td>\n",
              "      <td>0</td>\n",
              "      <td>А давай один на один.</td>\n",
              "      <td>А давай один на один.</td>\n",
              "      <td></td>\n",
              "      <td>Let's go one-on-one.</td>\n",
              "      <td>Let's go one-on-one.</td>\n",
              "    </tr>\n",
              "    <tr>\n",
              "      <th>80275</th>\n",
              "      <td>50707</td>\n",
              "      <td>1</td>\n",
              "      <td>Каждый из вас против меня, а?</td>\n",
              "      <td>Каждый из вас против меня, а?</td>\n",
              "      <td></td>\n",
              "      <td>Each of you is against me, huh?</td>\n",
              "      <td>Each of you is against me, huh?</td>\n",
              "    </tr>\n",
              "    <tr>\n",
              "      <th>80276</th>\n",
              "      <td>50707</td>\n",
              "      <td>2</td>\n",
              "      <td>😁</td>\n",
              "      <td>only emoji</td>\n",
              "      <td>😁</td>\n",
              "      <td>only emoji</td>\n",
              "      <td>😁</td>\n",
              "    </tr>\n",
              "  </tbody>\n",
              "</table>\n",
              "<p>80277 rows × 7 columns</p>\n",
              "</div>\n",
              "      <button class=\"colab-df-convert\" onclick=\"convertToInteractive('df-68482df1-046d-47f7-8b9e-cc78795f48f1')\"\n",
              "              title=\"Convert this dataframe to an interactive table.\"\n",
              "              style=\"display:none;\">\n",
              "        \n",
              "  <svg xmlns=\"http://www.w3.org/2000/svg\" height=\"24px\"viewBox=\"0 0 24 24\"\n",
              "       width=\"24px\">\n",
              "    <path d=\"M0 0h24v24H0V0z\" fill=\"none\"/>\n",
              "    <path d=\"M18.56 5.44l.94 2.06.94-2.06 2.06-.94-2.06-.94-.94-2.06-.94 2.06-2.06.94zm-11 1L8.5 8.5l.94-2.06 2.06-.94-2.06-.94L8.5 2.5l-.94 2.06-2.06.94zm10 10l.94 2.06.94-2.06 2.06-.94-2.06-.94-.94-2.06-.94 2.06-2.06.94z\"/><path d=\"M17.41 7.96l-1.37-1.37c-.4-.4-.92-.59-1.43-.59-.52 0-1.04.2-1.43.59L10.3 9.45l-7.72 7.72c-.78.78-.78 2.05 0 2.83L4 21.41c.39.39.9.59 1.41.59.51 0 1.02-.2 1.41-.59l7.78-7.78 2.81-2.81c.8-.78.8-2.07 0-2.86zM5.41 20L4 18.59l7.72-7.72 1.47 1.35L5.41 20z\"/>\n",
              "  </svg>\n",
              "      </button>\n",
              "      \n",
              "  <style>\n",
              "    .colab-df-container {\n",
              "      display:flex;\n",
              "      flex-wrap:wrap;\n",
              "      gap: 12px;\n",
              "    }\n",
              "\n",
              "    .colab-df-convert {\n",
              "      background-color: #E8F0FE;\n",
              "      border: none;\n",
              "      border-radius: 50%;\n",
              "      cursor: pointer;\n",
              "      display: none;\n",
              "      fill: #1967D2;\n",
              "      height: 32px;\n",
              "      padding: 0 0 0 0;\n",
              "      width: 32px;\n",
              "    }\n",
              "\n",
              "    .colab-df-convert:hover {\n",
              "      background-color: #E2EBFA;\n",
              "      box-shadow: 0px 1px 2px rgba(60, 64, 67, 0.3), 0px 1px 3px 1px rgba(60, 64, 67, 0.15);\n",
              "      fill: #174EA6;\n",
              "    }\n",
              "\n",
              "    [theme=dark] .colab-df-convert {\n",
              "      background-color: #3B4455;\n",
              "      fill: #D2E3FC;\n",
              "    }\n",
              "\n",
              "    [theme=dark] .colab-df-convert:hover {\n",
              "      background-color: #434B5C;\n",
              "      box-shadow: 0px 1px 3px 1px rgba(0, 0, 0, 0.15);\n",
              "      filter: drop-shadow(0px 1px 2px rgba(0, 0, 0, 0.3));\n",
              "      fill: #FFFFFF;\n",
              "    }\n",
              "  </style>\n",
              "\n",
              "      <script>\n",
              "        const buttonEl =\n",
              "          document.querySelector('#df-68482df1-046d-47f7-8b9e-cc78795f48f1 button.colab-df-convert');\n",
              "        buttonEl.style.display =\n",
              "          google.colab.kernel.accessAllowed ? 'block' : 'none';\n",
              "\n",
              "        async function convertToInteractive(key) {\n",
              "          const element = document.querySelector('#df-68482df1-046d-47f7-8b9e-cc78795f48f1');\n",
              "          const dataTable =\n",
              "            await google.colab.kernel.invokeFunction('convertToInteractive',\n",
              "                                                     [key], {});\n",
              "          if (!dataTable) return;\n",
              "\n",
              "          const docLinkHtml = 'Like what you see? Visit the ' +\n",
              "            '<a target=\"_blank\" href=https://colab.research.google.com/notebooks/data_table.ipynb>data table notebook</a>'\n",
              "            + ' to learn more about interactive tables.';\n",
              "          element.innerHTML = '';\n",
              "          dataTable['output_type'] = 'display_data';\n",
              "          await google.colab.output.renderOutput(dataTable, element);\n",
              "          const docLink = document.createElement('div');\n",
              "          docLink.innerHTML = docLinkHtml;\n",
              "          element.appendChild(docLink);\n",
              "        }\n",
              "      </script>\n",
              "    </div>\n",
              "  </div>\n",
              "  "
            ]
          },
          "metadata": {},
          "execution_count": 153
        }
      ]
    },
    {
      "cell_type": "code",
      "source": [
        "# remove empty sentences \n",
        "translated_df = src_text[src_text[\"translated_sent_withEmoji\"].str.len()!=0]"
      ],
      "metadata": {
        "id": "S-ckYNVixayh"
      },
      "execution_count": null,
      "outputs": []
    },
    {
      "cell_type": "code",
      "source": [
        "translated_df.shape"
      ],
      "metadata": {
        "colab": {
          "base_uri": "https://localhost:8080/"
        },
        "id": "ZDw0qhW3x-Cw",
        "outputId": "8cba5d5e-01d7-425c-9667-17e1db0680f2"
      },
      "execution_count": null,
      "outputs": [
        {
          "output_type": "execute_result",
          "data": {
            "text/plain": [
              "(77411, 7)"
            ]
          },
          "metadata": {},
          "execution_count": 155
        }
      ]
    },
    {
      "cell_type": "code",
      "source": [
        "# group sentences into paragraphs again \n",
        "# translated_df = src_text.groupby([\"msg_index\"]).agg({'translated_sent_withEmoji': ' '.join}).reset_index()"
      ],
      "metadata": {
        "id": "YzbRQ32gV7et"
      },
      "execution_count": null,
      "outputs": []
    },
    {
      "cell_type": "code",
      "source": [
        "ru"
      ],
      "metadata": {
        "colab": {
          "base_uri": "https://localhost:8080/",
          "height": 798
        },
        "id": "CXqkFKuszbii",
        "outputId": "79efc73c-d343-4a20-c116-1b2d4d01b3a5"
      },
      "execution_count": null,
      "outputs": [
        {
          "output_type": "execute_result",
          "data": {
            "text/plain": [
              "       msg_index  para_index  \\\n",
              "0              0           0   \n",
              "1              1           1   \n",
              "2              2           2   \n",
              "3              3           3   \n",
              "4              4           4   \n",
              "...          ...         ...   \n",
              "50703      42923       50703   \n",
              "50704      42924       50704   \n",
              "50705      42925       50705   \n",
              "50706      42926       50706   \n",
              "50707      42929       50707   \n",
              "\n",
              "                                                para_msg  msg_id    msg_date  \\\n",
              "0                                               Согласен   59694  2020-08-22   \n",
              "1      👍👍👍 Я в Минске часто на митинги попадаю! Не в ...   59693  2020-08-22   \n",
              "2      И как после этого относится к силовым структур...   59692  2020-08-22   \n",
              "3      Был в Минске в воскресенье. Что поразило, выше...   59691  2020-08-22   \n",
              "4      Ребчта я не понимаю о ваши споры иобсуждения ,...   59687  2020-08-22   \n",
              "...                                                  ...     ...         ...   \n",
              "50703                         Белорусь, такой страны нет   17109  2020-08-11   \n",
              "50704  только тапоры и брать !Или мы их или они нас!Б...   17108  2020-08-11   \n",
              "50705                                Домодедово с Вами✌️   17103  2020-08-11   \n",
              "50706   Поздравляю но для таких \"умных\" людей есть игнор   17090  2020-08-11   \n",
              "50707  А давай один на один. Каждый из вас против мен...   17072  2020-08-11   \n",
              "\n",
              "                                                full_msg  \n",
              "0                                               Согласен  \n",
              "1      👍👍👍 Я в Минске часто на митинги попадаю! Не в ...  \n",
              "2      И как после этого относится к силовым структур...  \n",
              "3      Был в Минске в воскресенье. Что поразило, выше...  \n",
              "4      Ребчта я не понимаю о ваши споры иобсуждения ,...  \n",
              "...                                                  ...  \n",
              "50703                         Белорусь, такой страны нет  \n",
              "50704  только тапоры  и брать   !Или мы их  или они н...  \n",
              "50705                                Домодедово с Вами✌️  \n",
              "50706   Поздравляю но для таких \"умных\" людей есть игнор  \n",
              "50707  А давай один на один. Каждый из вас против мен...  \n",
              "\n",
              "[50708 rows x 6 columns]"
            ],
            "text/html": [
              "\n",
              "  <div id=\"df-5c00611b-0a98-45d4-ae8c-a2a950e7239f\">\n",
              "    <div class=\"colab-df-container\">\n",
              "      <div>\n",
              "<style scoped>\n",
              "    .dataframe tbody tr th:only-of-type {\n",
              "        vertical-align: middle;\n",
              "    }\n",
              "\n",
              "    .dataframe tbody tr th {\n",
              "        vertical-align: top;\n",
              "    }\n",
              "\n",
              "    .dataframe thead th {\n",
              "        text-align: right;\n",
              "    }\n",
              "</style>\n",
              "<table border=\"1\" class=\"dataframe\">\n",
              "  <thead>\n",
              "    <tr style=\"text-align: right;\">\n",
              "      <th></th>\n",
              "      <th>msg_index</th>\n",
              "      <th>para_index</th>\n",
              "      <th>para_msg</th>\n",
              "      <th>msg_id</th>\n",
              "      <th>msg_date</th>\n",
              "      <th>full_msg</th>\n",
              "    </tr>\n",
              "  </thead>\n",
              "  <tbody>\n",
              "    <tr>\n",
              "      <th>0</th>\n",
              "      <td>0</td>\n",
              "      <td>0</td>\n",
              "      <td>Согласен</td>\n",
              "      <td>59694</td>\n",
              "      <td>2020-08-22</td>\n",
              "      <td>Согласен</td>\n",
              "    </tr>\n",
              "    <tr>\n",
              "      <th>1</th>\n",
              "      <td>1</td>\n",
              "      <td>1</td>\n",
              "      <td>👍👍👍 Я в Минске часто на митинги попадаю! Не в ...</td>\n",
              "      <td>59693</td>\n",
              "      <td>2020-08-22</td>\n",
              "      <td>👍👍👍 Я в Минске часто на митинги попадаю! Не в ...</td>\n",
              "    </tr>\n",
              "    <tr>\n",
              "      <th>2</th>\n",
              "      <td>2</td>\n",
              "      <td>2</td>\n",
              "      <td>И как после этого относится к силовым структур...</td>\n",
              "      <td>59692</td>\n",
              "      <td>2020-08-22</td>\n",
              "      <td>И как после этого относится к силовым структур...</td>\n",
              "    </tr>\n",
              "    <tr>\n",
              "      <th>3</th>\n",
              "      <td>3</td>\n",
              "      <td>3</td>\n",
              "      <td>Был в Минске в воскресенье. Что поразило, выше...</td>\n",
              "      <td>59691</td>\n",
              "      <td>2020-08-22</td>\n",
              "      <td>Был в Минске в воскресенье. Что поразило, выше...</td>\n",
              "    </tr>\n",
              "    <tr>\n",
              "      <th>4</th>\n",
              "      <td>4</td>\n",
              "      <td>4</td>\n",
              "      <td>Ребчта я не понимаю о ваши споры иобсуждения ,...</td>\n",
              "      <td>59687</td>\n",
              "      <td>2020-08-22</td>\n",
              "      <td>Ребчта я не понимаю о ваши споры иобсуждения ,...</td>\n",
              "    </tr>\n",
              "    <tr>\n",
              "      <th>...</th>\n",
              "      <td>...</td>\n",
              "      <td>...</td>\n",
              "      <td>...</td>\n",
              "      <td>...</td>\n",
              "      <td>...</td>\n",
              "      <td>...</td>\n",
              "    </tr>\n",
              "    <tr>\n",
              "      <th>50703</th>\n",
              "      <td>42923</td>\n",
              "      <td>50703</td>\n",
              "      <td>Белорусь, такой страны нет</td>\n",
              "      <td>17109</td>\n",
              "      <td>2020-08-11</td>\n",
              "      <td>Белорусь, такой страны нет</td>\n",
              "    </tr>\n",
              "    <tr>\n",
              "      <th>50704</th>\n",
              "      <td>42924</td>\n",
              "      <td>50704</td>\n",
              "      <td>только тапоры и брать !Или мы их или они нас!Б...</td>\n",
              "      <td>17108</td>\n",
              "      <td>2020-08-11</td>\n",
              "      <td>только тапоры  и брать   !Или мы их  или они н...</td>\n",
              "    </tr>\n",
              "    <tr>\n",
              "      <th>50705</th>\n",
              "      <td>42925</td>\n",
              "      <td>50705</td>\n",
              "      <td>Домодедово с Вами✌️</td>\n",
              "      <td>17103</td>\n",
              "      <td>2020-08-11</td>\n",
              "      <td>Домодедово с Вами✌️</td>\n",
              "    </tr>\n",
              "    <tr>\n",
              "      <th>50706</th>\n",
              "      <td>42926</td>\n",
              "      <td>50706</td>\n",
              "      <td>Поздравляю но для таких \"умных\" людей есть игнор</td>\n",
              "      <td>17090</td>\n",
              "      <td>2020-08-11</td>\n",
              "      <td>Поздравляю но для таких \"умных\" людей есть игнор</td>\n",
              "    </tr>\n",
              "    <tr>\n",
              "      <th>50707</th>\n",
              "      <td>42929</td>\n",
              "      <td>50707</td>\n",
              "      <td>А давай один на один. Каждый из вас против мен...</td>\n",
              "      <td>17072</td>\n",
              "      <td>2020-08-11</td>\n",
              "      <td>А давай один на один. Каждый из вас против мен...</td>\n",
              "    </tr>\n",
              "  </tbody>\n",
              "</table>\n",
              "<p>50708 rows × 6 columns</p>\n",
              "</div>\n",
              "      <button class=\"colab-df-convert\" onclick=\"convertToInteractive('df-5c00611b-0a98-45d4-ae8c-a2a950e7239f')\"\n",
              "              title=\"Convert this dataframe to an interactive table.\"\n",
              "              style=\"display:none;\">\n",
              "        \n",
              "  <svg xmlns=\"http://www.w3.org/2000/svg\" height=\"24px\"viewBox=\"0 0 24 24\"\n",
              "       width=\"24px\">\n",
              "    <path d=\"M0 0h24v24H0V0z\" fill=\"none\"/>\n",
              "    <path d=\"M18.56 5.44l.94 2.06.94-2.06 2.06-.94-2.06-.94-.94-2.06-.94 2.06-2.06.94zm-11 1L8.5 8.5l.94-2.06 2.06-.94-2.06-.94L8.5 2.5l-.94 2.06-2.06.94zm10 10l.94 2.06.94-2.06 2.06-.94-2.06-.94-.94-2.06-.94 2.06-2.06.94z\"/><path d=\"M17.41 7.96l-1.37-1.37c-.4-.4-.92-.59-1.43-.59-.52 0-1.04.2-1.43.59L10.3 9.45l-7.72 7.72c-.78.78-.78 2.05 0 2.83L4 21.41c.39.39.9.59 1.41.59.51 0 1.02-.2 1.41-.59l7.78-7.78 2.81-2.81c.8-.78.8-2.07 0-2.86zM5.41 20L4 18.59l7.72-7.72 1.47 1.35L5.41 20z\"/>\n",
              "  </svg>\n",
              "      </button>\n",
              "      \n",
              "  <style>\n",
              "    .colab-df-container {\n",
              "      display:flex;\n",
              "      flex-wrap:wrap;\n",
              "      gap: 12px;\n",
              "    }\n",
              "\n",
              "    .colab-df-convert {\n",
              "      background-color: #E8F0FE;\n",
              "      border: none;\n",
              "      border-radius: 50%;\n",
              "      cursor: pointer;\n",
              "      display: none;\n",
              "      fill: #1967D2;\n",
              "      height: 32px;\n",
              "      padding: 0 0 0 0;\n",
              "      width: 32px;\n",
              "    }\n",
              "\n",
              "    .colab-df-convert:hover {\n",
              "      background-color: #E2EBFA;\n",
              "      box-shadow: 0px 1px 2px rgba(60, 64, 67, 0.3), 0px 1px 3px 1px rgba(60, 64, 67, 0.15);\n",
              "      fill: #174EA6;\n",
              "    }\n",
              "\n",
              "    [theme=dark] .colab-df-convert {\n",
              "      background-color: #3B4455;\n",
              "      fill: #D2E3FC;\n",
              "    }\n",
              "\n",
              "    [theme=dark] .colab-df-convert:hover {\n",
              "      background-color: #434B5C;\n",
              "      box-shadow: 0px 1px 3px 1px rgba(0, 0, 0, 0.15);\n",
              "      filter: drop-shadow(0px 1px 2px rgba(0, 0, 0, 0.3));\n",
              "      fill: #FFFFFF;\n",
              "    }\n",
              "  </style>\n",
              "\n",
              "      <script>\n",
              "        const buttonEl =\n",
              "          document.querySelector('#df-5c00611b-0a98-45d4-ae8c-a2a950e7239f button.colab-df-convert');\n",
              "        buttonEl.style.display =\n",
              "          google.colab.kernel.accessAllowed ? 'block' : 'none';\n",
              "\n",
              "        async function convertToInteractive(key) {\n",
              "          const element = document.querySelector('#df-5c00611b-0a98-45d4-ae8c-a2a950e7239f');\n",
              "          const dataTable =\n",
              "            await google.colab.kernel.invokeFunction('convertToInteractive',\n",
              "                                                     [key], {});\n",
              "          if (!dataTable) return;\n",
              "\n",
              "          const docLinkHtml = 'Like what you see? Visit the ' +\n",
              "            '<a target=\"_blank\" href=https://colab.research.google.com/notebooks/data_table.ipynb>data table notebook</a>'\n",
              "            + ' to learn more about interactive tables.';\n",
              "          element.innerHTML = '';\n",
              "          dataTable['output_type'] = 'display_data';\n",
              "          await google.colab.output.renderOutput(dataTable, element);\n",
              "          const docLink = document.createElement('div');\n",
              "          docLink.innerHTML = docLinkHtml;\n",
              "          element.appendChild(docLink);\n",
              "        }\n",
              "      </script>\n",
              "    </div>\n",
              "  </div>\n",
              "  "
            ]
          },
          "metadata": {},
          "execution_count": 156
        }
      ]
    },
    {
      "cell_type": "code",
      "source": [
        "\n",
        "translated_df = translated_df.merge(ru, \n",
        "                    how=\"left\", \n",
        "                    on=\"para_index\")"
      ],
      "metadata": {
        "id": "5m8hL3X3y0Le"
      },
      "execution_count": null,
      "outputs": []
    },
    {
      "cell_type": "code",
      "source": [
        "translated_df"
      ],
      "metadata": {
        "colab": {
          "base_uri": "https://localhost:8080/",
          "height": 1000
        },
        "id": "em39IlJi0eQA",
        "outputId": "12600d6e-a3a1-42fb-c22d-1077a4cc6697"
      },
      "execution_count": null,
      "outputs": [
        {
          "output_type": "execute_result",
          "data": {
            "text/plain": [
              "       para_index  sent_index  \\\n",
              "0               0           0   \n",
              "1               1           0   \n",
              "2               1           1   \n",
              "3               2           0   \n",
              "4               2           1   \n",
              "...           ...         ...   \n",
              "77406       50705           0   \n",
              "77407       50706           0   \n",
              "77408       50707           0   \n",
              "77409       50707           1   \n",
              "77410       50707           2   \n",
              "\n",
              "                                               sent_text  \\\n",
              "0                                               Согласен   \n",
              "1               👍👍👍 Я в Минске часто на митинги попадаю!   \n",
              "2      Не в обиду сказано, но такой атмосферы как там...   \n",
              "3      И как после этого относится к силовым структур...   \n",
              "4           Желаю вам сдохнуть - Граждане милиционеры!!!   \n",
              "...                                                  ...   \n",
              "77406                                Домодедово с Вами✌️   \n",
              "77407   Поздравляю но для таких \"умных\" людей есть игнор   \n",
              "77408                              А давай один на один.   \n",
              "77409                      Каждый из вас против меня, а?   \n",
              "77410                                                  😁   \n",
              "\n",
              "                                       sent_text_noEmoji sent_Emojis  \\\n",
              "0                                               Согласен               \n",
              "1                   Я в Минске часто на митинги попадаю!         👍👍👍   \n",
              "2      Не в обиду сказано, но такой атмосферы как там...               \n",
              "3      И как после этого относится к силовым структур...               \n",
              "4           Желаю вам сдохнуть - Граждане милиционеры!!!               \n",
              "...                                                  ...         ...   \n",
              "77406                                 Домодедово с Вами️           ✌   \n",
              "77407   Поздравляю но для таких \"умных\" людей есть игнор               \n",
              "77408                              А давай один на один.               \n",
              "77409                      Каждый из вас против меня, а?               \n",
              "77410                                         only emoji           😁   \n",
              "\n",
              "                                         translated_sent  \\\n",
              "0                                               I agree.   \n",
              "1                       I often go to meetings in Minsk!   \n",
              "2      No offense said, but that's the atmosphere I'v...   \n",
              "3      And after that, how does the force structure f...   \n",
              "4               May you die - civilians of the police!!!   \n",
              "...                                                  ...   \n",
              "77406                                Homedad's with you.   \n",
              "77407  Congratulations, but for such \"smart\" people, ...   \n",
              "77408                               Let's go one-on-one.   \n",
              "77409                    Each of you is against me, huh?   \n",
              "77410                                         only emoji   \n",
              "\n",
              "                               translated_sent_withEmoji  msg_index  \\\n",
              "0                                               I agree.          0   \n",
              "1                    I often go to meetings in Minsk!👍👍👍          1   \n",
              "2      No offense said, but that's the atmosphere I'v...          1   \n",
              "3      And after that, how does the force structure f...          2   \n",
              "4               May you die - civilians of the police!!!          2   \n",
              "...                                                  ...        ...   \n",
              "77406                               Homedad's with you.✌      42925   \n",
              "77407  Congratulations, but for such \"smart\" people, ...      42926   \n",
              "77408                               Let's go one-on-one.      42929   \n",
              "77409                    Each of you is against me, huh?      42929   \n",
              "77410                                                  😁      42929   \n",
              "\n",
              "                                                para_msg  msg_id    msg_date  \\\n",
              "0                                               Согласен   59694  2020-08-22   \n",
              "1      👍👍👍 Я в Минске часто на митинги попадаю! Не в ...   59693  2020-08-22   \n",
              "2      👍👍👍 Я в Минске часто на митинги попадаю! Не в ...   59693  2020-08-22   \n",
              "3      И как после этого относится к силовым структур...   59692  2020-08-22   \n",
              "4      И как после этого относится к силовым структур...   59692  2020-08-22   \n",
              "...                                                  ...     ...         ...   \n",
              "77406                                Домодедово с Вами✌️   17103  2020-08-11   \n",
              "77407   Поздравляю но для таких \"умных\" людей есть игнор   17090  2020-08-11   \n",
              "77408  А давай один на один. Каждый из вас против мен...   17072  2020-08-11   \n",
              "77409  А давай один на один. Каждый из вас против мен...   17072  2020-08-11   \n",
              "77410  А давай один на один. Каждый из вас против мен...   17072  2020-08-11   \n",
              "\n",
              "                                                full_msg  \n",
              "0                                               Согласен  \n",
              "1      👍👍👍 Я в Минске часто на митинги попадаю! Не в ...  \n",
              "2      👍👍👍 Я в Минске часто на митинги попадаю! Не в ...  \n",
              "3      И как после этого относится к силовым структур...  \n",
              "4      И как после этого относится к силовым структур...  \n",
              "...                                                  ...  \n",
              "77406                                Домодедово с Вами✌️  \n",
              "77407   Поздравляю но для таких \"умных\" людей есть игнор  \n",
              "77408  А давай один на один. Каждый из вас против мен...  \n",
              "77409  А давай один на один. Каждый из вас против мен...  \n",
              "77410  А давай один на один. Каждый из вас против мен...  \n",
              "\n",
              "[77411 rows x 12 columns]"
            ],
            "text/html": [
              "\n",
              "  <div id=\"df-75683d4a-d34c-4dc0-892b-a67ee4309c2c\">\n",
              "    <div class=\"colab-df-container\">\n",
              "      <div>\n",
              "<style scoped>\n",
              "    .dataframe tbody tr th:only-of-type {\n",
              "        vertical-align: middle;\n",
              "    }\n",
              "\n",
              "    .dataframe tbody tr th {\n",
              "        vertical-align: top;\n",
              "    }\n",
              "\n",
              "    .dataframe thead th {\n",
              "        text-align: right;\n",
              "    }\n",
              "</style>\n",
              "<table border=\"1\" class=\"dataframe\">\n",
              "  <thead>\n",
              "    <tr style=\"text-align: right;\">\n",
              "      <th></th>\n",
              "      <th>para_index</th>\n",
              "      <th>sent_index</th>\n",
              "      <th>sent_text</th>\n",
              "      <th>sent_text_noEmoji</th>\n",
              "      <th>sent_Emojis</th>\n",
              "      <th>translated_sent</th>\n",
              "      <th>translated_sent_withEmoji</th>\n",
              "      <th>msg_index</th>\n",
              "      <th>para_msg</th>\n",
              "      <th>msg_id</th>\n",
              "      <th>msg_date</th>\n",
              "      <th>full_msg</th>\n",
              "    </tr>\n",
              "  </thead>\n",
              "  <tbody>\n",
              "    <tr>\n",
              "      <th>0</th>\n",
              "      <td>0</td>\n",
              "      <td>0</td>\n",
              "      <td>Согласен</td>\n",
              "      <td>Согласен</td>\n",
              "      <td></td>\n",
              "      <td>I agree.</td>\n",
              "      <td>I agree.</td>\n",
              "      <td>0</td>\n",
              "      <td>Согласен</td>\n",
              "      <td>59694</td>\n",
              "      <td>2020-08-22</td>\n",
              "      <td>Согласен</td>\n",
              "    </tr>\n",
              "    <tr>\n",
              "      <th>1</th>\n",
              "      <td>1</td>\n",
              "      <td>0</td>\n",
              "      <td>👍👍👍 Я в Минске часто на митинги попадаю!</td>\n",
              "      <td>Я в Минске часто на митинги попадаю!</td>\n",
              "      <td>👍👍👍</td>\n",
              "      <td>I often go to meetings in Minsk!</td>\n",
              "      <td>I often go to meetings in Minsk!👍👍👍</td>\n",
              "      <td>1</td>\n",
              "      <td>👍👍👍 Я в Минске часто на митинги попадаю! Не в ...</td>\n",
              "      <td>59693</td>\n",
              "      <td>2020-08-22</td>\n",
              "      <td>👍👍👍 Я в Минске часто на митинги попадаю! Не в ...</td>\n",
              "    </tr>\n",
              "    <tr>\n",
              "      <th>2</th>\n",
              "      <td>1</td>\n",
              "      <td>1</td>\n",
              "      <td>Не в обиду сказано, но такой атмосферы как там...</td>\n",
              "      <td>Не в обиду сказано, но такой атмосферы как там...</td>\n",
              "      <td></td>\n",
              "      <td>No offense said, but that's the atmosphere I'v...</td>\n",
              "      <td>No offense said, but that's the atmosphere I'v...</td>\n",
              "      <td>1</td>\n",
              "      <td>👍👍👍 Я в Минске часто на митинги попадаю! Не в ...</td>\n",
              "      <td>59693</td>\n",
              "      <td>2020-08-22</td>\n",
              "      <td>👍👍👍 Я в Минске часто на митинги попадаю! Не в ...</td>\n",
              "    </tr>\n",
              "    <tr>\n",
              "      <th>3</th>\n",
              "      <td>2</td>\n",
              "      <td>0</td>\n",
              "      <td>И как после этого относится к силовым структур...</td>\n",
              "      <td>И как после этого относится к силовым структур...</td>\n",
              "      <td></td>\n",
              "      <td>And after that, how does the force structure f...</td>\n",
              "      <td>And after that, how does the force structure f...</td>\n",
              "      <td>2</td>\n",
              "      <td>И как после этого относится к силовым структур...</td>\n",
              "      <td>59692</td>\n",
              "      <td>2020-08-22</td>\n",
              "      <td>И как после этого относится к силовым структур...</td>\n",
              "    </tr>\n",
              "    <tr>\n",
              "      <th>4</th>\n",
              "      <td>2</td>\n",
              "      <td>1</td>\n",
              "      <td>Желаю вам сдохнуть - Граждане милиционеры!!!</td>\n",
              "      <td>Желаю вам сдохнуть - Граждане милиционеры!!!</td>\n",
              "      <td></td>\n",
              "      <td>May you die - civilians of the police!!!</td>\n",
              "      <td>May you die - civilians of the police!!!</td>\n",
              "      <td>2</td>\n",
              "      <td>И как после этого относится к силовым структур...</td>\n",
              "      <td>59692</td>\n",
              "      <td>2020-08-22</td>\n",
              "      <td>И как после этого относится к силовым структур...</td>\n",
              "    </tr>\n",
              "    <tr>\n",
              "      <th>...</th>\n",
              "      <td>...</td>\n",
              "      <td>...</td>\n",
              "      <td>...</td>\n",
              "      <td>...</td>\n",
              "      <td>...</td>\n",
              "      <td>...</td>\n",
              "      <td>...</td>\n",
              "      <td>...</td>\n",
              "      <td>...</td>\n",
              "      <td>...</td>\n",
              "      <td>...</td>\n",
              "      <td>...</td>\n",
              "    </tr>\n",
              "    <tr>\n",
              "      <th>77406</th>\n",
              "      <td>50705</td>\n",
              "      <td>0</td>\n",
              "      <td>Домодедово с Вами✌️</td>\n",
              "      <td>Домодедово с Вами️</td>\n",
              "      <td>✌</td>\n",
              "      <td>Homedad's with you.</td>\n",
              "      <td>Homedad's with you.✌</td>\n",
              "      <td>42925</td>\n",
              "      <td>Домодедово с Вами✌️</td>\n",
              "      <td>17103</td>\n",
              "      <td>2020-08-11</td>\n",
              "      <td>Домодедово с Вами✌️</td>\n",
              "    </tr>\n",
              "    <tr>\n",
              "      <th>77407</th>\n",
              "      <td>50706</td>\n",
              "      <td>0</td>\n",
              "      <td>Поздравляю но для таких \"умных\" людей есть игнор</td>\n",
              "      <td>Поздравляю но для таких \"умных\" людей есть игнор</td>\n",
              "      <td></td>\n",
              "      <td>Congratulations, but for such \"smart\" people, ...</td>\n",
              "      <td>Congratulations, but for such \"smart\" people, ...</td>\n",
              "      <td>42926</td>\n",
              "      <td>Поздравляю но для таких \"умных\" людей есть игнор</td>\n",
              "      <td>17090</td>\n",
              "      <td>2020-08-11</td>\n",
              "      <td>Поздравляю но для таких \"умных\" людей есть игнор</td>\n",
              "    </tr>\n",
              "    <tr>\n",
              "      <th>77408</th>\n",
              "      <td>50707</td>\n",
              "      <td>0</td>\n",
              "      <td>А давай один на один.</td>\n",
              "      <td>А давай один на один.</td>\n",
              "      <td></td>\n",
              "      <td>Let's go one-on-one.</td>\n",
              "      <td>Let's go one-on-one.</td>\n",
              "      <td>42929</td>\n",
              "      <td>А давай один на один. Каждый из вас против мен...</td>\n",
              "      <td>17072</td>\n",
              "      <td>2020-08-11</td>\n",
              "      <td>А давай один на один. Каждый из вас против мен...</td>\n",
              "    </tr>\n",
              "    <tr>\n",
              "      <th>77409</th>\n",
              "      <td>50707</td>\n",
              "      <td>1</td>\n",
              "      <td>Каждый из вас против меня, а?</td>\n",
              "      <td>Каждый из вас против меня, а?</td>\n",
              "      <td></td>\n",
              "      <td>Each of you is against me, huh?</td>\n",
              "      <td>Each of you is against me, huh?</td>\n",
              "      <td>42929</td>\n",
              "      <td>А давай один на один. Каждый из вас против мен...</td>\n",
              "      <td>17072</td>\n",
              "      <td>2020-08-11</td>\n",
              "      <td>А давай один на один. Каждый из вас против мен...</td>\n",
              "    </tr>\n",
              "    <tr>\n",
              "      <th>77410</th>\n",
              "      <td>50707</td>\n",
              "      <td>2</td>\n",
              "      <td>😁</td>\n",
              "      <td>only emoji</td>\n",
              "      <td>😁</td>\n",
              "      <td>only emoji</td>\n",
              "      <td>😁</td>\n",
              "      <td>42929</td>\n",
              "      <td>А давай один на один. Каждый из вас против мен...</td>\n",
              "      <td>17072</td>\n",
              "      <td>2020-08-11</td>\n",
              "      <td>А давай один на один. Каждый из вас против мен...</td>\n",
              "    </tr>\n",
              "  </tbody>\n",
              "</table>\n",
              "<p>77411 rows × 12 columns</p>\n",
              "</div>\n",
              "      <button class=\"colab-df-convert\" onclick=\"convertToInteractive('df-75683d4a-d34c-4dc0-892b-a67ee4309c2c')\"\n",
              "              title=\"Convert this dataframe to an interactive table.\"\n",
              "              style=\"display:none;\">\n",
              "        \n",
              "  <svg xmlns=\"http://www.w3.org/2000/svg\" height=\"24px\"viewBox=\"0 0 24 24\"\n",
              "       width=\"24px\">\n",
              "    <path d=\"M0 0h24v24H0V0z\" fill=\"none\"/>\n",
              "    <path d=\"M18.56 5.44l.94 2.06.94-2.06 2.06-.94-2.06-.94-.94-2.06-.94 2.06-2.06.94zm-11 1L8.5 8.5l.94-2.06 2.06-.94-2.06-.94L8.5 2.5l-.94 2.06-2.06.94zm10 10l.94 2.06.94-2.06 2.06-.94-2.06-.94-.94-2.06-.94 2.06-2.06.94z\"/><path d=\"M17.41 7.96l-1.37-1.37c-.4-.4-.92-.59-1.43-.59-.52 0-1.04.2-1.43.59L10.3 9.45l-7.72 7.72c-.78.78-.78 2.05 0 2.83L4 21.41c.39.39.9.59 1.41.59.51 0 1.02-.2 1.41-.59l7.78-7.78 2.81-2.81c.8-.78.8-2.07 0-2.86zM5.41 20L4 18.59l7.72-7.72 1.47 1.35L5.41 20z\"/>\n",
              "  </svg>\n",
              "      </button>\n",
              "      \n",
              "  <style>\n",
              "    .colab-df-container {\n",
              "      display:flex;\n",
              "      flex-wrap:wrap;\n",
              "      gap: 12px;\n",
              "    }\n",
              "\n",
              "    .colab-df-convert {\n",
              "      background-color: #E8F0FE;\n",
              "      border: none;\n",
              "      border-radius: 50%;\n",
              "      cursor: pointer;\n",
              "      display: none;\n",
              "      fill: #1967D2;\n",
              "      height: 32px;\n",
              "      padding: 0 0 0 0;\n",
              "      width: 32px;\n",
              "    }\n",
              "\n",
              "    .colab-df-convert:hover {\n",
              "      background-color: #E2EBFA;\n",
              "      box-shadow: 0px 1px 2px rgba(60, 64, 67, 0.3), 0px 1px 3px 1px rgba(60, 64, 67, 0.15);\n",
              "      fill: #174EA6;\n",
              "    }\n",
              "\n",
              "    [theme=dark] .colab-df-convert {\n",
              "      background-color: #3B4455;\n",
              "      fill: #D2E3FC;\n",
              "    }\n",
              "\n",
              "    [theme=dark] .colab-df-convert:hover {\n",
              "      background-color: #434B5C;\n",
              "      box-shadow: 0px 1px 3px 1px rgba(0, 0, 0, 0.15);\n",
              "      filter: drop-shadow(0px 1px 2px rgba(0, 0, 0, 0.3));\n",
              "      fill: #FFFFFF;\n",
              "    }\n",
              "  </style>\n",
              "\n",
              "      <script>\n",
              "        const buttonEl =\n",
              "          document.querySelector('#df-75683d4a-d34c-4dc0-892b-a67ee4309c2c button.colab-df-convert');\n",
              "        buttonEl.style.display =\n",
              "          google.colab.kernel.accessAllowed ? 'block' : 'none';\n",
              "\n",
              "        async function convertToInteractive(key) {\n",
              "          const element = document.querySelector('#df-75683d4a-d34c-4dc0-892b-a67ee4309c2c');\n",
              "          const dataTable =\n",
              "            await google.colab.kernel.invokeFunction('convertToInteractive',\n",
              "                                                     [key], {});\n",
              "          if (!dataTable) return;\n",
              "\n",
              "          const docLinkHtml = 'Like what you see? Visit the ' +\n",
              "            '<a target=\"_blank\" href=https://colab.research.google.com/notebooks/data_table.ipynb>data table notebook</a>'\n",
              "            + ' to learn more about interactive tables.';\n",
              "          element.innerHTML = '';\n",
              "          dataTable['output_type'] = 'display_data';\n",
              "          await google.colab.output.renderOutput(dataTable, element);\n",
              "          const docLink = document.createElement('div');\n",
              "          docLink.innerHTML = docLinkHtml;\n",
              "          element.appendChild(docLink);\n",
              "        }\n",
              "      </script>\n",
              "    </div>\n",
              "  </div>\n",
              "  "
            ]
          },
          "metadata": {},
          "execution_count": 158
        }
      ]
    },
    {
      "cell_type": "code",
      "source": [
        "translated_df.to_csv(\"baranovichi97pro_translated.csv\", index=False)"
      ],
      "metadata": {
        "id": "ICXxfkUE0Aln"
      },
      "execution_count": null,
      "outputs": []
    },
    {
      "cell_type": "code",
      "source": [],
      "metadata": {
        "id": "ZJWcc-WeWrBO"
      },
      "execution_count": null,
      "outputs": []
    },
    {
      "cell_type": "code",
      "source": [
        "# emotion rec \n",
        "# https://huggingface.co/cardiffnlp/twitter-roberta-base-emotion?text=I+like+you.+I+love+you"
      ],
      "metadata": {
        "id": "yziQDcFpdYwf"
      },
      "execution_count": null,
      "outputs": []
    },
    {
      "cell_type": "code",
      "source": [
        "# VADER scores \n",
        "import nltk\n",
        "\n",
        "# Download the lexicon\n",
        "nltk.download(\"vader_lexicon\")\n",
        "\n",
        "# Import the lexicon \n",
        "from nltk.sentiment.vader import SentimentIntensityAnalyzer\n",
        "\n",
        "# Create an instance of SentimentIntensityAnalyzer\n",
        "sent_analyzer = SentimentIntensityAnalyzer()\n"
      ],
      "metadata": {
        "id": "TQbl5B2R9Ugv",
        "colab": {
          "base_uri": "https://localhost:8080/"
        },
        "outputId": "d1a7d748-5797-4d5f-af03-8df0b13139ee"
      },
      "execution_count": null,
      "outputs": [
        {
          "output_type": "stream",
          "name": "stderr",
          "text": [
            "[nltk_data] Downloading package vader_lexicon to /root/nltk_data...\n"
          ]
        }
      ]
    },
    {
      "cell_type": "code",
      "source": [
        "# Ex\n",
        "# sent_analyzer.polarity_scores(\"I hate you. What you stand for is shit\")"
      ],
      "metadata": {
        "colab": {
          "base_uri": "https://localhost:8080/"
        },
        "id": "TFOIrhFo46fq",
        "outputId": "8e904694-bbf2-48e1-9038-d8029359a94d"
      },
      "execution_count": null,
      "outputs": [
        {
          "output_type": "execute_result",
          "data": {
            "text/plain": [
              "{'neg': 0.549, 'neu': 0.451, 'pos': 0.0, 'compound': -0.8074}"
            ]
          },
          "metadata": {},
          "execution_count": 164
        }
      ]
    },
    {
      "cell_type": "code",
      "source": [
        "def format_output(output_dict):\n",
        "  \n",
        "  polarity = \"neutral\"\n",
        "\n",
        "  if(output_dict['compound']>= 0.05):\n",
        "    polarity = \"positive\"\n",
        "\n",
        "  elif(output_dict['compound']<= -0.05):\n",
        "    polarity = \"negative\"\n",
        "\n",
        "  return polarity\n"
      ],
      "metadata": {
        "id": "nEEomoIW5cQW"
      },
      "execution_count": null,
      "outputs": []
    },
    {
      "cell_type": "code",
      "source": [
        "def predict_sentiment_score(text):\n",
        "  \n",
        "  output_dict =  sent_analyzer.polarity_scores(text)\n",
        "  return (output_dict[\"compound\"])"
      ],
      "metadata": {
        "id": "LeFkowCv5cSu"
      },
      "execution_count": null,
      "outputs": []
    },
    {
      "cell_type": "code",
      "source": [
        "def predict_sentiment(text):\n",
        "  output_dict =  sent_analyzer.polarity_scores(text)\n",
        "  return (format_output(output_dict))\n"
      ],
      "metadata": {
        "id": "pTt4QAi7PbnY"
      },
      "execution_count": null,
      "outputs": []
    },
    {
      "cell_type": "code",
      "source": [
        "predict_sentiment(translated_para[\"translated_sent_withEmoji\"][1])[\"compound\"]"
      ],
      "metadata": {
        "colab": {
          "base_uri": "https://localhost:8080/"
        },
        "id": "iOyJ9DpP58ej",
        "outputId": "fdbfd783-da2d-4732-c6e5-5488d6a6e8a8"
      },
      "execution_count": null,
      "outputs": [
        {
          "output_type": "execute_result",
          "data": {
            "text/plain": [
              "-0.3382"
            ]
          },
          "metadata": {},
          "execution_count": 188
        }
      ]
    },
    {
      "cell_type": "code",
      "source": [
        "translated_para = translated_df.groupby([\"para_index\"]).agg({\"translated_sent_withEmoji\": \" \".join}).reset_index()"
      ],
      "metadata": {
        "id": "qRLI6fzW7Qoy"
      },
      "execution_count": null,
      "outputs": []
    },
    {
      "cell_type": "code",
      "source": [],
      "metadata": {
        "id": "KJHFMBVgWuGa"
      },
      "execution_count": null,
      "outputs": []
    },
    {
      "cell_type": "code",
      "source": [
        "translated_para"
      ],
      "metadata": {
        "colab": {
          "base_uri": "https://localhost:8080/",
          "height": 424
        },
        "id": "3FLev7FU8VrT",
        "outputId": "d4237c97-7721-4ece-febf-51c3c1ee23e5"
      },
      "execution_count": null,
      "outputs": [
        {
          "output_type": "execute_result",
          "data": {
            "text/plain": [
              "       para_index                          translated_sent_withEmoji\n",
              "0               0                                           I agree.\n",
              "1               1  I often go to meetings in Minsk!👍👍👍 No offense...\n",
              "2               2  And after that, how does the force structure f...\n",
              "3               3  He was in Minsk on Sunday. What's striking is ...\n",
              "4               4  Guys, I don't understand your arguments and di...\n",
              "...           ...                                                ...\n",
              "50690       50703                 Belarus, there is no such country.\n",
              "50691       50704  If we take them or they take us, we'll show th...\n",
              "50692       50705                               Homedad's with you.✌\n",
              "50693       50706  Congratulations, but for such \"smart\" people, ...\n",
              "50694       50707  Let's go one-on-one. Each of you is against me...\n",
              "\n",
              "[50695 rows x 2 columns]"
            ],
            "text/html": [
              "\n",
              "  <div id=\"df-80ec870d-3868-4d4d-8147-e345b14ef09e\">\n",
              "    <div class=\"colab-df-container\">\n",
              "      <div>\n",
              "<style scoped>\n",
              "    .dataframe tbody tr th:only-of-type {\n",
              "        vertical-align: middle;\n",
              "    }\n",
              "\n",
              "    .dataframe tbody tr th {\n",
              "        vertical-align: top;\n",
              "    }\n",
              "\n",
              "    .dataframe thead th {\n",
              "        text-align: right;\n",
              "    }\n",
              "</style>\n",
              "<table border=\"1\" class=\"dataframe\">\n",
              "  <thead>\n",
              "    <tr style=\"text-align: right;\">\n",
              "      <th></th>\n",
              "      <th>para_index</th>\n",
              "      <th>translated_sent_withEmoji</th>\n",
              "    </tr>\n",
              "  </thead>\n",
              "  <tbody>\n",
              "    <tr>\n",
              "      <th>0</th>\n",
              "      <td>0</td>\n",
              "      <td>I agree.</td>\n",
              "    </tr>\n",
              "    <tr>\n",
              "      <th>1</th>\n",
              "      <td>1</td>\n",
              "      <td>I often go to meetings in Minsk!👍👍👍 No offense...</td>\n",
              "    </tr>\n",
              "    <tr>\n",
              "      <th>2</th>\n",
              "      <td>2</td>\n",
              "      <td>And after that, how does the force structure f...</td>\n",
              "    </tr>\n",
              "    <tr>\n",
              "      <th>3</th>\n",
              "      <td>3</td>\n",
              "      <td>He was in Minsk on Sunday. What's striking is ...</td>\n",
              "    </tr>\n",
              "    <tr>\n",
              "      <th>4</th>\n",
              "      <td>4</td>\n",
              "      <td>Guys, I don't understand your arguments and di...</td>\n",
              "    </tr>\n",
              "    <tr>\n",
              "      <th>...</th>\n",
              "      <td>...</td>\n",
              "      <td>...</td>\n",
              "    </tr>\n",
              "    <tr>\n",
              "      <th>50690</th>\n",
              "      <td>50703</td>\n",
              "      <td>Belarus, there is no such country.</td>\n",
              "    </tr>\n",
              "    <tr>\n",
              "      <th>50691</th>\n",
              "      <td>50704</td>\n",
              "      <td>If we take them or they take us, we'll show th...</td>\n",
              "    </tr>\n",
              "    <tr>\n",
              "      <th>50692</th>\n",
              "      <td>50705</td>\n",
              "      <td>Homedad's with you.✌</td>\n",
              "    </tr>\n",
              "    <tr>\n",
              "      <th>50693</th>\n",
              "      <td>50706</td>\n",
              "      <td>Congratulations, but for such \"smart\" people, ...</td>\n",
              "    </tr>\n",
              "    <tr>\n",
              "      <th>50694</th>\n",
              "      <td>50707</td>\n",
              "      <td>Let's go one-on-one. Each of you is against me...</td>\n",
              "    </tr>\n",
              "  </tbody>\n",
              "</table>\n",
              "<p>50695 rows × 2 columns</p>\n",
              "</div>\n",
              "      <button class=\"colab-df-convert\" onclick=\"convertToInteractive('df-80ec870d-3868-4d4d-8147-e345b14ef09e')\"\n",
              "              title=\"Convert this dataframe to an interactive table.\"\n",
              "              style=\"display:none;\">\n",
              "        \n",
              "  <svg xmlns=\"http://www.w3.org/2000/svg\" height=\"24px\"viewBox=\"0 0 24 24\"\n",
              "       width=\"24px\">\n",
              "    <path d=\"M0 0h24v24H0V0z\" fill=\"none\"/>\n",
              "    <path d=\"M18.56 5.44l.94 2.06.94-2.06 2.06-.94-2.06-.94-.94-2.06-.94 2.06-2.06.94zm-11 1L8.5 8.5l.94-2.06 2.06-.94-2.06-.94L8.5 2.5l-.94 2.06-2.06.94zm10 10l.94 2.06.94-2.06 2.06-.94-2.06-.94-.94-2.06-.94 2.06-2.06.94z\"/><path d=\"M17.41 7.96l-1.37-1.37c-.4-.4-.92-.59-1.43-.59-.52 0-1.04.2-1.43.59L10.3 9.45l-7.72 7.72c-.78.78-.78 2.05 0 2.83L4 21.41c.39.39.9.59 1.41.59.51 0 1.02-.2 1.41-.59l7.78-7.78 2.81-2.81c.8-.78.8-2.07 0-2.86zM5.41 20L4 18.59l7.72-7.72 1.47 1.35L5.41 20z\"/>\n",
              "  </svg>\n",
              "      </button>\n",
              "      \n",
              "  <style>\n",
              "    .colab-df-container {\n",
              "      display:flex;\n",
              "      flex-wrap:wrap;\n",
              "      gap: 12px;\n",
              "    }\n",
              "\n",
              "    .colab-df-convert {\n",
              "      background-color: #E8F0FE;\n",
              "      border: none;\n",
              "      border-radius: 50%;\n",
              "      cursor: pointer;\n",
              "      display: none;\n",
              "      fill: #1967D2;\n",
              "      height: 32px;\n",
              "      padding: 0 0 0 0;\n",
              "      width: 32px;\n",
              "    }\n",
              "\n",
              "    .colab-df-convert:hover {\n",
              "      background-color: #E2EBFA;\n",
              "      box-shadow: 0px 1px 2px rgba(60, 64, 67, 0.3), 0px 1px 3px 1px rgba(60, 64, 67, 0.15);\n",
              "      fill: #174EA6;\n",
              "    }\n",
              "\n",
              "    [theme=dark] .colab-df-convert {\n",
              "      background-color: #3B4455;\n",
              "      fill: #D2E3FC;\n",
              "    }\n",
              "\n",
              "    [theme=dark] .colab-df-convert:hover {\n",
              "      background-color: #434B5C;\n",
              "      box-shadow: 0px 1px 3px 1px rgba(0, 0, 0, 0.15);\n",
              "      filter: drop-shadow(0px 1px 2px rgba(0, 0, 0, 0.3));\n",
              "      fill: #FFFFFF;\n",
              "    }\n",
              "  </style>\n",
              "\n",
              "      <script>\n",
              "        const buttonEl =\n",
              "          document.querySelector('#df-80ec870d-3868-4d4d-8147-e345b14ef09e button.colab-df-convert');\n",
              "        buttonEl.style.display =\n",
              "          google.colab.kernel.accessAllowed ? 'block' : 'none';\n",
              "\n",
              "        async function convertToInteractive(key) {\n",
              "          const element = document.querySelector('#df-80ec870d-3868-4d4d-8147-e345b14ef09e');\n",
              "          const dataTable =\n",
              "            await google.colab.kernel.invokeFunction('convertToInteractive',\n",
              "                                                     [key], {});\n",
              "          if (!dataTable) return;\n",
              "\n",
              "          const docLinkHtml = 'Like what you see? Visit the ' +\n",
              "            '<a target=\"_blank\" href=https://colab.research.google.com/notebooks/data_table.ipynb>data table notebook</a>'\n",
              "            + ' to learn more about interactive tables.';\n",
              "          element.innerHTML = '';\n",
              "          dataTable['output_type'] = 'display_data';\n",
              "          await google.colab.output.renderOutput(dataTable, element);\n",
              "          const docLink = document.createElement('div');\n",
              "          docLink.innerHTML = docLinkHtml;\n",
              "          element.appendChild(docLink);\n",
              "        }\n",
              "      </script>\n",
              "    </div>\n",
              "  </div>\n",
              "  "
            ]
          },
          "metadata": {},
          "execution_count": 183
        }
      ]
    },
    {
      "cell_type": "code",
      "source": [
        "cols = [\"para_index\", \"para_msg\",\"msg_date\", \"msg_id\"]\n",
        "translated_para = translated_para.merge(ru[cols], how = \"left\", on = \"para_index\")"
      ],
      "metadata": {
        "id": "sXPNVvNM7rVm"
      },
      "execution_count": null,
      "outputs": []
    },
    {
      "cell_type": "code",
      "source": [
        "translated_para.to_csv(\"translated_para.csv\", index=False)"
      ],
      "metadata": {
        "id": "5iiey8fWW8jx"
      },
      "execution_count": null,
      "outputs": []
    },
    {
      "cell_type": "code",
      "source": [
        "# Run the predictions\n",
        "translated_para[\"vader_prediction\"] = translated_para[\"translated_sent_withEmoji\"].apply(predict_sentiment)"
      ],
      "metadata": {
        "id": "HjRp-Y1e5cVU"
      },
      "execution_count": null,
      "outputs": []
    },
    {
      "cell_type": "code",
      "source": [
        "translated_para[\"vader_prediction\"].hist()"
      ],
      "metadata": {
        "colab": {
          "base_uri": "https://localhost:8080/",
          "height": 283
        },
        "id": "R2UcDde96o3t",
        "outputId": "dba37ea3-628d-48c7-9c53-f3d2007cc0b9"
      },
      "execution_count": null,
      "outputs": [
        {
          "output_type": "execute_result",
          "data": {
            "text/plain": [
              "<matplotlib.axes._subplots.AxesSubplot at 0x7fab70b62d60>"
            ]
          },
          "metadata": {},
          "execution_count": 194
        },
        {
          "output_type": "display_data",
          "data": {
            "text/plain": [
              "<Figure size 432x288 with 1 Axes>"
            ],
            "image/png": "[encoded data removed]"
          },
          "metadata": {
            "needs_background": "light"
          }
        }
      ]
    },
    {
      "cell_type": "code",
      "source": [
        "translated_para[translated_para[\"vader_prediction\"] > 0.6].sample(5)"
      ],
      "metadata": {
        "colab": {
          "base_uri": "https://localhost:8080/",
          "height": 357
        },
        "id": "Kz67MDSX9joW",
        "outputId": "56b3ec5e-7851-40e8-8c62-59991c7ff751"
      },
      "execution_count": null,
      "outputs": [
        {
          "output_type": "execute_result",
          "data": {
            "text/plain": [
              "       para_index                          translated_sent_withEmoji  \\\n",
              "15229       15235  You weren't in the RBA or France, but you're t...   \n",
              "17583       17590   - Any international awards or government awards?   \n",
              "45935       45947  Anyway, it's best to choose places that are po...   \n",
              "29910       29919  We got help from the guys at t.me/premenby, fo...   \n",
              "37814       37824  We're not here to argue about State symbols, b...   \n",
              "\n",
              "         msg_date  msg_id  vader_prediction  \n",
              "15229  2020-11-02   91535            0.7998  \n",
              "17583  2020-10-06   84472            0.7184  \n",
              "45935  2020-08-12   29457            0.6369  \n",
              "29910  2020-09-15   73516            0.6696  \n",
              "37814  2020-08-23   60131            0.8597  "
            ],
            "text/html": [
              "\n",
              "  <div id=\"df-591ed41e-644f-4f45-beb7-cd142e5baa6b\">\n",
              "    <div class=\"colab-df-container\">\n",
              "      <div>\n",
              "<style scoped>\n",
              "    .dataframe tbody tr th:only-of-type {\n",
              "        vertical-align: middle;\n",
              "    }\n",
              "\n",
              "    .dataframe tbody tr th {\n",
              "        vertical-align: top;\n",
              "    }\n",
              "\n",
              "    .dataframe thead th {\n",
              "        text-align: right;\n",
              "    }\n",
              "</style>\n",
              "<table border=\"1\" class=\"dataframe\">\n",
              "  <thead>\n",
              "    <tr style=\"text-align: right;\">\n",
              "      <th></th>\n",
              "      <th>para_index</th>\n",
              "      <th>translated_sent_withEmoji</th>\n",
              "      <th>msg_date</th>\n",
              "      <th>msg_id</th>\n",
              "      <th>vader_prediction</th>\n",
              "    </tr>\n",
              "  </thead>\n",
              "  <tbody>\n",
              "    <tr>\n",
              "      <th>15229</th>\n",
              "      <td>15235</td>\n",
              "      <td>You weren't in the RBA or France, but you're t...</td>\n",
              "      <td>2020-11-02</td>\n",
              "      <td>91535</td>\n",
              "      <td>0.7998</td>\n",
              "    </tr>\n",
              "    <tr>\n",
              "      <th>17583</th>\n",
              "      <td>17590</td>\n",
              "      <td>- Any international awards or government awards?</td>\n",
              "      <td>2020-10-06</td>\n",
              "      <td>84472</td>\n",
              "      <td>0.7184</td>\n",
              "    </tr>\n",
              "    <tr>\n",
              "      <th>45935</th>\n",
              "      <td>45947</td>\n",
              "      <td>Anyway, it's best to choose places that are po...</td>\n",
              "      <td>2020-08-12</td>\n",
              "      <td>29457</td>\n",
              "      <td>0.6369</td>\n",
              "    </tr>\n",
              "    <tr>\n",
              "      <th>29910</th>\n",
              "      <td>29919</td>\n",
              "      <td>We got help from the guys at t.me/premenby, fo...</td>\n",
              "      <td>2020-09-15</td>\n",
              "      <td>73516</td>\n",
              "      <td>0.6696</td>\n",
              "    </tr>\n",
              "    <tr>\n",
              "      <th>37814</th>\n",
              "      <td>37824</td>\n",
              "      <td>We're not here to argue about State symbols, b...</td>\n",
              "      <td>2020-08-23</td>\n",
              "      <td>60131</td>\n",
              "      <td>0.8597</td>\n",
              "    </tr>\n",
              "  </tbody>\n",
              "</table>\n",
              "</div>\n",
              "      <button class=\"colab-df-convert\" onclick=\"convertToInteractive('df-591ed41e-644f-4f45-beb7-cd142e5baa6b')\"\n",
              "              title=\"Convert this dataframe to an interactive table.\"\n",
              "              style=\"display:none;\">\n",
              "        \n",
              "  <svg xmlns=\"http://www.w3.org/2000/svg\" height=\"24px\"viewBox=\"0 0 24 24\"\n",
              "       width=\"24px\">\n",
              "    <path d=\"M0 0h24v24H0V0z\" fill=\"none\"/>\n",
              "    <path d=\"M18.56 5.44l.94 2.06.94-2.06 2.06-.94-2.06-.94-.94-2.06-.94 2.06-2.06.94zm-11 1L8.5 8.5l.94-2.06 2.06-.94-2.06-.94L8.5 2.5l-.94 2.06-2.06.94zm10 10l.94 2.06.94-2.06 2.06-.94-2.06-.94-.94-2.06-.94 2.06-2.06.94z\"/><path d=\"M17.41 7.96l-1.37-1.37c-.4-.4-.92-.59-1.43-.59-.52 0-1.04.2-1.43.59L10.3 9.45l-7.72 7.72c-.78.78-.78 2.05 0 2.83L4 21.41c.39.39.9.59 1.41.59.51 0 1.02-.2 1.41-.59l7.78-7.78 2.81-2.81c.8-.78.8-2.07 0-2.86zM5.41 20L4 18.59l7.72-7.72 1.47 1.35L5.41 20z\"/>\n",
              "  </svg>\n",
              "      </button>\n",
              "      \n",
              "  <style>\n",
              "    .colab-df-container {\n",
              "      display:flex;\n",
              "      flex-wrap:wrap;\n",
              "      gap: 12px;\n",
              "    }\n",
              "\n",
              "    .colab-df-convert {\n",
              "      background-color: #E8F0FE;\n",
              "      border: none;\n",
              "      border-radius: 50%;\n",
              "      cursor: pointer;\n",
              "      display: none;\n",
              "      fill: #1967D2;\n",
              "      height: 32px;\n",
              "      padding: 0 0 0 0;\n",
              "      width: 32px;\n",
              "    }\n",
              "\n",
              "    .colab-df-convert:hover {\n",
              "      background-color: #E2EBFA;\n",
              "      box-shadow: 0px 1px 2px rgba(60, 64, 67, 0.3), 0px 1px 3px 1px rgba(60, 64, 67, 0.15);\n",
              "      fill: #174EA6;\n",
              "    }\n",
              "\n",
              "    [theme=dark] .colab-df-convert {\n",
              "      background-color: #3B4455;\n",
              "      fill: #D2E3FC;\n",
              "    }\n",
              "\n",
              "    [theme=dark] .colab-df-convert:hover {\n",
              "      background-color: #434B5C;\n",
              "      box-shadow: 0px 1px 3px 1px rgba(0, 0, 0, 0.15);\n",
              "      filter: drop-shadow(0px 1px 2px rgba(0, 0, 0, 0.3));\n",
              "      fill: #FFFFFF;\n",
              "    }\n",
              "  </style>\n",
              "\n",
              "      <script>\n",
              "        const buttonEl =\n",
              "          document.querySelector('#df-591ed41e-644f-4f45-beb7-cd142e5baa6b button.colab-df-convert');\n",
              "        buttonEl.style.display =\n",
              "          google.colab.kernel.accessAllowed ? 'block' : 'none';\n",
              "\n",
              "        async function convertToInteractive(key) {\n",
              "          const element = document.querySelector('#df-591ed41e-644f-4f45-beb7-cd142e5baa6b');\n",
              "          const dataTable =\n",
              "            await google.colab.kernel.invokeFunction('convertToInteractive',\n",
              "                                                     [key], {});\n",
              "          if (!dataTable) return;\n",
              "\n",
              "          const docLinkHtml = 'Like what you see? Visit the ' +\n",
              "            '<a target=\"_blank\" href=https://colab.research.google.com/notebooks/data_table.ipynb>data table notebook</a>'\n",
              "            + ' to learn more about interactive tables.';\n",
              "          element.innerHTML = '';\n",
              "          dataTable['output_type'] = 'display_data';\n",
              "          await google.colab.output.renderOutput(dataTable, element);\n",
              "          const docLink = document.createElement('div');\n",
              "          docLink.innerHTML = docLinkHtml;\n",
              "          element.appendChild(docLink);\n",
              "        }\n",
              "      </script>\n",
              "    </div>\n",
              "  </div>\n",
              "  "
            ]
          },
          "metadata": {},
          "execution_count": 257
        }
      ]
    },
    {
      "cell_type": "code",
      "source": [
        "translated_para[\"translated_sent_withEmoji\"][45935]"
      ],
      "metadata": {
        "colab": {
          "base_uri": "https://localhost:8080/",
          "height": 53
        },
        "id": "oaso1c2l9rGk",
        "outputId": "43f94b07-cda5-4e96-9aea-351d0a8900ba"
      },
      "execution_count": null,
      "outputs": [
        {
          "output_type": "execute_result",
          "data": {
            "text/plain": [
              "\"Anyway, it's best to choose places that are poorly explored by the silhouettes.\""
            ],
            "application/vnd.google.colaboratory.intrinsic+json": {
              "type": "string"
            }
          },
          "metadata": {},
          "execution_count": 262
        }
      ]
    },
    {
      "cell_type": "code",
      "source": [
        "translated_msg = translated_df.groupby([\"msg_index\"]).agg({\"translated_sent_withEmoji\": \" \".join}).reset_index()"
      ],
      "metadata": {
        "id": "JgKNZOgsN5uw"
      },
      "execution_count": null,
      "outputs": []
    },
    {
      "cell_type": "code",
      "source": [
        "translated_msg"
      ],
      "metadata": {
        "colab": {
          "base_uri": "https://localhost:8080/",
          "height": 424
        },
        "id": "_i_kBJQm-AhD",
        "outputId": "8655ac16-9ed8-4125-9e32-8793b250273b"
      },
      "execution_count": null,
      "outputs": [
        {
          "output_type": "execute_result",
          "data": {
            "text/plain": [
              "       msg_index                          translated_sent_withEmoji\n",
              "0              0                                           I agree.\n",
              "1              1  I often go to meetings in Minsk!👍👍👍 No offense...\n",
              "2              2  And after that, how does the force structure f...\n",
              "3              3  He was in Minsk on Sunday. What's striking is ...\n",
              "4              4  Guys, I don't understand your arguments and di...\n",
              "...          ...                                                ...\n",
              "38685      42923                 Belarus, there is no such country.\n",
              "38686      42924  If we take them or they take us, we'll show th...\n",
              "38687      42925                               Homedad's with you.✌\n",
              "38688      42926  Congratulations, but for such \"smart\" people, ...\n",
              "38689      42929  Let's go one-on-one. Each of you is against me...\n",
              "\n",
              "[38690 rows x 2 columns]"
            ],
            "text/html": [
              "\n",
              "  <div id=\"df-ef2beb7a-21fc-4eef-860c-08d800fd7515\">\n",
              "    <div class=\"colab-df-container\">\n",
              "      <div>\n",
              "<style scoped>\n",
              "    .dataframe tbody tr th:only-of-type {\n",
              "        vertical-align: middle;\n",
              "    }\n",
              "\n",
              "    .dataframe tbody tr th {\n",
              "        vertical-align: top;\n",
              "    }\n",
              "\n",
              "    .dataframe thead th {\n",
              "        text-align: right;\n",
              "    }\n",
              "</style>\n",
              "<table border=\"1\" class=\"dataframe\">\n",
              "  <thead>\n",
              "    <tr style=\"text-align: right;\">\n",
              "      <th></th>\n",
              "      <th>msg_index</th>\n",
              "      <th>translated_sent_withEmoji</th>\n",
              "    </tr>\n",
              "  </thead>\n",
              "  <tbody>\n",
              "    <tr>\n",
              "      <th>0</th>\n",
              "      <td>0</td>\n",
              "      <td>I agree.</td>\n",
              "    </tr>\n",
              "    <tr>\n",
              "      <th>1</th>\n",
              "      <td>1</td>\n",
              "      <td>I often go to meetings in Minsk!👍👍👍 No offense...</td>\n",
              "    </tr>\n",
              "    <tr>\n",
              "      <th>2</th>\n",
              "      <td>2</td>\n",
              "      <td>And after that, how does the force structure f...</td>\n",
              "    </tr>\n",
              "    <tr>\n",
              "      <th>3</th>\n",
              "      <td>3</td>\n",
              "      <td>He was in Minsk on Sunday. What's striking is ...</td>\n",
              "    </tr>\n",
              "    <tr>\n",
              "      <th>4</th>\n",
              "      <td>4</td>\n",
              "      <td>Guys, I don't understand your arguments and di...</td>\n",
              "    </tr>\n",
              "    <tr>\n",
              "      <th>...</th>\n",
              "      <td>...</td>\n",
              "      <td>...</td>\n",
              "    </tr>\n",
              "    <tr>\n",
              "      <th>38685</th>\n",
              "      <td>42923</td>\n",
              "      <td>Belarus, there is no such country.</td>\n",
              "    </tr>\n",
              "    <tr>\n",
              "      <th>38686</th>\n",
              "      <td>42924</td>\n",
              "      <td>If we take them or they take us, we'll show th...</td>\n",
              "    </tr>\n",
              "    <tr>\n",
              "      <th>38687</th>\n",
              "      <td>42925</td>\n",
              "      <td>Homedad's with you.✌</td>\n",
              "    </tr>\n",
              "    <tr>\n",
              "      <th>38688</th>\n",
              "      <td>42926</td>\n",
              "      <td>Congratulations, but for such \"smart\" people, ...</td>\n",
              "    </tr>\n",
              "    <tr>\n",
              "      <th>38689</th>\n",
              "      <td>42929</td>\n",
              "      <td>Let's go one-on-one. Each of you is against me...</td>\n",
              "    </tr>\n",
              "  </tbody>\n",
              "</table>\n",
              "<p>38690 rows × 2 columns</p>\n",
              "</div>\n",
              "      <button class=\"colab-df-convert\" onclick=\"convertToInteractive('df-ef2beb7a-21fc-4eef-860c-08d800fd7515')\"\n",
              "              title=\"Convert this dataframe to an interactive table.\"\n",
              "              style=\"display:none;\">\n",
              "        \n",
              "  <svg xmlns=\"http://www.w3.org/2000/svg\" height=\"24px\"viewBox=\"0 0 24 24\"\n",
              "       width=\"24px\">\n",
              "    <path d=\"M0 0h24v24H0V0z\" fill=\"none\"/>\n",
              "    <path d=\"M18.56 5.44l.94 2.06.94-2.06 2.06-.94-2.06-.94-.94-2.06-.94 2.06-2.06.94zm-11 1L8.5 8.5l.94-2.06 2.06-.94-2.06-.94L8.5 2.5l-.94 2.06-2.06.94zm10 10l.94 2.06.94-2.06 2.06-.94-2.06-.94-.94-2.06-.94 2.06-2.06.94z\"/><path d=\"M17.41 7.96l-1.37-1.37c-.4-.4-.92-.59-1.43-.59-.52 0-1.04.2-1.43.59L10.3 9.45l-7.72 7.72c-.78.78-.78 2.05 0 2.83L4 21.41c.39.39.9.59 1.41.59.51 0 1.02-.2 1.41-.59l7.78-7.78 2.81-2.81c.8-.78.8-2.07 0-2.86zM5.41 20L4 18.59l7.72-7.72 1.47 1.35L5.41 20z\"/>\n",
              "  </svg>\n",
              "      </button>\n",
              "      \n",
              "  <style>\n",
              "    .colab-df-container {\n",
              "      display:flex;\n",
              "      flex-wrap:wrap;\n",
              "      gap: 12px;\n",
              "    }\n",
              "\n",
              "    .colab-df-convert {\n",
              "      background-color: #E8F0FE;\n",
              "      border: none;\n",
              "      border-radius: 50%;\n",
              "      cursor: pointer;\n",
              "      display: none;\n",
              "      fill: #1967D2;\n",
              "      height: 32px;\n",
              "      padding: 0 0 0 0;\n",
              "      width: 32px;\n",
              "    }\n",
              "\n",
              "    .colab-df-convert:hover {\n",
              "      background-color: #E2EBFA;\n",
              "      box-shadow: 0px 1px 2px rgba(60, 64, 67, 0.3), 0px 1px 3px 1px rgba(60, 64, 67, 0.15);\n",
              "      fill: #174EA6;\n",
              "    }\n",
              "\n",
              "    [theme=dark] .colab-df-convert {\n",
              "      background-color: #3B4455;\n",
              "      fill: #D2E3FC;\n",
              "    }\n",
              "\n",
              "    [theme=dark] .colab-df-convert:hover {\n",
              "      background-color: #434B5C;\n",
              "      box-shadow: 0px 1px 3px 1px rgba(0, 0, 0, 0.15);\n",
              "      filter: drop-shadow(0px 1px 2px rgba(0, 0, 0, 0.3));\n",
              "      fill: #FFFFFF;\n",
              "    }\n",
              "  </style>\n",
              "\n",
              "      <script>\n",
              "        const buttonEl =\n",
              "          document.querySelector('#df-ef2beb7a-21fc-4eef-860c-08d800fd7515 button.colab-df-convert');\n",
              "        buttonEl.style.display =\n",
              "          google.colab.kernel.accessAllowed ? 'block' : 'none';\n",
              "\n",
              "        async function convertToInteractive(key) {\n",
              "          const element = document.querySelector('#df-ef2beb7a-21fc-4eef-860c-08d800fd7515');\n",
              "          const dataTable =\n",
              "            await google.colab.kernel.invokeFunction('convertToInteractive',\n",
              "                                                     [key], {});\n",
              "          if (!dataTable) return;\n",
              "\n",
              "          const docLinkHtml = 'Like what you see? Visit the ' +\n",
              "            '<a target=\"_blank\" href=https://colab.research.google.com/notebooks/data_table.ipynb>data table notebook</a>'\n",
              "            + ' to learn more about interactive tables.';\n",
              "          element.innerHTML = '';\n",
              "          dataTable['output_type'] = 'display_data';\n",
              "          await google.colab.output.renderOutput(dataTable, element);\n",
              "          const docLink = document.createElement('div');\n",
              "          docLink.innerHTML = docLinkHtml;\n",
              "          element.appendChild(docLink);\n",
              "        }\n",
              "      </script>\n",
              "    </div>\n",
              "  </div>\n",
              "  "
            ]
          },
          "metadata": {},
          "execution_count": 264
        }
      ]
    },
    {
      "cell_type": "code",
      "source": [
        "cols = [\"msg_index\", \"msg_date\", \"msg_id\"]\n",
        "translated_msg = translated_msg.merge(ru[cols], how = \"left\", on = \"msg_index\")"
      ],
      "metadata": {
        "id": "vDl3NBYgOKCX"
      },
      "execution_count": null,
      "outputs": []
    },
    {
      "cell_type": "code",
      "source": [
        "translated_msg = translated_msg.drop_duplicates([\"msg_id\"])"
      ],
      "metadata": {
        "id": "aAzahfijOZyL"
      },
      "execution_count": null,
      "outputs": []
    },
    {
      "cell_type": "code",
      "source": [
        "translated_msg[\"vader_prediction\"] = translated_msg[\"translated_sent_withEmoji\"].apply(predict_sentiment)"
      ],
      "metadata": {
        "colab": {
          "base_uri": "https://localhost:8080/"
        },
        "id": "Nm5ruzWUOuU5",
        "outputId": "7c956761-892f-4386-8912-d82c45ecb0e5"
      },
      "execution_count": null,
      "outputs": [
        {
          "output_type": "stream",
          "name": "stderr",
          "text": [
            "<ipython-input-270-91171d7a0b13>:1: SettingWithCopyWarning: \n",
            "A value is trying to be set on a copy of a slice from a DataFrame.\n",
            "Try using .loc[row_indexer,col_indexer] = value instead\n",
            "\n",
            "See the caveats in the documentation: https://pandas.pydata.org/pandas-docs/stable/user_guide/indexing.html#returning-a-view-versus-a-copy\n",
            "  translated_msg[\"vader_prediction\"] = translated_msg[\"translated_sent_withEmoji\"].apply(predict_sentiment)\n"
          ]
        }
      ]
    },
    {
      "cell_type": "code",
      "source": [
        "#translated_msg"
      ],
      "metadata": {
        "id": "U1-VASK0O6y6"
      },
      "execution_count": null,
      "outputs": []
    },
    {
      "cell_type": "code",
      "source": [
        "translated_para[\"vader_sent\"] = translated_para[\"translated_sent_withEmoji\"].apply(predict_sentiment)"
      ],
      "metadata": {
        "id": "2XvT2TvBO_cC"
      },
      "execution_count": null,
      "outputs": []
    },
    {
      "cell_type": "code",
      "source": [
        "sen_para = translated_para.groupby([\"msg_date\", \"vader_sent\"])[\"vader_sent\"].count().unstack(level=-1).reset_index()"
      ],
      "metadata": {
        "id": "EmotH2jEP5He"
      },
      "execution_count": null,
      "outputs": []
    },
    {
      "cell_type": "code",
      "source": [
        "cols = [\"negative\",\t\"neutral\",\"positive\"]\n",
        "sen_para [\"neg_perc\"] = sen_para[\"negative\"]/sen_para[cols].sum(axis=1)\n",
        "sen_para [\"pos_perc\"] = sen_para[\"positive\"]/sen_para[cols].sum(axis=1)"
      ],
      "metadata": {
        "id": "Kxh-3qi8QAEJ"
      },
      "execution_count": null,
      "outputs": []
    },
    {
      "cell_type": "code",
      "source": [
        "sen_para.plot(x=\"msg_date\", y=cols)"
      ],
      "metadata": {
        "colab": {
          "base_uri": "https://localhost:8080/",
          "height": 298
        },
        "id": "zGlFPoaBRMke",
        "outputId": "3f6473c6-e649-4393-e751-c8d9d004595b"
      },
      "execution_count": null,
      "outputs": [
        {
          "output_type": "execute_result",
          "data": {
            "text/plain": [
              "<matplotlib.axes._subplots.AxesSubplot at 0x7faaf47f8970>"
            ]
          },
          "metadata": {},
          "execution_count": 324
        },
        {
          "output_type": "display_data",
          "data": {
            "text/plain": [
              "<Figure size 432x288 with 1 Axes>"
            ],
            "image/png": "[encoded data removed]"
          },
          "metadata": {
            "needs_background": "light"
          }
        }
      ]
    },
    {
      "cell_type": "code",
      "source": [
        "translated_para"
      ],
      "metadata": {
        "colab": {
          "base_uri": "https://localhost:8080/",
          "height": 661
        },
        "id": "fcJnBN4pWhwo",
        "outputId": "ddabbb53-4eac-423c-e616-8cda3d3640c8"
      },
      "execution_count": null,
      "outputs": [
        {
          "output_type": "execute_result",
          "data": {
            "text/plain": [
              "       para_index                          translated_sent_withEmoji  \\\n",
              "0               0                                           I agree.   \n",
              "1               1  I often go to meetings in Minsk!👍👍👍 No offense...   \n",
              "2               2  And after that, how does the force structure f...   \n",
              "3               3  He was in Minsk on Sunday. What's striking is ...   \n",
              "4               4  Guys, I don't understand your arguments and di...   \n",
              "...           ...                                                ...   \n",
              "50690       50703                 Belarus, there is no such country.   \n",
              "50691       50704  If we take them or they take us, we'll show th...   \n",
              "50692       50705                               Homedad's with you.✌   \n",
              "50693       50706  Congratulations, but for such \"smart\" people, ...   \n",
              "50694       50707  Let's go one-on-one. Each of you is against me...   \n",
              "\n",
              "         msg_date  msg_id  vader_prediction vader_sent  \n",
              "0      2020-08-22   59694            0.3612   positive  \n",
              "1      2020-08-22   59693           -0.3382   negative  \n",
              "2      2020-08-22   59692           -0.6981   negative  \n",
              "3      2020-08-22   59691            0.9410   positive  \n",
              "4      2020-08-22   59687           -0.2124   negative  \n",
              "...           ...     ...               ...        ...  \n",
              "50690  2020-08-11   17109           -0.2960   negative  \n",
              "50691  2020-08-11   17108            0.0000    neutral  \n",
              "50692  2020-08-11   17103            0.0000    neutral  \n",
              "50693  2020-08-11   17090           -0.0516   negative  \n",
              "50694  2020-08-11   17072            0.0000    neutral  \n",
              "\n",
              "[50695 rows x 6 columns]"
            ],
            "text/html": [
              "\n",
              "  <div id=\"df-2c6fb506-b33f-4301-9f92-5bfea9e2c5ff\">\n",
              "    <div class=\"colab-df-container\">\n",
              "      <div>\n",
              "<style scoped>\n",
              "    .dataframe tbody tr th:only-of-type {\n",
              "        vertical-align: middle;\n",
              "    }\n",
              "\n",
              "    .dataframe tbody tr th {\n",
              "        vertical-align: top;\n",
              "    }\n",
              "\n",
              "    .dataframe thead th {\n",
              "        text-align: right;\n",
              "    }\n",
              "</style>\n",
              "<table border=\"1\" class=\"dataframe\">\n",
              "  <thead>\n",
              "    <tr style=\"text-align: right;\">\n",
              "      <th></th>\n",
              "      <th>para_index</th>\n",
              "      <th>translated_sent_withEmoji</th>\n",
              "      <th>msg_date</th>\n",
              "      <th>msg_id</th>\n",
              "      <th>vader_prediction</th>\n",
              "      <th>vader_sent</th>\n",
              "    </tr>\n",
              "  </thead>\n",
              "  <tbody>\n",
              "    <tr>\n",
              "      <th>0</th>\n",
              "      <td>0</td>\n",
              "      <td>I agree.</td>\n",
              "      <td>2020-08-22</td>\n",
              "      <td>59694</td>\n",
              "      <td>0.3612</td>\n",
              "      <td>positive</td>\n",
              "    </tr>\n",
              "    <tr>\n",
              "      <th>1</th>\n",
              "      <td>1</td>\n",
              "      <td>I often go to meetings in Minsk!👍👍👍 No offense...</td>\n",
              "      <td>2020-08-22</td>\n",
              "      <td>59693</td>\n",
              "      <td>-0.3382</td>\n",
              "      <td>negative</td>\n",
              "    </tr>\n",
              "    <tr>\n",
              "      <th>2</th>\n",
              "      <td>2</td>\n",
              "      <td>And after that, how does the force structure f...</td>\n",
              "      <td>2020-08-22</td>\n",
              "      <td>59692</td>\n",
              "      <td>-0.6981</td>\n",
              "      <td>negative</td>\n",
              "    </tr>\n",
              "    <tr>\n",
              "      <th>3</th>\n",
              "      <td>3</td>\n",
              "      <td>He was in Minsk on Sunday. What's striking is ...</td>\n",
              "      <td>2020-08-22</td>\n",
              "      <td>59691</td>\n",
              "      <td>0.9410</td>\n",
              "      <td>positive</td>\n",
              "    </tr>\n",
              "    <tr>\n",
              "      <th>4</th>\n",
              "      <td>4</td>\n",
              "      <td>Guys, I don't understand your arguments and di...</td>\n",
              "      <td>2020-08-22</td>\n",
              "      <td>59687</td>\n",
              "      <td>-0.2124</td>\n",
              "      <td>negative</td>\n",
              "    </tr>\n",
              "    <tr>\n",
              "      <th>...</th>\n",
              "      <td>...</td>\n",
              "      <td>...</td>\n",
              "      <td>...</td>\n",
              "      <td>...</td>\n",
              "      <td>...</td>\n",
              "      <td>...</td>\n",
              "    </tr>\n",
              "    <tr>\n",
              "      <th>50690</th>\n",
              "      <td>50703</td>\n",
              "      <td>Belarus, there is no such country.</td>\n",
              "      <td>2020-08-11</td>\n",
              "      <td>17109</td>\n",
              "      <td>-0.2960</td>\n",
              "      <td>negative</td>\n",
              "    </tr>\n",
              "    <tr>\n",
              "      <th>50691</th>\n",
              "      <td>50704</td>\n",
              "      <td>If we take them or they take us, we'll show th...</td>\n",
              "      <td>2020-08-11</td>\n",
              "      <td>17108</td>\n",
              "      <td>0.0000</td>\n",
              "      <td>neutral</td>\n",
              "    </tr>\n",
              "    <tr>\n",
              "      <th>50692</th>\n",
              "      <td>50705</td>\n",
              "      <td>Homedad's with you.✌</td>\n",
              "      <td>2020-08-11</td>\n",
              "      <td>17103</td>\n",
              "      <td>0.0000</td>\n",
              "      <td>neutral</td>\n",
              "    </tr>\n",
              "    <tr>\n",
              "      <th>50693</th>\n",
              "      <td>50706</td>\n",
              "      <td>Congratulations, but for such \"smart\" people, ...</td>\n",
              "      <td>2020-08-11</td>\n",
              "      <td>17090</td>\n",
              "      <td>-0.0516</td>\n",
              "      <td>negative</td>\n",
              "    </tr>\n",
              "    <tr>\n",
              "      <th>50694</th>\n",
              "      <td>50707</td>\n",
              "      <td>Let's go one-on-one. Each of you is against me...</td>\n",
              "      <td>2020-08-11</td>\n",
              "      <td>17072</td>\n",
              "      <td>0.0000</td>\n",
              "      <td>neutral</td>\n",
              "    </tr>\n",
              "  </tbody>\n",
              "</table>\n",
              "<p>50695 rows × 6 columns</p>\n",
              "</div>\n",
              "      <button class=\"colab-df-convert\" onclick=\"convertToInteractive('df-2c6fb506-b33f-4301-9f92-5bfea9e2c5ff')\"\n",
              "              title=\"Convert this dataframe to an interactive table.\"\n",
              "              style=\"display:none;\">\n",
              "        \n",
              "  <svg xmlns=\"http://www.w3.org/2000/svg\" height=\"24px\"viewBox=\"0 0 24 24\"\n",
              "       width=\"24px\">\n",
              "    <path d=\"M0 0h24v24H0V0z\" fill=\"none\"/>\n",
              "    <path d=\"M18.56 5.44l.94 2.06.94-2.06 2.06-.94-2.06-.94-.94-2.06-.94 2.06-2.06.94zm-11 1L8.5 8.5l.94-2.06 2.06-.94-2.06-.94L8.5 2.5l-.94 2.06-2.06.94zm10 10l.94 2.06.94-2.06 2.06-.94-2.06-.94-.94-2.06-.94 2.06-2.06.94z\"/><path d=\"M17.41 7.96l-1.37-1.37c-.4-.4-.92-.59-1.43-.59-.52 0-1.04.2-1.43.59L10.3 9.45l-7.72 7.72c-.78.78-.78 2.05 0 2.83L4 21.41c.39.39.9.59 1.41.59.51 0 1.02-.2 1.41-.59l7.78-7.78 2.81-2.81c.8-.78.8-2.07 0-2.86zM5.41 20L4 18.59l7.72-7.72 1.47 1.35L5.41 20z\"/>\n",
              "  </svg>\n",
              "      </button>\n",
              "      \n",
              "  <style>\n",
              "    .colab-df-container {\n",
              "      display:flex;\n",
              "      flex-wrap:wrap;\n",
              "      gap: 12px;\n",
              "    }\n",
              "\n",
              "    .colab-df-convert {\n",
              "      background-color: #E8F0FE;\n",
              "      border: none;\n",
              "      border-radius: 50%;\n",
              "      cursor: pointer;\n",
              "      display: none;\n",
              "      fill: #1967D2;\n",
              "      height: 32px;\n",
              "      padding: 0 0 0 0;\n",
              "      width: 32px;\n",
              "    }\n",
              "\n",
              "    .colab-df-convert:hover {\n",
              "      background-color: #E2EBFA;\n",
              "      box-shadow: 0px 1px 2px rgba(60, 64, 67, 0.3), 0px 1px 3px 1px rgba(60, 64, 67, 0.15);\n",
              "      fill: #174EA6;\n",
              "    }\n",
              "\n",
              "    [theme=dark] .colab-df-convert {\n",
              "      background-color: #3B4455;\n",
              "      fill: #D2E3FC;\n",
              "    }\n",
              "\n",
              "    [theme=dark] .colab-df-convert:hover {\n",
              "      background-color: #434B5C;\n",
              "      box-shadow: 0px 1px 3px 1px rgba(0, 0, 0, 0.15);\n",
              "      filter: drop-shadow(0px 1px 2px rgba(0, 0, 0, 0.3));\n",
              "      fill: #FFFFFF;\n",
              "    }\n",
              "  </style>\n",
              "\n",
              "      <script>\n",
              "        const buttonEl =\n",
              "          document.querySelector('#df-2c6fb506-b33f-4301-9f92-5bfea9e2c5ff button.colab-df-convert');\n",
              "        buttonEl.style.display =\n",
              "          google.colab.kernel.accessAllowed ? 'block' : 'none';\n",
              "\n",
              "        async function convertToInteractive(key) {\n",
              "          const element = document.querySelector('#df-2c6fb506-b33f-4301-9f92-5bfea9e2c5ff');\n",
              "          const dataTable =\n",
              "            await google.colab.kernel.invokeFunction('convertToInteractive',\n",
              "                                                     [key], {});\n",
              "          if (!dataTable) return;\n",
              "\n",
              "          const docLinkHtml = 'Like what you see? Visit the ' +\n",
              "            '<a target=\"_blank\" href=https://colab.research.google.com/notebooks/data_table.ipynb>data table notebook</a>'\n",
              "            + ' to learn more about interactive tables.';\n",
              "          element.innerHTML = '';\n",
              "          dataTable['output_type'] = 'display_data';\n",
              "          await google.colab.output.renderOutput(dataTable, element);\n",
              "          const docLink = document.createElement('div');\n",
              "          docLink.innerHTML = docLinkHtml;\n",
              "          element.appendChild(docLink);\n",
              "        }\n",
              "      </script>\n",
              "    </div>\n",
              "  </div>\n",
              "  "
            ]
          },
          "metadata": {},
          "execution_count": 325
        }
      ]
    },
    {
      "cell_type": "code",
      "source": [
        "p = translated_para[\"translated_sent_withEmoji\"].str.contains(\"protest\").value_counts()"
      ],
      "metadata": {
        "id": "8wY1lt0jsLB5"
      },
      "execution_count": null,
      "outputs": []
    },
    {
      "cell_type": "code",
      "source": [],
      "metadata": {
        "id": "ApsthGaysQ6q"
      },
      "execution_count": null,
      "outputs": []
    }
  ]
}