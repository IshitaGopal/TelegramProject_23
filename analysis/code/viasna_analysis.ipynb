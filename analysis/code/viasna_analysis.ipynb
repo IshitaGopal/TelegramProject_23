{
 "cells": [
  {
   "cell_type": "code",
   "execution_count": 1,
   "metadata": {},
   "outputs": [],
   "source": [
    "import pandas as pd\n",
    "import numpy as np\n",
    "import matplotlib.pyplot as plt\n",
    "import os\n",
    "from Config import Config \n"
   ]
  },
  {
   "cell_type": "code",
   "execution_count": 2,
   "metadata": {},
   "outputs": [],
   "source": [
    "min_date = pd.to_datetime(\"2020-08-09\")\n",
    "max_date = pd.to_datetime(\"2021-04-01\")"
   ]
  },
  {
   "cell_type": "code",
   "execution_count": 6,
   "metadata": {},
   "outputs": [],
   "source": [
    "prisoners_f = \"../processed_data/viasna_data/viasna_political_prisoners.csv\"\n",
    "prisoners = pd.read_csv(prisoners_f)\n",
    "\n",
    "# An incident means detention (including at the border), drawing up a report, search, etc.\n",
    "incedents_f = \"../processed_data/viasna_data/persecutionDatabase.csv\"\n",
    "incedents = pd.read_csv(incedents_f)"
   ]
  },
  {
   "cell_type": "code",
   "execution_count": 33,
   "metadata": {},
   "outputs": [
    {
     "data": {
      "text/html": [
       "<div>\n",
       "<style scoped>\n",
       "    .dataframe tbody tr th:only-of-type {\n",
       "        vertical-align: middle;\n",
       "    }\n",
       "\n",
       "    .dataframe tbody tr th {\n",
       "        vertical-align: top;\n",
       "    }\n",
       "\n",
       "    .dataframe thead th {\n",
       "        text-align: right;\n",
       "    }\n",
       "</style>\n",
       "<table border=\"1\" class=\"dataframe\">\n",
       "  <thead>\n",
       "    <tr style=\"text-align: right;\">\n",
       "      <th></th>\n",
       "      <th>No</th>\n",
       "      <th>date_of_incident</th>\n",
       "      <th>name</th>\n",
       "      <th>gender</th>\n",
       "      <th>article</th>\n",
       "      <th>court_date</th>\n",
       "      <th>judge</th>\n",
       "      <th>court</th>\n",
       "      <th>arrest</th>\n",
       "      <th>penalty</th>\n",
       "      <th>additionally</th>\n",
       "    </tr>\n",
       "  </thead>\n",
       "  <tbody>\n",
       "    <tr>\n",
       "      <th>0</th>\n",
       "      <td>1</td>\n",
       "      <td>2021-08-01</td>\n",
       "      <td>Тарайкоўская Ю.Г.</td>\n",
       "      <td>ж</td>\n",
       "      <td>24.23 ч.1 КаАП – «парушэньне парадку арганізац...</td>\n",
       "      <td>2021-08-02</td>\n",
       "      <td>Лукашэвіч Дзмітры</td>\n",
       "      <td>Менск, Фрунзенскі</td>\n",
       "      <td>NaN</td>\n",
       "      <td></td>\n",
       "      <td>NaN</td>\n",
       "    </tr>\n",
       "    <tr>\n",
       "      <th>1</th>\n",
       "      <td>2</td>\n",
       "      <td>2021-08-01</td>\n",
       "      <td>Радзько Алена</td>\n",
       "      <td>ж</td>\n",
       "      <td>24.23 ч.1 КаАП – «парушэньне парадку арганізац...</td>\n",
       "      <td>2021-08-02</td>\n",
       "      <td>Мотыль Таццяна</td>\n",
       "      <td>Менск, Маскоўскі</td>\n",
       "      <td>15 сут.</td>\n",
       "      <td></td>\n",
       "      <td>10.04.1961 г.н.</td>\n",
       "    </tr>\n",
       "    <tr>\n",
       "      <th>2</th>\n",
       "      <td>3</td>\n",
       "      <td>2021-08-01</td>\n",
       "      <td>Лапенка А.В.</td>\n",
       "      <td>NaN</td>\n",
       "      <td>24.23 ч.1 КаАП – «парушэньне парадку арганізац...</td>\n",
       "      <td>2021-08-02</td>\n",
       "      <td>Шаціла Сяргей</td>\n",
       "      <td>Менск, Савецкі</td>\n",
       "      <td>NaN</td>\n",
       "      <td></td>\n",
       "      <td>На дапрацоўку.</td>\n",
       "    </tr>\n",
       "    <tr>\n",
       "      <th>3</th>\n",
       "      <td>4</td>\n",
       "      <td>2021-07-31</td>\n",
       "      <td>Меркіс Яўген</td>\n",
       "      <td>м</td>\n",
       "      <td>23.5 КаАП – «парушэньне заканадаўства пра друк...</td>\n",
       "      <td>2021-08-02</td>\n",
       "      <td>NaN</td>\n",
       "      <td>Гомель, Савецкі</td>\n",
       "      <td>NaN</td>\n",
       "      <td>25 б.в. 725,00 руб.</td>\n",
       "      <td>За працу на тэлеканал \"Белсат\" без акрэдытацыі.</td>\n",
       "    </tr>\n",
       "    <tr>\n",
       "      <th>4</th>\n",
       "      <td>5</td>\n",
       "      <td>2021-07-31</td>\n",
       "      <td>Гурыновіч Павел</td>\n",
       "      <td>м</td>\n",
       "      <td>NaN</td>\n",
       "      <td>NaN</td>\n",
       "      <td>NaN</td>\n",
       "      <td>Менск</td>\n",
       "      <td>NaN</td>\n",
       "      <td></td>\n",
       "      <td>NaN</td>\n",
       "    </tr>\n",
       "  </tbody>\n",
       "</table>\n",
       "</div>"
      ],
      "text/plain": [
       "   No date_of_incident               name gender  \\\n",
       "0   1       2021-08-01  Тарайкоўская Ю.Г.      ж   \n",
       "1   2       2021-08-01      Радзько Алена      ж   \n",
       "2   3       2021-08-01       Лапенка А.В.    NaN   \n",
       "3   4       2021-07-31       Меркіс Яўген      м   \n",
       "4   5       2021-07-31    Гурыновіч Павел      м   \n",
       "\n",
       "                                             article  court_date  \\\n",
       "0  24.23 ч.1 КаАП – «парушэньне парадку арганізац...  2021-08-02   \n",
       "1  24.23 ч.1 КаАП – «парушэньне парадку арганізац...  2021-08-02   \n",
       "2  24.23 ч.1 КаАП – «парушэньне парадку арганізац...  2021-08-02   \n",
       "3  23.5 КаАП – «парушэньне заканадаўства пра друк...  2021-08-02   \n",
       "4                                                NaN         NaN   \n",
       "\n",
       "               judge              court   arrest              penalty  \\\n",
       "0  Лукашэвіч Дзмітры  Менск, Фрунзенскі      NaN                        \n",
       "1     Мотыль Таццяна   Менск, Маскоўскі  15 сут.                        \n",
       "2      Шаціла Сяргей     Менск, Савецкі      NaN                        \n",
       "3                NaN    Гомель, Савецкі      NaN  25 б.в. 725,00 руб.   \n",
       "4                NaN              Менск      NaN                        \n",
       "\n",
       "                                      additionally  \n",
       "0                                              NaN  \n",
       "1                                  10.04.1961 г.н.  \n",
       "2                                   На дапрацоўку.  \n",
       "3  За працу на тэлеканал \"Белсат\" без акрэдытацыі.  \n",
       "4                                              NaN  "
      ]
     },
     "execution_count": 33,
     "metadata": {},
     "output_type": "execute_result"
    }
   ],
   "source": [
    "incedents.head()"
   ]
  },
  {
   "cell_type": "code",
   "execution_count": 34,
   "metadata": {},
   "outputs": [],
   "source": [
    "incedents.court = incedents.court.str.strip()\n",
    "incedents.name = incedents.name.str.strip()\n",
    "incedents.article = incedents.article.str.strip()\n",
    "incedents.judge = incedents.judge.str.strip()\n",
    "incedents.arrest = incedents.arrest.str.strip()\n",
    "incedents.penalty = incedents.penalty.str.strip()\n",
    "incedents.additionally = incedents.additionally.str.strip()\n",
    "\n"
   ]
  },
  {
   "cell_type": "code",
   "execution_count": 44,
   "metadata": {},
   "outputs": [],
   "source": [
    "incedents.court.value_counts().reset_index().to_csv(\"../processed_data/viasna_data/court_names.csv\", index=False)"
   ]
  },
  {
   "cell_type": "code",
   "execution_count": 35,
   "metadata": {},
   "outputs": [],
   "source": [
    "incedents.to_csv(\"../processed_data/viasna_data/persecutionDatabase_copy.csv\")\n"
   ]
  },
  {
   "cell_type": "code",
   "execution_count": 7,
   "metadata": {},
   "outputs": [],
   "source": [
    "# create date time \n",
    "prisoners.date_of_detention = pd.to_datetime(prisoners.date_of_detention)\n",
    "incedents.date_of_incident = pd.to_datetime(incedents.date_of_incident)\n",
    "\n",
    "# filter by date\n",
    "prisoners_date_filt = (prisoners.date_of_detention >= min_date) & (prisoners.date_of_detention <= max_date)\n",
    "prisoners_filt = prisoners.loc[prisoners_date_filt, :]\n",
    "\n",
    "incedents_date_filt = (incedents.date_of_incident >= min_date) & (incedents.date_of_incident <= max_date)\n",
    "incedents_filt = incedents.loc[incedents_date_filt, :]"
   ]
  },
  {
   "cell_type": "code",
   "execution_count": 8,
   "metadata": {},
   "outputs": [],
   "source": [
    "# Daily number of prisoners\n",
    "daily_num_prisoners = (\n",
    "    prisoners_filt\n",
    "    .groupby(\"date_of_detention\")[\"name\"]\n",
    "    .count()\n",
    "    .reset_index()\n",
    "    .rename(columns={\"date_of_detention\": \"date\" ,\"name\": \"num_prisoners\"})\n",
    "    )\n",
    "\n",
    "# Daily number of incidents\n",
    "daily_num_incedents = (\n",
    "    incedents_filt\n",
    "    .groupby(\"date_of_incident\")[\"name\"]\n",
    "    .count()\n",
    "    .reset_index()\n",
    "    .rename(columns={\"date_of_incident\": \"date\",\"name\": \"num_incidents\"})\n",
    "    )"
   ]
  },
  {
   "cell_type": "code",
   "execution_count": 9,
   "metadata": {},
   "outputs": [],
   "source": [
    "# add any missing days between min/max to the dataset\n",
    "all_days = pd.date_range(min_date, max_date, freq='D')\n",
    "\n",
    "# check for missing days and fill the num_detentions column with 0 \n",
    "daily_num_prisoners = ( \n",
    "    daily_num_prisoners\n",
    "    .set_index(\"date\") \n",
    "     .reindex(all_days) # reindex using all_days - this adds any missing days to the dataset \n",
    "     .rename_axis(['date'])\n",
    "     .fillna(0)\n",
    "     .reset_index()\n",
    ")\n",
    "\n",
    "# check for missing days and fill the num_detentions column with 0 \n",
    "daily_num_incedents = ( \n",
    "    daily_num_incedents\n",
    "    .set_index(\"date\") \n",
    "     .reindex(all_days) # reindex using all_days - this adds any missing days to the dataset \n",
    "     .rename_axis(['date'])\n",
    "     .fillna(0)\n",
    "     .reset_index()\n",
    ")"
   ]
  },
  {
   "cell_type": "code",
   "execution_count": 10,
   "metadata": {},
   "outputs": [],
   "source": [
    "# merge prisoners and incidents\n",
    "df_merge = daily_num_prisoners.merge(daily_num_incedents, how=\"left\", on=\"date\")"
   ]
  },
  {
   "cell_type": "code",
   "execution_count": 11,
   "metadata": {},
   "outputs": [],
   "source": [
    "# Day of week \n",
    "df_merge[\"day_of_week\"] = df_merge.date.dt.day_name()"
   ]
  },
  {
   "cell_type": "code",
   "execution_count": 14,
   "metadata": {},
   "outputs": [
    {
     "data": {
      "text/html": [
       "<div>\n",
       "<style scoped>\n",
       "    .dataframe tbody tr th:only-of-type {\n",
       "        vertical-align: middle;\n",
       "    }\n",
       "\n",
       "    .dataframe tbody tr th {\n",
       "        vertical-align: top;\n",
       "    }\n",
       "\n",
       "    .dataframe thead th {\n",
       "        text-align: right;\n",
       "    }\n",
       "</style>\n",
       "<table border=\"1\" class=\"dataframe\">\n",
       "  <thead>\n",
       "    <tr style=\"text-align: right;\">\n",
       "      <th></th>\n",
       "      <th>date</th>\n",
       "      <th>num_prisoners</th>\n",
       "      <th>num_incidents</th>\n",
       "      <th>day_of_week</th>\n",
       "    </tr>\n",
       "  </thead>\n",
       "  <tbody>\n",
       "    <tr>\n",
       "      <th>0</th>\n",
       "      <td>2020-08-09</td>\n",
       "      <td>5.0</td>\n",
       "      <td>3630.0</td>\n",
       "      <td>Sunday</td>\n",
       "    </tr>\n",
       "    <tr>\n",
       "      <th>1</th>\n",
       "      <td>2020-08-10</td>\n",
       "      <td>18.0</td>\n",
       "      <td>1799.0</td>\n",
       "      <td>Monday</td>\n",
       "    </tr>\n",
       "    <tr>\n",
       "      <th>2</th>\n",
       "      <td>2020-08-11</td>\n",
       "      <td>7.0</td>\n",
       "      <td>1093.0</td>\n",
       "      <td>Tuesday</td>\n",
       "    </tr>\n",
       "    <tr>\n",
       "      <th>3</th>\n",
       "      <td>2020-08-12</td>\n",
       "      <td>6.0</td>\n",
       "      <td>274.0</td>\n",
       "      <td>Wednesday</td>\n",
       "    </tr>\n",
       "    <tr>\n",
       "      <th>4</th>\n",
       "      <td>2020-08-13</td>\n",
       "      <td>3.0</td>\n",
       "      <td>48.0</td>\n",
       "      <td>Thursday</td>\n",
       "    </tr>\n",
       "    <tr>\n",
       "      <th>5</th>\n",
       "      <td>2020-08-14</td>\n",
       "      <td>3.0</td>\n",
       "      <td>12.0</td>\n",
       "      <td>Friday</td>\n",
       "    </tr>\n",
       "    <tr>\n",
       "      <th>6</th>\n",
       "      <td>2020-08-15</td>\n",
       "      <td>2.0</td>\n",
       "      <td>8.0</td>\n",
       "      <td>Saturday</td>\n",
       "    </tr>\n",
       "    <tr>\n",
       "      <th>7</th>\n",
       "      <td>2020-08-16</td>\n",
       "      <td>0.0</td>\n",
       "      <td>10.0</td>\n",
       "      <td>Sunday</td>\n",
       "    </tr>\n",
       "    <tr>\n",
       "      <th>8</th>\n",
       "      <td>2020-08-17</td>\n",
       "      <td>1.0</td>\n",
       "      <td>10.0</td>\n",
       "      <td>Monday</td>\n",
       "    </tr>\n",
       "    <tr>\n",
       "      <th>9</th>\n",
       "      <td>2020-08-18</td>\n",
       "      <td>5.0</td>\n",
       "      <td>2.0</td>\n",
       "      <td>Tuesday</td>\n",
       "    </tr>\n",
       "  </tbody>\n",
       "</table>\n",
       "</div>"
      ],
      "text/plain": [
       "        date  num_prisoners  num_incidents day_of_week\n",
       "0 2020-08-09            5.0         3630.0      Sunday\n",
       "1 2020-08-10           18.0         1799.0      Monday\n",
       "2 2020-08-11            7.0         1093.0     Tuesday\n",
       "3 2020-08-12            6.0          274.0   Wednesday\n",
       "4 2020-08-13            3.0           48.0    Thursday\n",
       "5 2020-08-14            3.0           12.0      Friday\n",
       "6 2020-08-15            2.0            8.0    Saturday\n",
       "7 2020-08-16            0.0           10.0      Sunday\n",
       "8 2020-08-17            1.0           10.0      Monday\n",
       "9 2020-08-18            5.0            2.0     Tuesday"
      ]
     },
     "execution_count": 14,
     "metadata": {},
     "output_type": "execute_result"
    }
   ],
   "source": [
    "df_merge.head(10)"
   ]
  },
  {
   "cell_type": "code",
   "execution_count": 20,
   "metadata": {},
   "outputs": [
    {
     "data": {
      "text/plain": [
       "<AxesSubplot:>"
      ]
     },
     "execution_count": 20,
     "metadata": {},
     "output_type": "execute_result"
    },
    {
     "data": {
      "image/png": "[encoded data removed]",
      "text/plain": [
       "<Figure size 864x576 with 1 Axes>"
      ]
     },
     "metadata": {
      "needs_background": "light"
     },
     "output_type": "display_data"
    },
    {
     "data": {
      "image/png": "[encoded data removed]",
      "text/plain": [
       "<Figure size 864x576 with 2 Axes>"
      ]
     },
     "metadata": {
      "needs_background": "light"
     },
     "output_type": "display_data"
    }
   ],
   "source": [
    "ax1 = df_merge.loc[10:].plot(\n",
    "    x=\"date\", \n",
    "    y=\"num_prisoners\",\n",
    "    figsize=(12,8),\n",
    "    style='s-',\n",
    "    color=\"black\", \n",
    "    mfc = \"red\",  \n",
    "    alpha=0.7,  \n",
    "    markevery = np.where(df_merge[\"day_of_week\"].loc[10:] == \"Sunday\", True, False)\n",
    "    )\n",
    "\n",
    "df_merge.loc[10:].plot(\n",
    "    x=\"date\", \n",
    "    y=\"num_incidents\",\n",
    "    figsize=(12,8),\n",
    "    style='s-', \n",
    "    color=\"black\", \n",
    "    mfc = \"red\",   \n",
    "    alpha=0.7, \n",
    "    secondary_y=True,\n",
    "    markevery = np.where(df_merge[\"day_of_week\"].loc[10:] == \"Sunday\", True, False),\n",
    "    )\n",
    "\n"
   ]
  },
  {
   "cell_type": "code",
   "execution_count": 26,
   "metadata": {},
   "outputs": [
    {
     "data": {
      "text/html": [
       "<div>\n",
       "<style scoped>\n",
       "    .dataframe tbody tr th:only-of-type {\n",
       "        vertical-align: middle;\n",
       "    }\n",
       "\n",
       "    .dataframe tbody tr th {\n",
       "        vertical-align: top;\n",
       "    }\n",
       "\n",
       "    .dataframe thead th {\n",
       "        text-align: right;\n",
       "    }\n",
       "</style>\n",
       "<table border=\"1\" class=\"dataframe\">\n",
       "  <thead>\n",
       "    <tr style=\"text-align: right;\">\n",
       "      <th></th>\n",
       "      <th>date</th>\n",
       "      <th>num_prisoners</th>\n",
       "      <th>num_incidents</th>\n",
       "      <th>day_of_week</th>\n",
       "    </tr>\n",
       "  </thead>\n",
       "  <tbody>\n",
       "    <tr>\n",
       "      <th>0</th>\n",
       "      <td>2020-08-09</td>\n",
       "      <td>5.0</td>\n",
       "      <td>3630.0</td>\n",
       "      <td>Sunday</td>\n",
       "    </tr>\n",
       "    <tr>\n",
       "      <th>1</th>\n",
       "      <td>2020-08-10</td>\n",
       "      <td>18.0</td>\n",
       "      <td>1799.0</td>\n",
       "      <td>Monday</td>\n",
       "    </tr>\n",
       "    <tr>\n",
       "      <th>98</th>\n",
       "      <td>2020-11-15</td>\n",
       "      <td>4.0</td>\n",
       "      <td>1379.0</td>\n",
       "      <td>Sunday</td>\n",
       "    </tr>\n",
       "    <tr>\n",
       "      <th>91</th>\n",
       "      <td>2020-11-08</td>\n",
       "      <td>0.0</td>\n",
       "      <td>1189.0</td>\n",
       "      <td>Sunday</td>\n",
       "    </tr>\n",
       "    <tr>\n",
       "      <th>2</th>\n",
       "      <td>2020-08-11</td>\n",
       "      <td>7.0</td>\n",
       "      <td>1093.0</td>\n",
       "      <td>Tuesday</td>\n",
       "    </tr>\n",
       "    <tr>\n",
       "      <th>35</th>\n",
       "      <td>2020-09-13</td>\n",
       "      <td>6.0</td>\n",
       "      <td>769.0</td>\n",
       "      <td>Sunday</td>\n",
       "    </tr>\n",
       "    <tr>\n",
       "      <th>63</th>\n",
       "      <td>2020-10-11</td>\n",
       "      <td>0.0</td>\n",
       "      <td>755.0</td>\n",
       "      <td>Sunday</td>\n",
       "    </tr>\n",
       "    <tr>\n",
       "      <th>49</th>\n",
       "      <td>2020-09-27</td>\n",
       "      <td>8.0</td>\n",
       "      <td>541.0</td>\n",
       "      <td>Sunday</td>\n",
       "    </tr>\n",
       "    <tr>\n",
       "      <th>28</th>\n",
       "      <td>2020-09-06</td>\n",
       "      <td>2.0</td>\n",
       "      <td>526.0</td>\n",
       "      <td>Sunday</td>\n",
       "    </tr>\n",
       "    <tr>\n",
       "      <th>78</th>\n",
       "      <td>2020-10-26</td>\n",
       "      <td>1.0</td>\n",
       "      <td>514.0</td>\n",
       "      <td>Monday</td>\n",
       "    </tr>\n",
       "  </tbody>\n",
       "</table>\n",
       "</div>"
      ],
      "text/plain": [
       "         date  num_prisoners  num_incidents day_of_week\n",
       "0  2020-08-09            5.0         3630.0      Sunday\n",
       "1  2020-08-10           18.0         1799.0      Monday\n",
       "98 2020-11-15            4.0         1379.0      Sunday\n",
       "91 2020-11-08            0.0         1189.0      Sunday\n",
       "2  2020-08-11            7.0         1093.0     Tuesday\n",
       "35 2020-09-13            6.0          769.0      Sunday\n",
       "63 2020-10-11            0.0          755.0      Sunday\n",
       "49 2020-09-27            8.0          541.0      Sunday\n",
       "28 2020-09-06            2.0          526.0      Sunday\n",
       "78 2020-10-26            1.0          514.0      Monday"
      ]
     },
     "execution_count": 26,
     "metadata": {},
     "output_type": "execute_result"
    }
   ],
   "source": [
    "df_merge.sort_values(by=\"num_incidents\", ascending=False).head(10)"
   ]
  },
  {
   "cell_type": "code",
   "execution_count": 32,
   "metadata": {},
   "outputs": [],
   "source": [
    "# save data\n",
    "f_name = \"viasna_dailyCounts_Aug_March.csv\"\n",
    "path = os.path.join(Config.proccessed_data_dir, Config.viasna_data_subdir, f_name)\n",
    "df_merge.to_csv(path, index=False)"
   ]
  },
  {
   "cell_type": "code",
   "execution_count": null,
   "metadata": {},
   "outputs": [],
   "source": []
  },
  {
   "cell_type": "code",
   "execution_count": null,
   "metadata": {},
   "outputs": [],
   "source": [
    "# https://apnews.com/article/belarus-alexander-lukashenko-minsk-archive-elections-038f05df4d1fa275e648acc624467171\n",
    "# detention v/s arrests: https://www.thomasianlaw.com/blog/2022/september/what-s-the-difference-between-a-detention-and-an/\n",
    "# Detainment may lead to arrest\n"
   ]
  }
 ],
 "metadata": {
  "kernelspec": {
   "display_name": "Python 3",
   "language": "python",
   "name": "python3"
  },
  "language_info": {
   "codemirror_mode": {
    "name": "ipython",
    "version": 3
   },
   "file_extension": ".py",
   "mimetype": "text/x-python",
   "name": "python",
   "nbconvert_exporter": "python",
   "pygments_lexer": "ipython3",
   "version": "3.8.5"
  },
  "orig_nbformat": 4,
  "vscode": {
   "interpreter": {
    "hash": "dfa3b036b0bc1e6ca327f6d0a20f07dbf1cbb47bc63c8ecc61317dfe33b7ca85"
   }
  }
 },
 "nbformat": 4,
 "nbformat_minor": 2
}
