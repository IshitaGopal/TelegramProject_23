{
 "cells": [
  {
   "cell_type": "code",
   "execution_count": 1,
   "metadata": {},
   "outputs": [],
   "source": [
    "import pandas as pd\n",
    "import numpy as np\n",
    "import matplotlib.pyplot as plt\n",
    "import os\n",
    "from Config import Config \n"
   ]
  },
  {
   "cell_type": "code",
   "execution_count": 2,
   "metadata": {},
   "outputs": [],
   "source": [
    "min_date = pd.to_datetime(\"2020-08-15\")\n",
    "max_date = pd.to_datetime(\"2021-04-01\")"
   ]
  },
  {
   "cell_type": "code",
   "execution_count": 11,
   "metadata": {},
   "outputs": [],
   "source": [
    "# Read data \n",
    "# political prisoners data \n",
    "prisoners_f = \"../processed_data/viasna_data/viasna_political_prisoners.csv\"\n",
    "prisoners = pd.read_csv(prisoners_f)\n",
    "prisoners.date_of_detention = pd.to_datetime(prisoners.date_of_detention)\n",
    "\n",
    "# An incident means detention (including at the border), drawing up a report, search, etc.\n",
    "incedents_f = \"../processed_data/viasna_data/persecutionDatabase.csv\"\n",
    "incedents = pd.read_csv(incedents_f)\n",
    "incedents.date_of_incident = pd.to_datetime(incedents.date_of_incident)\n"
   ]
  },
  {
   "cell_type": "code",
   "execution_count": 12,
   "metadata": {},
   "outputs": [
    {
     "data": {
      "text/plain": [
       "(Timestamp('2020-08-09 00:00:00'), Timestamp('2021-04-01 00:00:00'))"
      ]
     },
     "execution_count": 12,
     "metadata": {},
     "output_type": "execute_result"
    }
   ],
   "source": [
    "incedents.date_of_incident.min(), incedents.date_of_incident.max()"
   ]
  },
  {
   "cell_type": "code",
   "execution_count": 13,
   "metadata": {},
   "outputs": [
    {
     "data": {
      "text/html": [
       "<div>\n",
       "<style scoped>\n",
       "    .dataframe tbody tr th:only-of-type {\n",
       "        vertical-align: middle;\n",
       "    }\n",
       "\n",
       "    .dataframe tbody tr th {\n",
       "        vertical-align: top;\n",
       "    }\n",
       "\n",
       "    .dataframe thead th {\n",
       "        text-align: right;\n",
       "    }\n",
       "</style>\n",
       "<table border=\"1\" class=\"dataframe\">\n",
       "  <thead>\n",
       "    <tr style=\"text-align: right;\">\n",
       "      <th></th>\n",
       "      <th>Unnamed: 0</th>\n",
       "      <th>No</th>\n",
       "      <th>date_of_incident</th>\n",
       "      <th>name</th>\n",
       "      <th>gender</th>\n",
       "      <th>article</th>\n",
       "      <th>court_date</th>\n",
       "      <th>judge</th>\n",
       "      <th>court</th>\n",
       "      <th>arrest</th>\n",
       "      <th>penalty</th>\n",
       "      <th>additionally</th>\n",
       "      <th>district_translated</th>\n",
       "      <th>region_translated</th>\n",
       "    </tr>\n",
       "  </thead>\n",
       "  <tbody>\n",
       "    <tr>\n",
       "      <th>0</th>\n",
       "      <td>0</td>\n",
       "      <td>1220</td>\n",
       "      <td>2021-04-01</td>\n",
       "      <td>Агееў Юрый</td>\n",
       "      <td>м</td>\n",
       "      <td>24.23 ч.1 КаАП – «парушэньне парадку арганізац...</td>\n",
       "      <td>2021-04-01</td>\n",
       "      <td>NaN</td>\n",
       "      <td>Магілёў</td>\n",
       "      <td>7 сут.</td>\n",
       "      <td>25 б.в. 725,00 руб.</td>\n",
       "      <td>NaN</td>\n",
       "      <td>Mogilev</td>\n",
       "      <td>Mogilev</td>\n",
       "    </tr>\n",
       "    <tr>\n",
       "      <th>1</th>\n",
       "      <td>1</td>\n",
       "      <td>1221</td>\n",
       "      <td>2021-04-01</td>\n",
       "      <td>Гаўрыс Вольга</td>\n",
       "      <td>ж</td>\n",
       "      <td>24.23 ч.1 КаАП – «парушэньне парадку арганізац...</td>\n",
       "      <td>2021-04-02</td>\n",
       "      <td>Новікава Е.С.</td>\n",
       "      <td>Менск, раённы</td>\n",
       "      <td>NaN</td>\n",
       "      <td>30 б.в. 870,00 руб.</td>\n",
       "      <td>За чырвоныя сардэчкі на вокнах</td>\n",
       "      <td>Minsk</td>\n",
       "      <td>Minsk</td>\n",
       "    </tr>\n",
       "  </tbody>\n",
       "</table>\n",
       "</div>"
      ],
      "text/plain": [
       "   Unnamed: 0    No date_of_incident           name gender  \\\n",
       "0           0  1220       2021-04-01     Агееў Юрый      м   \n",
       "1           1  1221       2021-04-01  Гаўрыс Вольга      ж   \n",
       "\n",
       "                                             article  court_date  \\\n",
       "0  24.23 ч.1 КаАП – «парушэньне парадку арганізац...  2021-04-01   \n",
       "1  24.23 ч.1 КаАП – «парушэньне парадку арганізац...  2021-04-02   \n",
       "\n",
       "           judge          court  arrest              penalty  \\\n",
       "0            NaN        Магілёў  7 сут.  25 б.в. 725,00 руб.   \n",
       "1  Новікава Е.С.  Менск, раённы     NaN  30 б.в. 870,00 руб.   \n",
       "\n",
       "                     additionally district_translated region_translated  \n",
       "0                             NaN             Mogilev           Mogilev  \n",
       "1  За чырвоныя сардэчкі на вокнах               Minsk             Minsk  "
      ]
     },
     "execution_count": 13,
     "metadata": {},
     "output_type": "execute_result"
    }
   ],
   "source": [
    "incedents.head(2)"
   ]
  },
  {
   "cell_type": "code",
   "execution_count": 14,
   "metadata": {},
   "outputs": [
    {
     "data": {
      "text/plain": [
       "Minsk      18416\n",
       "Brest       1400\n",
       "Mogilev      861\n",
       "Grodno       849\n",
       "Gomel        712\n",
       "Vitebsk      580\n",
       "Name: region_translated, dtype: int64"
      ]
     },
     "execution_count": 14,
     "metadata": {},
     "output_type": "execute_result"
    }
   ],
   "source": [
    "# number of incidents across regions\n",
    "incedents.region_translated.value_counts()"
   ]
  },
  {
   "cell_type": "code",
   "execution_count": 15,
   "metadata": {},
   "outputs": [
    {
     "data": {
      "text/plain": [
       "Minsk             16097\n",
       "Smalyavichy        1607\n",
       "Brest               755\n",
       "Mogilev             567\n",
       "Grodno              564\n",
       "Gomel               387\n",
       "Vitebsk             291\n",
       "Maladzyechna        281\n",
       "Baranovichy         205\n",
       "Polotsk             136\n",
       "Babruysk            125\n",
       "Barysaw             123\n",
       "Kastsyukovichy      114\n",
       "Salihorsk           114\n",
       "Mazyr               100\n",
       "Pinsk                87\n",
       "Svietlahorsk         75\n",
       "Orsha                71\n",
       "Zhlobin              67\n",
       "Baranavichy          65\n",
       "Name: district_translated, dtype: int64"
      ]
     },
     "execution_count": 15,
     "metadata": {},
     "output_type": "execute_result"
    }
   ],
   "source": [
    "# number of incidents across the top 20 districts\n",
    "incedents.district_translated.value_counts()[:20]"
   ]
  },
  {
   "cell_type": "code",
   "execution_count": 18,
   "metadata": {},
   "outputs": [],
   "source": [
    "district_incedents = incedents.groupby([\"district_translated\", \"date_of_incident\"])[\"name\"].count().reset_index(drop=False)\n",
    "district_incedents.rename(columns={\"name\": \"repression_count\"}, inplace=True)"
   ]
  },
  {
   "cell_type": "code",
   "execution_count": 19,
   "metadata": {},
   "outputs": [],
   "source": [
    "district_incedents.to_csv(\"../processed_data/viasna_data/incidents_data.csv\", index=False)\n"
   ]
  },
  {
   "cell_type": "code",
   "execution_count": 24,
   "metadata": {},
   "outputs": [
    {
     "data": {
      "text/plain": [
       "Timestamp('2009-02-08 00:00:00')"
      ]
     },
     "execution_count": 24,
     "metadata": {},
     "output_type": "execute_result"
    }
   ],
   "source": [
    "prisoners.date_of_detention.min(), prisoners.date_of_detention.max()"
   ]
  },
  {
   "cell_type": "code",
   "execution_count": 27,
   "metadata": {},
   "outputs": [],
   "source": [
    "# Daily number of prisoners\n",
    "daily_num_prisoners = (\n",
    "    prisoners\n",
    "    .groupby(\"date_of_detention\")[\"name\"]\n",
    "    .count()\n",
    "    .reset_index()\n",
    "    .rename(columns={\"date_of_detention\": \"date\" ,\"name\": \"num_prisoners\"})\n",
    "    )\n",
    "\n",
    "# Daily number of incidents\n",
    "daily_num_incedents = (\n",
    "    incedents\n",
    "    .groupby(\"date_of_incident\")[\"name\"]\n",
    "    .count()\n",
    "    .reset_index()\n",
    "    .rename(columns={\"date_of_incident\": \"date\",\"name\": \"num_incidents\"})\n",
    "    )"
   ]
  },
  {
   "cell_type": "code",
   "execution_count": 28,
   "metadata": {},
   "outputs": [],
   "source": [
    "# add any missing days between min/max to the dataset\n",
    "all_days = pd.date_range(min_date, max_date, freq='D')\n",
    "\n",
    "# check for missing days and fill the num_detentions column with 0 \n",
    "daily_num_prisoners = ( \n",
    "    daily_num_prisoners\n",
    "    .set_index(\"date\") \n",
    "     .reindex(all_days) # reindex using all_days - this adds any missing days to the dataset \n",
    "     .rename_axis(['date'])\n",
    "     .fillna(0)\n",
    "     .reset_index()\n",
    ")\n",
    "\n",
    "# check for missing days and fill the num_detentions column with 0 \n",
    "daily_num_incedents = ( \n",
    "    daily_num_incedents\n",
    "    .set_index(\"date\") \n",
    "     .reindex(all_days) # reindex using all_days - this adds any missing days to the dataset \n",
    "     .rename_axis(['date'])\n",
    "     .fillna(0)\n",
    "     .reset_index()\n",
    ")"
   ]
  },
  {
   "cell_type": "code",
   "execution_count": 29,
   "metadata": {},
   "outputs": [],
   "source": [
    "# merge prisoners and incidents\n",
    "df_merge = daily_num_prisoners.merge(daily_num_incedents, how=\"left\", on=\"date\")"
   ]
  },
  {
   "cell_type": "code",
   "execution_count": 30,
   "metadata": {},
   "outputs": [],
   "source": [
    "# Day of week \n",
    "df_merge[\"day_of_week\"] = df_merge.date.dt.day_name()"
   ]
  },
  {
   "cell_type": "code",
   "execution_count": 31,
   "metadata": {},
   "outputs": [
    {
     "data": {
      "text/html": [
       "<div>\n",
       "<style scoped>\n",
       "    .dataframe tbody tr th:only-of-type {\n",
       "        vertical-align: middle;\n",
       "    }\n",
       "\n",
       "    .dataframe tbody tr th {\n",
       "        vertical-align: top;\n",
       "    }\n",
       "\n",
       "    .dataframe thead th {\n",
       "        text-align: right;\n",
       "    }\n",
       "</style>\n",
       "<table border=\"1\" class=\"dataframe\">\n",
       "  <thead>\n",
       "    <tr style=\"text-align: right;\">\n",
       "      <th></th>\n",
       "      <th>date</th>\n",
       "      <th>num_prisoners</th>\n",
       "      <th>num_incidents</th>\n",
       "      <th>day_of_week</th>\n",
       "    </tr>\n",
       "  </thead>\n",
       "  <tbody>\n",
       "    <tr>\n",
       "      <th>0</th>\n",
       "      <td>2020-08-15</td>\n",
       "      <td>2.0</td>\n",
       "      <td>8.0</td>\n",
       "      <td>Saturday</td>\n",
       "    </tr>\n",
       "    <tr>\n",
       "      <th>1</th>\n",
       "      <td>2020-08-16</td>\n",
       "      <td>0.0</td>\n",
       "      <td>10.0</td>\n",
       "      <td>Sunday</td>\n",
       "    </tr>\n",
       "    <tr>\n",
       "      <th>2</th>\n",
       "      <td>2020-08-17</td>\n",
       "      <td>1.0</td>\n",
       "      <td>10.0</td>\n",
       "      <td>Monday</td>\n",
       "    </tr>\n",
       "    <tr>\n",
       "      <th>3</th>\n",
       "      <td>2020-08-18</td>\n",
       "      <td>5.0</td>\n",
       "      <td>2.0</td>\n",
       "      <td>Tuesday</td>\n",
       "    </tr>\n",
       "    <tr>\n",
       "      <th>4</th>\n",
       "      <td>2020-08-19</td>\n",
       "      <td>5.0</td>\n",
       "      <td>5.0</td>\n",
       "      <td>Wednesday</td>\n",
       "    </tr>\n",
       "    <tr>\n",
       "      <th>5</th>\n",
       "      <td>2020-08-20</td>\n",
       "      <td>1.0</td>\n",
       "      <td>8.0</td>\n",
       "      <td>Thursday</td>\n",
       "    </tr>\n",
       "    <tr>\n",
       "      <th>6</th>\n",
       "      <td>2020-08-21</td>\n",
       "      <td>0.0</td>\n",
       "      <td>5.0</td>\n",
       "      <td>Friday</td>\n",
       "    </tr>\n",
       "    <tr>\n",
       "      <th>7</th>\n",
       "      <td>2020-08-22</td>\n",
       "      <td>2.0</td>\n",
       "      <td>13.0</td>\n",
       "      <td>Saturday</td>\n",
       "    </tr>\n",
       "    <tr>\n",
       "      <th>8</th>\n",
       "      <td>2020-08-23</td>\n",
       "      <td>0.0</td>\n",
       "      <td>41.0</td>\n",
       "      <td>Sunday</td>\n",
       "    </tr>\n",
       "    <tr>\n",
       "      <th>9</th>\n",
       "      <td>2020-08-24</td>\n",
       "      <td>0.0</td>\n",
       "      <td>30.0</td>\n",
       "      <td>Monday</td>\n",
       "    </tr>\n",
       "  </tbody>\n",
       "</table>\n",
       "</div>"
      ],
      "text/plain": [
       "        date  num_prisoners  num_incidents day_of_week\n",
       "0 2020-08-15            2.0            8.0    Saturday\n",
       "1 2020-08-16            0.0           10.0      Sunday\n",
       "2 2020-08-17            1.0           10.0      Monday\n",
       "3 2020-08-18            5.0            2.0     Tuesday\n",
       "4 2020-08-19            5.0            5.0   Wednesday\n",
       "5 2020-08-20            1.0            8.0    Thursday\n",
       "6 2020-08-21            0.0            5.0      Friday\n",
       "7 2020-08-22            2.0           13.0    Saturday\n",
       "8 2020-08-23            0.0           41.0      Sunday\n",
       "9 2020-08-24            0.0           30.0      Monday"
      ]
     },
     "execution_count": 31,
     "metadata": {},
     "output_type": "execute_result"
    }
   ],
   "source": [
    "df_merge.head(10)"
   ]
  },
  {
   "cell_type": "code",
   "execution_count": 32,
   "metadata": {},
   "outputs": [
    {
     "data": {
      "text/plain": [
       "<AxesSubplot:>"
      ]
     },
     "execution_count": 32,
     "metadata": {},
     "output_type": "execute_result"
    },
    {
     "data": {
      "image/png": "[encoded data removed]",
      "text/plain": [
       "<Figure size 864x576 with 1 Axes>"
      ]
     },
     "metadata": {
      "needs_background": "light"
     },
     "output_type": "display_data"
    },
    {
     "data": {
      "image/png": "[encoded data removed]",
      "text/plain": [
       "<Figure size 864x576 with 2 Axes>"
      ]
     },
     "metadata": {
      "needs_background": "light"
     },
     "output_type": "display_data"
    }
   ],
   "source": [
    "ax1 = df_merge.loc[10:].plot(\n",
    "    x=\"date\", \n",
    "    y=\"num_prisoners\",\n",
    "    figsize=(12,8),\n",
    "    style='s-',\n",
    "    color=\"black\", \n",
    "    mfc = \"red\",  \n",
    "    alpha=0.7,  \n",
    "    markevery = np.where(df_merge[\"day_of_week\"].loc[10:] == \"Sunday\", True, False)\n",
    "    )\n",
    "\n",
    "df_merge.loc[10:].plot(\n",
    "    x=\"date\", \n",
    "    y=\"num_incidents\",\n",
    "    figsize=(12,8),\n",
    "    style='s-', \n",
    "    color=\"black\", \n",
    "    mfc = \"red\",   \n",
    "    alpha=0.7, \n",
    "    secondary_y=True,\n",
    "    markevery = np.where(df_merge[\"day_of_week\"].loc[10:] == \"Sunday\", True, False),\n",
    "    )\n",
    "\n"
   ]
  },
  {
   "cell_type": "code",
   "execution_count": 33,
   "metadata": {},
   "outputs": [
    {
     "data": {
      "text/html": [
       "<div>\n",
       "<style scoped>\n",
       "    .dataframe tbody tr th:only-of-type {\n",
       "        vertical-align: middle;\n",
       "    }\n",
       "\n",
       "    .dataframe tbody tr th {\n",
       "        vertical-align: top;\n",
       "    }\n",
       "\n",
       "    .dataframe thead th {\n",
       "        text-align: right;\n",
       "    }\n",
       "</style>\n",
       "<table border=\"1\" class=\"dataframe\">\n",
       "  <thead>\n",
       "    <tr style=\"text-align: right;\">\n",
       "      <th></th>\n",
       "      <th>date</th>\n",
       "      <th>num_prisoners</th>\n",
       "      <th>num_incidents</th>\n",
       "      <th>day_of_week</th>\n",
       "    </tr>\n",
       "  </thead>\n",
       "  <tbody>\n",
       "    <tr>\n",
       "      <th>92</th>\n",
       "      <td>2020-11-15</td>\n",
       "      <td>4.0</td>\n",
       "      <td>1379.0</td>\n",
       "      <td>Sunday</td>\n",
       "    </tr>\n",
       "    <tr>\n",
       "      <th>85</th>\n",
       "      <td>2020-11-08</td>\n",
       "      <td>0.0</td>\n",
       "      <td>1189.0</td>\n",
       "      <td>Sunday</td>\n",
       "    </tr>\n",
       "    <tr>\n",
       "      <th>29</th>\n",
       "      <td>2020-09-13</td>\n",
       "      <td>6.0</td>\n",
       "      <td>769.0</td>\n",
       "      <td>Sunday</td>\n",
       "    </tr>\n",
       "    <tr>\n",
       "      <th>57</th>\n",
       "      <td>2020-10-11</td>\n",
       "      <td>0.0</td>\n",
       "      <td>755.0</td>\n",
       "      <td>Sunday</td>\n",
       "    </tr>\n",
       "    <tr>\n",
       "      <th>43</th>\n",
       "      <td>2020-09-27</td>\n",
       "      <td>8.0</td>\n",
       "      <td>541.0</td>\n",
       "      <td>Sunday</td>\n",
       "    </tr>\n",
       "    <tr>\n",
       "      <th>22</th>\n",
       "      <td>2020-09-06</td>\n",
       "      <td>2.0</td>\n",
       "      <td>526.0</td>\n",
       "      <td>Sunday</td>\n",
       "    </tr>\n",
       "    <tr>\n",
       "      <th>72</th>\n",
       "      <td>2020-10-26</td>\n",
       "      <td>1.0</td>\n",
       "      <td>514.0</td>\n",
       "      <td>Monday</td>\n",
       "    </tr>\n",
       "    <tr>\n",
       "      <th>35</th>\n",
       "      <td>2020-09-19</td>\n",
       "      <td>2.0</td>\n",
       "      <td>459.0</td>\n",
       "      <td>Saturday</td>\n",
       "    </tr>\n",
       "    <tr>\n",
       "      <th>106</th>\n",
       "      <td>2020-11-29</td>\n",
       "      <td>0.0</td>\n",
       "      <td>449.0</td>\n",
       "      <td>Sunday</td>\n",
       "    </tr>\n",
       "    <tr>\n",
       "      <th>99</th>\n",
       "      <td>2020-11-22</td>\n",
       "      <td>4.0</td>\n",
       "      <td>440.0</td>\n",
       "      <td>Sunday</td>\n",
       "    </tr>\n",
       "  </tbody>\n",
       "</table>\n",
       "</div>"
      ],
      "text/plain": [
       "          date  num_prisoners  num_incidents day_of_week\n",
       "92  2020-11-15            4.0         1379.0      Sunday\n",
       "85  2020-11-08            0.0         1189.0      Sunday\n",
       "29  2020-09-13            6.0          769.0      Sunday\n",
       "57  2020-10-11            0.0          755.0      Sunday\n",
       "43  2020-09-27            8.0          541.0      Sunday\n",
       "22  2020-09-06            2.0          526.0      Sunday\n",
       "72  2020-10-26            1.0          514.0      Monday\n",
       "35  2020-09-19            2.0          459.0    Saturday\n",
       "106 2020-11-29            0.0          449.0      Sunday\n",
       "99  2020-11-22            4.0          440.0      Sunday"
      ]
     },
     "execution_count": 33,
     "metadata": {},
     "output_type": "execute_result"
    }
   ],
   "source": [
    "df_merge.sort_values(by=\"num_incidents\", ascending=False).head(10)"
   ]
  },
  {
   "cell_type": "code",
   "execution_count": 32,
   "metadata": {},
   "outputs": [],
   "source": [
    "# save data\n",
    "f_name = \"viasna_dailyCounts_Aug_March.csv\"\n",
    "path = os.path.join(Config.proccessed_data_dir, Config.viasna_data_subdir, f_name)\n",
    "df_merge.to_csv(path, index=False)"
   ]
  },
  {
   "cell_type": "code",
   "execution_count": null,
   "metadata": {},
   "outputs": [],
   "source": [
    "# create date time \n",
    "# filter by date\n",
    "#incedents.court.value_counts().reset_index().to_csv(\"../processed_data/viasna_data/court_names.csv\", index=False)\n",
    "#incedents.to_csv(\"../processed_data/viasna_data/persecutionDatabase_copy.csv\")\n",
    "\n",
    "# groupby district \n",
    "#daily_incedents20 = incedents.groupby([\"district\", \"date_of_incident\"]).size().unstack(level=0, fill_value=0)\n",
    "#daily_incedents20.plot(subplots=True, layout=(5, 4), figsize=(20,8))\n",
    "\n",
    "#prisoners_date_filt = (prisoners.date_of_detention >= min_date) & (prisoners.date_of_detention <= max_date)\n",
    "#prisoners_filt = prisoners.loc[prisoners_date_filt, :]\n",
    "\n"
   ]
  },
  {
   "cell_type": "code",
   "execution_count": null,
   "metadata": {},
   "outputs": [],
   "source": [
    "# https://apnews.com/article/belarus-alexander-lukashenko-minsk-archive-elections-038f05df4d1fa275e648acc624467171\n",
    "# detention v/s arrests: https://www.thomasianlaw.com/blog/2022/september/what-s-the-difference-between-a-detention-and-an/\n",
    "# Detainment may lead to arrest\n"
   ]
  }
 ],
 "metadata": {
  "kernelspec": {
   "display_name": "Python 3 (ipykernel)",
   "language": "python",
   "name": "python3"
  },
  "language_info": {
   "codemirror_mode": {
    "name": "ipython",
    "version": 3
   },
   "file_extension": ".py",
   "mimetype": "text/x-python",
   "name": "python",
   "nbconvert_exporter": "python",
   "pygments_lexer": "ipython3",
   "version": "3.8.5"
  },
  "vscode": {
   "interpreter": {
    "hash": "dfa3b036b0bc1e6ca327f6d0a20f07dbf1cbb47bc63c8ecc61317dfe33b7ca85"
   }
  }
 },
 "nbformat": 4,
 "nbformat_minor": 2
}
