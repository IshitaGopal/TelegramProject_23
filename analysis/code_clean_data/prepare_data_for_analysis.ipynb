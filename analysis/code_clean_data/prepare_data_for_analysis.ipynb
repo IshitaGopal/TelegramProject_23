{
 "cells": [
  {
   "cell_type": "code",
   "execution_count": 163,
   "id": "eligible-fiction",
   "metadata": {},
   "outputs": [],
   "source": [
    "import pandas as pd\n",
    "import numpy as np\n",
    "import matplotlib.pyplot as plt\n",
    "import numpy as np\n",
    "\n",
    "# import functions from utils.py\n",
    "from utils import (\n",
    "    calc_moving_avg,\n",
    "    calc_rolling_sum,\n",
    "    calc_log,\n",
    "    calc_lag,\n",
    "    find_column_names,\n",
    "    modify_column_names,\n",
    ")\n",
    "\n",
    "#min_date = pd.to_datetime(\"2020-08-09\")\n",
    "#max_date = pd.to_datetime(\"2021-04-01\")\n",
    "pd.options.display.max_rows = None"
   ]
  },
  {
   "cell_type": "code",
   "execution_count": 165,
   "id": "4d3729a0",
   "metadata": {},
   "outputs": [],
   "source": [
    "# Read in the data  \n",
    "dfs3 = pd.read_csv(\"../processed_data/analysis_data/telegram_data_2020-08-09_2021-04-01.csv\")\n",
    "protest = pd.read_csv(\"../processed_data/acled_data/combined_protest_data.csv\")\n",
    "repression = pd.read_csv(\"../processed_data/viasna_data/incidents_data.csv\")\n",
    "chat_info = pd.read_csv(\"../data/chat_names.csv\", encoding = \"ISO-8859-1\")\n",
    "\n",
    "\n",
    "# convert datetime columns to datetime format\n",
    "dfs3[\"date_minsk\"] = pd.to_datetime(dfs3[\"date_minsk\"])\n",
    "protest.event_date = pd.to_datetime(protest.event_date)\n",
    "repression.date_of_incident = pd.to_datetime(repression.date_of_incident)"
   ]
  },
  {
   "cell_type": "code",
   "execution_count": 166,
   "id": "177926b8",
   "metadata": {},
   "outputs": [],
   "source": [
    "# Seperate protest data into different dataframes for district, region, country\n",
    "# district columns + df\n",
    "protest=protest.drop(columns=[\"protest_size_num\"])\n",
    "district_protest_cols = [col for col in protest.columns if not col.startswith(('region', 'country'))]\n",
    "district_protest = protest.loc[:,district_protest_cols]\n",
    "district_protest.drop_duplicates(inplace=True)\n",
    "\n",
    "# regional columns + df\n",
    "region_protest_cols = [\"region_belarus\", \"event_date\"] + [col for col in protest.columns if \"region_num\" in col]\n",
    "region_protest = protest.loc[:,region_protest_cols]\n",
    "region_protest.drop_duplicates(inplace=True)\n",
    "\n",
    "# country columns + df\n",
    "country_protest_cols = [\"event_date\"] + [col for col in protest.columns if \"country_num\" in col]\n",
    "country_protest = protest.loc[:,country_protest_cols]\n",
    "country_protest.drop_duplicates(inplace=True)\n"
   ]
  },
  {
   "cell_type": "code",
   "execution_count": 167,
   "id": "64f7e3b4",
   "metadata": {},
   "outputs": [],
   "source": [
    "# CALCULATE THE DAILY NUMBER OF MESSAGES IN A CHAT GROUP\n",
    "# There are 59 chats in this data \n",
    "chat_daily_num_msgs = dfs3.groupby(['date_minsk', \"chat_name\", 'chat_labels']).size().reset_index(name=\"num_msgs\")\n",
    "chat_daily_num_msgs[\"district_name\"] = chat_daily_num_msgs.chat_labels.str.split(\",\").str[1].str.strip()"
   ]
  },
  {
   "cell_type": "code",
   "execution_count": null,
   "id": "c1ae5ec3",
   "metadata": {},
   "outputs": [],
   "source": [
    "#chat_daily_num_msgs.to_csv(\"../processed_data/analysis_data/chat_daily_num_msgs.csv\", index=False)"
   ]
  },
  {
   "cell_type": "code",
   "execution_count": 168,
   "id": "5551d442",
   "metadata": {},
   "outputs": [],
   "source": [
    "# number of chats in every district \n",
    "num_district_chats = chat_daily_num_msgs.groupby(\"district_name\")['chat_name'].nunique().reset_index(name=\"num_district_chats\")"
   ]
  },
  {
   "cell_type": "code",
   "execution_count": 169,
   "id": "f360f5f5",
   "metadata": {},
   "outputs": [
    {
     "data": {
      "text/html": [
       "<div>\n",
       "<style scoped>\n",
       "    .dataframe tbody tr th:only-of-type {\n",
       "        vertical-align: middle;\n",
       "    }\n",
       "\n",
       "    .dataframe tbody tr th {\n",
       "        vertical-align: top;\n",
       "    }\n",
       "\n",
       "    .dataframe thead th {\n",
       "        text-align: right;\n",
       "    }\n",
       "</style>\n",
       "<table border=\"1\" class=\"dataframe\">\n",
       "  <thead>\n",
       "    <tr style=\"text-align: right;\">\n",
       "      <th></th>\n",
       "      <th>date_minsk</th>\n",
       "      <th>district_name</th>\n",
       "      <th>district_labels</th>\n",
       "      <th>num_msgs</th>\n",
       "    </tr>\n",
       "  </thead>\n",
       "  <tbody>\n",
       "    <tr>\n",
       "      <th>0</th>\n",
       "      <td>2020-08-09</td>\n",
       "      <td>Ashmyany</td>\n",
       "      <td>Grodno, Ashmyany</td>\n",
       "      <td>2</td>\n",
       "    </tr>\n",
       "    <tr>\n",
       "      <th>1</th>\n",
       "      <td>2020-08-09</td>\n",
       "      <td>Asipovichy</td>\n",
       "      <td>Mogilev, Asipovichy</td>\n",
       "      <td>129</td>\n",
       "    </tr>\n",
       "    <tr>\n",
       "      <th>2</th>\n",
       "      <td>2020-08-09</td>\n",
       "      <td>Baranavichy</td>\n",
       "      <td>Brest, Baranavichy</td>\n",
       "      <td>294</td>\n",
       "    </tr>\n",
       "    <tr>\n",
       "      <th>3</th>\n",
       "      <td>2020-08-09</td>\n",
       "      <td>Barysaw</td>\n",
       "      <td>Minsk, Barysaw</td>\n",
       "      <td>665</td>\n",
       "    </tr>\n",
       "    <tr>\n",
       "      <th>4</th>\n",
       "      <td>2020-08-09</td>\n",
       "      <td>Brest</td>\n",
       "      <td>Brest, Brest</td>\n",
       "      <td>3074</td>\n",
       "    </tr>\n",
       "  </tbody>\n",
       "</table>\n",
       "</div>"
      ],
      "text/plain": [
       "  date_minsk district_name      district_labels  num_msgs\n",
       "0 2020-08-09      Ashmyany     Grodno, Ashmyany         2\n",
       "1 2020-08-09    Asipovichy  Mogilev, Asipovichy       129\n",
       "2 2020-08-09   Baranavichy   Brest, Baranavichy       294\n",
       "3 2020-08-09       Barysaw       Minsk, Barysaw       665\n",
       "4 2020-08-09         Brest         Brest, Brest      3074"
      ]
     },
     "execution_count": 169,
     "metadata": {},
     "output_type": "execute_result"
    }
   ],
   "source": [
    "# CALCULATE THE DAILY NUMBER OF MESSAGES IN A DISTRIC = sum of messages IN CHAT GROUP OF THE DISTRICT\n",
    "# There are 28 districts in this data \n",
    "district_daily_num_msgs = dfs3.groupby(['date_minsk', 'district_name', 'district_labels']).size().reset_index(name=\"num_msgs\")\n",
    "district_daily_num_msgs.head()"
   ]
  },
  {
   "cell_type": "code",
   "execution_count": 170,
   "id": "e6c1ff39",
   "metadata": {},
   "outputs": [
    {
     "data": {
      "text/plain": [
       "(6369, 4)"
      ]
     },
     "execution_count": 170,
     "metadata": {},
     "output_type": "execute_result"
    }
   ],
   "source": [
    "district_daily_num_msgs.shape"
   ]
  },
  {
   "cell_type": "code",
   "execution_count": 9,
   "id": "0f6ca010",
   "metadata": {},
   "outputs": [],
   "source": [
    "#district_daily_num_msgs.to_csv(\"../processed_data/analysis_data/district_daily_num_msgs.csv\", index=False)"
   ]
  },
  {
   "cell_type": "code",
   "execution_count": 171,
   "id": "4da5ff34",
   "metadata": {},
   "outputs": [],
   "source": [
    "# fill in missing dates as zeros per district \n",
    "# REINDEX\n",
    "\n",
    "# Group by the district_name column\n",
    "grouped = district_daily_num_msgs.groupby(['district_name', 'district_labels'])\n",
    "\n",
    "# Find the minimum and maximum date in each district\n",
    "min_district_dates = grouped['date_minsk'].min()\n",
    "max_district_dates = grouped['date_minsk'].max()\n",
    "\n",
    "# Create a new DataFrame with all dates between the minimum and maximum date in each group\n",
    "new_dfs = []\n",
    "for group_name, group_min_date in min_district_dates.iteritems():\n",
    "    group_max_date = max_district_dates[group_name]\n",
    "    all_dates = pd.date_range(start=group_min_date, end=group_max_date)\n",
    "    group_df = pd.DataFrame({'date_minsk': all_dates, 'district_name': group_name[0], 'district_labels':group_name[1]})\n",
    "    new_df = new_dfs.append(group_df)\n",
    "    \n",
    "new_df = pd.concat(new_dfs)\n",
    "\n",
    "# Merge the new DataFrame with the original DataFrame to add missing dates\n",
    "merged_df = pd.merge(new_df, district_daily_num_msgs, on=['date_minsk', 'district_name', 'district_labels'], how='left')\n",
    "merged_df['num_msgs'] = merged_df['num_msgs'].fillna(0)\n",
    "merged_df['region_name'] = merged_df['district_labels'].str.split(',').str[0]"
   ]
  },
  {
   "cell_type": "code",
   "execution_count": 172,
   "id": "e072bac8",
   "metadata": {},
   "outputs": [
    {
     "data": {
      "text/plain": [
       "True     6369\n",
       "False     149\n",
       "Name: num_msgs, dtype: int64"
      ]
     },
     "execution_count": 172,
     "metadata": {},
     "output_type": "execute_result"
    }
   ],
   "source": [
    "(merged_df.num_msgs > 0).value_counts()"
   ]
  },
  {
   "cell_type": "code",
   "execution_count": 173,
   "id": "b6cb84bb",
   "metadata": {},
   "outputs": [
    {
     "data": {
      "text/plain": [
       "(6518, 5)"
      ]
     },
     "execution_count": 173,
     "metadata": {},
     "output_type": "execute_result"
    }
   ],
   "source": [
    "merged_df.shape"
   ]
  },
  {
   "cell_type": "code",
   "execution_count": 174,
   "id": "75d88a72",
   "metadata": {},
   "outputs": [],
   "source": [
    "# Merge in district protest data\n",
    "combined  = merged_df.merge(district_protest, \n",
    "                how=\"left\", \n",
    "                left_on=[\"date_minsk\",\"district_name\"], \n",
    "                right_on=[\"event_date\",\"district_belarus\"])\n",
    "\n",
    "# Merge in region protest data\n",
    "combined  = combined.merge(region_protest, \n",
    "                how=\"left\", \n",
    "                left_on=[\"region_name\", \"date_minsk\"], \n",
    "                right_on=[\"region_belarus\", \"event_date\"])\n",
    "\n",
    "# Merge in country protest data\n",
    "combined  = combined.merge(country_protest, \n",
    "                how=\"left\", \n",
    "                left_on=[\"date_minsk\"], \n",
    "                right_on=[\"event_date\"])\n",
    "\n",
    "\n"
   ]
  },
  {
   "cell_type": "code",
   "execution_count": 175,
   "id": "bbfe0a4a",
   "metadata": {},
   "outputs": [
    {
     "data": {
      "text/plain": [
       "(6518, 29)"
      ]
     },
     "execution_count": 175,
     "metadata": {},
     "output_type": "execute_result"
    }
   ],
   "source": [
    "combined.shape"
   ]
  },
  {
   "cell_type": "code",
   "execution_count": 176,
   "id": "48f4f240",
   "metadata": {},
   "outputs": [],
   "source": [
    "# Merge in the repression data \n",
    "combined  = combined.merge(repression,\n",
    "                how=\"left\",\n",
    "                left_on=[\"date_minsk\", \"district_name\"],\n",
    "                right_on=[\"date_of_incident\", \"district_translated\"])"
   ]
  },
  {
   "cell_type": "code",
   "execution_count": 177,
   "id": "05f6c06d",
   "metadata": {},
   "outputs": [],
   "source": [
    "# drop duplicate columns \n",
    "drop_dup_cols = [\"district_belarus\", \"event_date_x\", \"event_date_y\", \"event_date\", \"region_belarus\", \"district_translated\", \"date_of_incident\"]\n",
    "combined = combined.drop(columns = drop_dup_cols)"
   ]
  },
  {
   "cell_type": "code",
   "execution_count": 178,
   "id": "950e9ab7",
   "metadata": {},
   "outputs": [
    {
     "data": {
      "text/plain": [
       "(6518, 25)"
      ]
     },
     "execution_count": 178,
     "metadata": {},
     "output_type": "execute_result"
    }
   ],
   "source": [
    "combined.shape"
   ]
  },
  {
   "cell_type": "code",
   "execution_count": 179,
   "id": "740b60cd",
   "metadata": {},
   "outputs": [
    {
     "data": {
      "text/plain": [
       "Index(['small_protest_1', 'large_protest_1', 'small_protest_2',\n",
       "       'large_protest_2', 'small_protest_3', 'large_protest_3',\n",
       "       'district_total_protest', 'region_num_small_protest_1',\n",
       "       'region_num_large_protest_1', 'region_num_small_protest_2',\n",
       "       'region_num_large_protest_2', 'region_num_small_protest_3',\n",
       "       'region_num_large_protest_3', 'country_num_small_protest_1',\n",
       "       'country_num_large_protest_1', 'country_num_small_protest_2',\n",
       "       'country_num_large_protest_2', 'country_num_small_protest_3',\n",
       "       'country_num_large_protest_3', 'repression_count'],\n",
       "      dtype='object')"
      ]
     },
     "execution_count": 179,
     "metadata": {},
     "output_type": "execute_result"
    }
   ],
   "source": [
    "combined.columns[5:]"
   ]
  },
  {
   "cell_type": "code",
   "execution_count": 180,
   "id": "8b775cac",
   "metadata": {},
   "outputs": [],
   "source": [
    "combined[combined.columns[5:]] = combined[combined.columns[5:]].fillna(0).astype(int)"
   ]
  },
  {
   "cell_type": "code",
   "execution_count": 181,
   "id": "f3e98417",
   "metadata": {},
   "outputs": [],
   "source": [
    "# binary repression indicator  \n",
    "combined[\"repression_binary\"] = combined[\"repression_count\"].apply(lambda x: 1 if x > 0 else 0)\n",
    "\n",
    "# binary indicator for Sunday\n",
    "combined[\"is_Sunday\"] = (combined[\"date_minsk\"].dt.weekday == 6).astype(int)\n",
    "# Days till Sunday \n",
    "combined[\"days_till_Sunday\"] = 6 - combined[\"date_minsk\"].dt.weekday\n",
    "\n",
    "# Indicators for \"focal days\" = Sunday and [2,1,0] days before it \n",
    "combined[\"focal_day_3\"] = (combined.days_till_Sunday < 3).astype(int)\n",
    "combined[\"focal_day_2\"] = (combined.days_till_Sunday < 2).astype(int)\n",
    "combined[\"focal_day_1\"] = (combined.days_till_Sunday < 1).astype(int)\n",
    "\n",
    "# Indicator for if the district is Minsk\n",
    "combined[\"is_Minsk\"] = combined.district_name.isin([\"Minsk\"])\n",
    "\n",
    "\n",
    "combined = combined.merge(num_district_chats, how=\"left\", on=\"district_name\")\n"
   ]
  },
  {
   "cell_type": "code",
   "execution_count": 182,
   "id": "e6082c22",
   "metadata": {},
   "outputs": [
    {
     "data": {
      "text/plain": [
       "(6518, 33)"
      ]
     },
     "execution_count": 182,
     "metadata": {},
     "output_type": "execute_result"
    }
   ],
   "source": [
    "combined.shape"
   ]
  },
  {
   "cell_type": "code",
   "execution_count": 183,
   "id": "3bc2ae13",
   "metadata": {},
   "outputs": [],
   "source": [
    "# Calculate rolling aggregates \n",
    "\n",
    "# Moving average of the number of messages - with window size of 3, 5, 7\n",
    "combined[\"num_msg_MA3\"] = calc_moving_avg(combined, [\"num_msgs\"], [\"district_name\"], 3)\n",
    "combined[\"num_msg_MA5\"] = calc_moving_avg(combined, [\"num_msgs\"], [\"district_name\"], 5)\n",
    "combined[\"num_msg_MA7\"] = calc_moving_avg(combined, [\"num_msgs\"], [\"district_name\"], 7)\n",
    "\n",
    "# 5 day rolling sum of protests in the district, region and country \n",
    "find_cols_with = ['protest']\n",
    "protest_cols = find_column_names(combined.columns, find_cols_with)\n",
    "modified_colnames = modify_column_names(protest_cols, modifier=\"_rollSum5\", suffix=True)\n",
    "combined[modified_colnames] = calc_rolling_sum(combined, protest_cols, [\"district_name\"], 5)\n",
    "\n"
   ]
  },
  {
   "cell_type": "code",
   "execution_count": 184,
   "id": "f4c383f0",
   "metadata": {},
   "outputs": [
    {
     "data": {
      "text/plain": [
       "(6518, 55)"
      ]
     },
     "execution_count": 184,
     "metadata": {},
     "output_type": "execute_result"
    }
   ],
   "source": [
    "combined.shape"
   ]
  },
  {
   "cell_type": "code",
   "execution_count": 185,
   "id": "d42d5724",
   "metadata": {},
   "outputs": [],
   "source": [
    "# Calculate logs \n",
    "# Calculate logs of variables\n",
    "find_cols_with = [\"repression_count\", \"num_msg_MA3\", \"num_msg_MA5\", \"num_msg_MA7\", \"num_msgs\"]\n",
    "relevant_cols = find_column_names(combined.columns, find_cols_with)    \n",
    "modified_colnames = modify_column_names(relevant_cols, modifier=\"log_\", suffix=False)\n",
    "combined[modified_colnames] = calc_log(combined, relevant_cols)"
   ]
  },
  {
   "cell_type": "code",
   "execution_count": 186,
   "id": "357e5625",
   "metadata": {},
   "outputs": [],
   "source": [
    "# Calculate lags of variables \n",
    "find_cols_with = [\"log_repression_count\", \"repression_binary\", \"log_num_msg\", \"protest_rollSum5\"]\n",
    "relevant_cols = find_column_names(combined.columns, find_cols_with)    \n",
    "modified_colnames = modify_column_names(relevant_cols, modifier=\"lag_\", suffix=False)\n",
    "combined[modified_colnames] = calc_lag(combined, relevant_cols, [\"district_name\"], 1)\n"
   ]
  },
  {
   "cell_type": "code",
   "execution_count": 187,
   "id": "d8b972e6",
   "metadata": {},
   "outputs": [
    {
     "data": {
      "text/plain": [
       "(6518, 67)"
      ]
     },
     "execution_count": 187,
     "metadata": {},
     "output_type": "execute_result"
    }
   ],
   "source": [
    "combined.shape"
   ]
  },
  {
   "cell_type": "code",
   "execution_count": 188,
   "id": "fleet-folks",
   "metadata": {},
   "outputs": [],
   "source": [
    "# Save the final analysis data\n",
    "combined.to_csv(\"../processed_data/analysis_data/combined_new.csv\", index=False)"
   ]
  },
  {
   "cell_type": "code",
   "execution_count": 161,
   "id": "underlying-nurse",
   "metadata": {},
   "outputs": [],
   "source": [
    "# TOTAL NUMBER OF MESSAGES, PROTESTS AND REPRESSION INCIDENTS ACROSS TIME \n",
    "totals = (combined\n",
    " .groupby(\"district_name\")[[\"num_msgs\", \"small_protest_1\", \"large_protest_1\", \"repression_count\"]].sum()\n",
    " .reset_index()\n",
    " .merge(num_district_chats, how=\"left\", on=\"district_name\")\n",
    " .sort_values(\"repression_count\", ascending=False)\n",
    "         )\n",
    "totals = totals[[\"district_name\", \"num_msgs\", \"num_district_chats\", \"small_protest_1\", \"large_protest_1\", \"repression_count\"]]\n",
    "totals.columns = [\"District Name\", \"Telegram posts\", \"Group chats\",\"Small protests\", \"Large protests\", \"Repressed\"]"
   ]
  },
  {
   "cell_type": "code",
   "execution_count": 162,
   "id": "reverse-shaft",
   "metadata": {},
   "outputs": [
    {
     "data": {
      "text/html": [
       "<div>\n",
       "<style scoped>\n",
       "    .dataframe tbody tr th:only-of-type {\n",
       "        vertical-align: middle;\n",
       "    }\n",
       "\n",
       "    .dataframe tbody tr th {\n",
       "        vertical-align: top;\n",
       "    }\n",
       "\n",
       "    .dataframe thead th {\n",
       "        text-align: right;\n",
       "    }\n",
       "</style>\n",
       "<table border=\"1\" class=\"dataframe\">\n",
       "  <thead>\n",
       "    <tr style=\"text-align: right;\">\n",
       "      <th></th>\n",
       "      <th>District Name</th>\n",
       "      <th>Telegram posts</th>\n",
       "      <th>Group chats</th>\n",
       "      <th>Small protests</th>\n",
       "      <th>Large protests</th>\n",
       "      <th>Repressed</th>\n",
       "    </tr>\n",
       "  </thead>\n",
       "  <tbody>\n",
       "    <tr>\n",
       "      <th>14</th>\n",
       "      <td>Minsk</td>\n",
       "      <td>1025549.0</td>\n",
       "      <td>20</td>\n",
       "      <td>178</td>\n",
       "      <td>51</td>\n",
       "      <td>16097</td>\n",
       "    </tr>\n",
       "    <tr>\n",
       "      <th>23</th>\n",
       "      <td>Smalyavichy</td>\n",
       "      <td>64082.0</td>\n",
       "      <td>2</td>\n",
       "      <td>26</td>\n",
       "      <td>2</td>\n",
       "      <td>1607</td>\n",
       "    </tr>\n",
       "    <tr>\n",
       "      <th>4</th>\n",
       "      <td>Brest</td>\n",
       "      <td>154366.0</td>\n",
       "      <td>2</td>\n",
       "      <td>93</td>\n",
       "      <td>9</td>\n",
       "      <td>755</td>\n",
       "    </tr>\n",
       "    <tr>\n",
       "      <th>8</th>\n",
       "      <td>Grodno</td>\n",
       "      <td>239357.0</td>\n",
       "      <td>2</td>\n",
       "      <td>126</td>\n",
       "      <td>12</td>\n",
       "      <td>564</td>\n",
       "    </tr>\n",
       "    <tr>\n",
       "      <th>7</th>\n",
       "      <td>Gomel</td>\n",
       "      <td>137499.0</td>\n",
       "      <td>2</td>\n",
       "      <td>84</td>\n",
       "      <td>11</td>\n",
       "      <td>387</td>\n",
       "    </tr>\n",
       "    <tr>\n",
       "      <th>25</th>\n",
       "      <td>Vitebsk</td>\n",
       "      <td>90121.0</td>\n",
       "      <td>2</td>\n",
       "      <td>90</td>\n",
       "      <td>3</td>\n",
       "      <td>291</td>\n",
       "    </tr>\n",
       "    <tr>\n",
       "      <th>11</th>\n",
       "      <td>Maladzyechna</td>\n",
       "      <td>109758.0</td>\n",
       "      <td>2</td>\n",
       "      <td>44</td>\n",
       "      <td>0</td>\n",
       "      <td>281</td>\n",
       "    </tr>\n",
       "    <tr>\n",
       "      <th>19</th>\n",
       "      <td>Polotsk</td>\n",
       "      <td>105604.0</td>\n",
       "      <td>2</td>\n",
       "      <td>82</td>\n",
       "      <td>0</td>\n",
       "      <td>136</td>\n",
       "    </tr>\n",
       "    <tr>\n",
       "      <th>3</th>\n",
       "      <td>Barysaw</td>\n",
       "      <td>36253.0</td>\n",
       "      <td>1</td>\n",
       "      <td>91</td>\n",
       "      <td>0</td>\n",
       "      <td>123</td>\n",
       "    </tr>\n",
       "    <tr>\n",
       "      <th>21</th>\n",
       "      <td>Salihorsk</td>\n",
       "      <td>97720.0</td>\n",
       "      <td>2</td>\n",
       "      <td>40</td>\n",
       "      <td>3</td>\n",
       "      <td>114</td>\n",
       "    </tr>\n",
       "    <tr>\n",
       "      <th>13</th>\n",
       "      <td>Mazyr</td>\n",
       "      <td>60048.0</td>\n",
       "      <td>3</td>\n",
       "      <td>20</td>\n",
       "      <td>0</td>\n",
       "      <td>100</td>\n",
       "    </tr>\n",
       "    <tr>\n",
       "      <th>18</th>\n",
       "      <td>Pinsk</td>\n",
       "      <td>113986.0</td>\n",
       "      <td>2</td>\n",
       "      <td>12</td>\n",
       "      <td>1</td>\n",
       "      <td>87</td>\n",
       "    </tr>\n",
       "    <tr>\n",
       "      <th>24</th>\n",
       "      <td>Svietlahorsk</td>\n",
       "      <td>52499.0</td>\n",
       "      <td>1</td>\n",
       "      <td>24</td>\n",
       "      <td>0</td>\n",
       "      <td>75</td>\n",
       "    </tr>\n",
       "    <tr>\n",
       "      <th>16</th>\n",
       "      <td>Orsha</td>\n",
       "      <td>31852.0</td>\n",
       "      <td>1</td>\n",
       "      <td>18</td>\n",
       "      <td>1</td>\n",
       "      <td>71</td>\n",
       "    </tr>\n",
       "    <tr>\n",
       "      <th>27</th>\n",
       "      <td>Zhlobin</td>\n",
       "      <td>60320.0</td>\n",
       "      <td>1</td>\n",
       "      <td>11</td>\n",
       "      <td>2</td>\n",
       "      <td>67</td>\n",
       "    </tr>\n",
       "    <tr>\n",
       "      <th>2</th>\n",
       "      <td>Baranavichy</td>\n",
       "      <td>42186.0</td>\n",
       "      <td>1</td>\n",
       "      <td>43</td>\n",
       "      <td>4</td>\n",
       "      <td>65</td>\n",
       "    </tr>\n",
       "    <tr>\n",
       "      <th>10</th>\n",
       "      <td>Lida</td>\n",
       "      <td>115990.0</td>\n",
       "      <td>2</td>\n",
       "      <td>83</td>\n",
       "      <td>3</td>\n",
       "      <td>64</td>\n",
       "    </tr>\n",
       "    <tr>\n",
       "      <th>15</th>\n",
       "      <td>Navahrudak</td>\n",
       "      <td>10372.0</td>\n",
       "      <td>1</td>\n",
       "      <td>31</td>\n",
       "      <td>0</td>\n",
       "      <td>58</td>\n",
       "    </tr>\n",
       "    <tr>\n",
       "      <th>22</th>\n",
       "      <td>Slonim</td>\n",
       "      <td>25271.0</td>\n",
       "      <td>1</td>\n",
       "      <td>2</td>\n",
       "      <td>0</td>\n",
       "      <td>26</td>\n",
       "    </tr>\n",
       "    <tr>\n",
       "      <th>17</th>\n",
       "      <td>Pastavy</td>\n",
       "      <td>19316.0</td>\n",
       "      <td>1</td>\n",
       "      <td>2</td>\n",
       "      <td>0</td>\n",
       "      <td>24</td>\n",
       "    </tr>\n",
       "    <tr>\n",
       "      <th>9</th>\n",
       "      <td>Horki</td>\n",
       "      <td>21695.0</td>\n",
       "      <td>1</td>\n",
       "      <td>6</td>\n",
       "      <td>0</td>\n",
       "      <td>20</td>\n",
       "    </tr>\n",
       "    <tr>\n",
       "      <th>5</th>\n",
       "      <td>Byaroza</td>\n",
       "      <td>8833.0</td>\n",
       "      <td>1</td>\n",
       "      <td>8</td>\n",
       "      <td>0</td>\n",
       "      <td>17</td>\n",
       "    </tr>\n",
       "    <tr>\n",
       "      <th>1</th>\n",
       "      <td>Asipovichy</td>\n",
       "      <td>31399.0</td>\n",
       "      <td>1</td>\n",
       "      <td>5</td>\n",
       "      <td>0</td>\n",
       "      <td>6</td>\n",
       "    </tr>\n",
       "    <tr>\n",
       "      <th>26</th>\n",
       "      <td>Zhabinka</td>\n",
       "      <td>21873.0</td>\n",
       "      <td>1</td>\n",
       "      <td>15</td>\n",
       "      <td>0</td>\n",
       "      <td>6</td>\n",
       "    </tr>\n",
       "    <tr>\n",
       "      <th>20</th>\n",
       "      <td>Pukhavichy</td>\n",
       "      <td>38611.0</td>\n",
       "      <td>1</td>\n",
       "      <td>1</td>\n",
       "      <td>0</td>\n",
       "      <td>5</td>\n",
       "    </tr>\n",
       "    <tr>\n",
       "      <th>12</th>\n",
       "      <td>Masty</td>\n",
       "      <td>16497.0</td>\n",
       "      <td>1</td>\n",
       "      <td>0</td>\n",
       "      <td>0</td>\n",
       "      <td>4</td>\n",
       "    </tr>\n",
       "    <tr>\n",
       "      <th>6</th>\n",
       "      <td>Dobrush</td>\n",
       "      <td>8542.0</td>\n",
       "      <td>1</td>\n",
       "      <td>0</td>\n",
       "      <td>0</td>\n",
       "      <td>1</td>\n",
       "    </tr>\n",
       "    <tr>\n",
       "      <th>0</th>\n",
       "      <td>Ashmyany</td>\n",
       "      <td>18871.0</td>\n",
       "      <td>1</td>\n",
       "      <td>3</td>\n",
       "      <td>0</td>\n",
       "      <td>1</td>\n",
       "    </tr>\n",
       "  </tbody>\n",
       "</table>\n",
       "</div>"
      ],
      "text/plain": [
       "   District Name  Telegram posts  Group chats  Small protests  Large protests  \\\n",
       "14         Minsk       1025549.0           20             178              51   \n",
       "23   Smalyavichy         64082.0            2              26               2   \n",
       "4          Brest        154366.0            2              93               9   \n",
       "8         Grodno        239357.0            2             126              12   \n",
       "7          Gomel        137499.0            2              84              11   \n",
       "25       Vitebsk         90121.0            2              90               3   \n",
       "11  Maladzyechna        109758.0            2              44               0   \n",
       "19       Polotsk        105604.0            2              82               0   \n",
       "3        Barysaw         36253.0            1              91               0   \n",
       "21     Salihorsk         97720.0            2              40               3   \n",
       "13         Mazyr         60048.0            3              20               0   \n",
       "18         Pinsk        113986.0            2              12               1   \n",
       "24  Svietlahorsk         52499.0            1              24               0   \n",
       "16         Orsha         31852.0            1              18               1   \n",
       "27       Zhlobin         60320.0            1              11               2   \n",
       "2    Baranavichy         42186.0            1              43               4   \n",
       "10          Lida        115990.0            2              83               3   \n",
       "15    Navahrudak         10372.0            1              31               0   \n",
       "22        Slonim         25271.0            1               2               0   \n",
       "17       Pastavy         19316.0            1               2               0   \n",
       "9          Horki         21695.0            1               6               0   \n",
       "5        Byaroza          8833.0            1               8               0   \n",
       "1     Asipovichy         31399.0            1               5               0   \n",
       "26      Zhabinka         21873.0            1              15               0   \n",
       "20    Pukhavichy         38611.0            1               1               0   \n",
       "12         Masty         16497.0            1               0               0   \n",
       "6        Dobrush          8542.0            1               0               0   \n",
       "0       Ashmyany         18871.0            1               3               0   \n",
       "\n",
       "    Repressed  \n",
       "14      16097  \n",
       "23       1607  \n",
       "4         755  \n",
       "8         564  \n",
       "7         387  \n",
       "25        291  \n",
       "11        281  \n",
       "19        136  \n",
       "3         123  \n",
       "21        114  \n",
       "13        100  \n",
       "18         87  \n",
       "24         75  \n",
       "16         71  \n",
       "27         67  \n",
       "2          65  \n",
       "10         64  \n",
       "15         58  \n",
       "22         26  \n",
       "17         24  \n",
       "9          20  \n",
       "5          17  \n",
       "1           6  \n",
       "26          6  \n",
       "20          5  \n",
       "12          4  \n",
       "6           1  \n",
       "0           1  "
      ]
     },
     "execution_count": 162,
     "metadata": {},
     "output_type": "execute_result"
    }
   ],
   "source": [
    "totals"
   ]
  },
  {
   "cell_type": "code",
   "execution_count": 22,
   "id": "hydraulic-orchestra",
   "metadata": {},
   "outputs": [],
   "source": [
    "# latex for above table \n",
    "# print(totals.to_latex(index=False, escape=False, caption=\"Total number of Telegram posts, Group chats, Protest events and Repression Incidents across districts (August 2020- April 2021)\"))\n",
    "\n"
   ]
  },
  {
   "cell_type": "code",
   "execution_count": 23,
   "id": "supported-necessity",
   "metadata": {},
   "outputs": [],
   "source": [
    "# Chat information \n",
    "#chat_info_filt = chat_info[~chat_info.chat_name.isin(l)].reset_index(drop=True)\n",
    "#chat_info_filt[chat_info_filt.columns[:-1]]\n",
    "\n",
    "#fig.savefig(\"../plots/daily_chat_msg_count.pdf\", dpi=300, bbox_inches=\"tight\")\n",
    "#fig.savefig(\"../plots/daily_district_msg_count.pdf\", dpi=300, bbox_inches=\"tight\")\n",
    "\n",
    "# make threads \n",
    "#reply_threads = (\n",
    "#    replies\n",
    "#    .groupby('unique_reply_to_msg_id')['message']\n",
    "#    .agg('\\n'.join)\n",
    "#    .reset_index(name=\"all_replies\",drop=False)\n",
    "#)\n"
   ]
  }
 ],
 "metadata": {
  "kernelspec": {
   "display_name": "Python 3 (ipykernel)",
   "language": "python",
   "name": "python3"
  },
  "language_info": {
   "codemirror_mode": {
    "name": "ipython",
    "version": 3
   },
   "file_extension": ".py",
   "mimetype": "text/x-python",
   "name": "python",
   "nbconvert_exporter": "python",
   "pygments_lexer": "ipython3",
   "version": "3.8.5"
  }
 },
 "nbformat": 4,
 "nbformat_minor": 5
}
